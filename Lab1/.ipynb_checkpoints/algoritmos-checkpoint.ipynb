{
 "cells": [
  {
   "cell_type": "code",
   "execution_count": 1,
   "id": "15584818-0103-4793-a09e-5f226c544a81",
   "metadata": {},
   "outputs": [],
   "source": [
    "import pandas\n",
    "import re"
   ]
  },
  {
   "cell_type": "markdown",
   "id": "1b1bfb37-810e-469e-bb6c-649dd38fad2a",
   "metadata": {},
   "source": [
    "### First functions"
   ]
  },
  {
   "cell_type": "code",
   "execution_count": 2,
   "id": "c1c7101c-8b02-4683-9fcf-7997d75ad74d",
   "metadata": {},
   "outputs": [],
   "source": [
    "#Evaluación REGEX\n",
    "def evaluate_Fx(str_equ, valX):\n",
    "    x = valX\n",
    "    #strOut = str_equ\n",
    "    strOut = str_equ.replace('x', '*(x)')\n",
    "    strOut = strOut.replace('^', '**')\n",
    "    out = eval(strOut)\n",
    "    print(strOut)\n",
    "    return out"
   ]
  },
  {
   "cell_type": "code",
   "execution_count": 3,
   "id": "106a16e4-7d3b-40de-9bb9-54b8d4ff49ea",
   "metadata": {},
   "outputs": [],
   "source": [
    "#Deferencias finitas para derivadas\n",
    "def evaluate_derivate_fx(str_equ, x, h):\n",
    "    x = float(x)\n",
    "    h = float(h)\n",
    "    strOut = str_equ.replace(\"x\", '*(x + h)')\n",
    "    strOut = strOut.replace(\"^\", \"**\")\n",
    "    strOut = \"-4*(\" + strOut + \")\"\n",
    "    out = eval(strOut)\n",
    "  \n",
    "    strOut = str_equ.replace(\"x\", '*(x + 2*h)')\n",
    "    strOut = strOut.replace(\"^\", \"**\")\n",
    "    out = out + eval(strOut)\n",
    "  \n",
    "    strOut = str_equ.replace(\"x\", '*(x)')\n",
    "    strOut = strOut.replace(\"^\", \"**\")\n",
    "    strOut = \"3*(\" + strOut + \")\"\n",
    "    out = out + eval(strOut)\n",
    "  \n",
    "    out = -out/(2*h)\n",
    "    print(out)\n",
    "    return out"
   ]
  },
  {
   "cell_type": "code",
   "execution_count": 4,
   "id": "6f7901b3-f2f8-4891-9a27-d47d250eb1e6",
   "metadata": {},
   "outputs": [],
   "source": [
    "#Resolvedor de Newton\n",
    "def newtonSolverX(x0, f_x, eps):\n",
    "    x0 = float(x0)\n",
    "    eps = float(eps)\n",
    "    xn = x0\n",
    "    error = 1\n",
    "    arrayIters = []\n",
    "    arrayF_x = []\n",
    "    arrayf_x = []\n",
    "    arrayXn = []\n",
    "    arrayErr = []\n",
    "  \n",
    "    i = 0\n",
    "    h = 0.000001\n",
    "    while(error > eps):\n",
    "        print(\"...\")\n",
    "        x_n1 = xn - (evaluate_Fx(f_x, xn)/evaluate_derivate_fx(f_x, xn, h))\n",
    "        error = abs(x_n1 - xn)\n",
    "        i += 1\n",
    "        xn = x_n1\n",
    "        arrayIters.append(i)\n",
    "        arrayXn.append(xn)\n",
    "        arrayErr.append(error)\n",
    "        solution = [i, xn, error]\n",
    "\n",
    "    print(\"Finalizo...\")\n",
    "    \n",
    "    TableOut = pandas.DataFrame({'Iter':arrayIters, 'Xn':arrayXn, 'Error': arrayErr})\n",
    "    return TableOut"
   ]
  },
  {
   "cell_type": "code",
   "execution_count": 5,
   "id": "9470bdd8-2be6-42dd-bd59-e3adc096512e",
   "metadata": {},
   "outputs": [],
   "source": [
    "def add(a, b):\n",
    "    a = int(a)\n",
    "    b = int(b)\n",
    "    resultado = a + b\n",
    "    return \"El resultado es: \" + str(resultado)"
   ]
  },
  {
   "cell_type": "markdown",
   "id": "b4e0ef37-f667-4795-881b-4dcbf2cc7e2d",
   "metadata": {},
   "source": [
    "### Lab1 Functions"
   ]
  },
  {
   "cell_type": "code",
   "execution_count": 6,
   "id": "723b68e1-f3c0-41d2-b14a-61623154371f",
   "metadata": {},
   "outputs": [],
   "source": [
    "def center_finite_derivative(str_equ, x, h):\n",
    "    x = float(x)\n",
    "    h = float(h)\n",
    "    f1 = f2 = '(' +  str_equ + ')'\n",
    "    \n",
    "    f1 = f1.replace('x', '*(x + h)')\n",
    "    f1 = f1.replace('^', '**')\n",
    "    \n",
    "    f2 = f2.replace('x', '*(x - h)')\n",
    "    f2 = f2.replace('^', '**')\n",
    "      \n",
    "    strOut = '(' + f1 + ' - ' + f2 + ')' + ' / (2 * h)'\n",
    "    #print(strOut)\n",
    "    result = eval(strOut)\n",
    "    return result"
   ]
  },
  {
   "cell_type": "code",
   "execution_count": 7,
   "id": "a19611ac-0fa8-43be-8e98-5f2ca7a6974d",
   "metadata": {},
   "outputs": [],
   "source": [
    "def progressive_finite_derivative(str_equ, x, h):\n",
    "    x = float(x)\n",
    "    h = float(h)\n",
    "    f1 = f2 = f3 = '(' +  str_equ + ')'\n",
    "   \n",
    "    f1 = f1.replace('x', '*(x)')\n",
    "    f1 = f1.replace('^', '**')\n",
    "    \n",
    "    f2 = f2.replace('x', '*(x + h)')\n",
    "    f2 = f2.replace('^', '**')\n",
    "    \n",
    "    f3 = f3.replace('x', '*(x + 2 * h)')\n",
    "    f3 = f3.replace('^', '**')\n",
    "      \n",
    "    strOut = '( -3 * ' + f1 + ' + 4 * ' + f2 + ' - ' + f3 + ')' + ' / (2 * h)'\n",
    "    #print(strOut)\n",
    "    result = eval(strOut)\n",
    "    return result"
   ]
  },
  {
   "cell_type": "code",
   "execution_count": 8,
   "id": "8787eea6-ad1d-459e-8df6-ac7e7fb08c44",
   "metadata": {},
   "outputs": [],
   "source": [
    "def center_finite_derivative_2(str_equ, x, h):\n",
    "    x = float(x)\n",
    "    h = float(h)\n",
    "    f1 = f2 = f3 = f4 = '(' +  str_equ + ')'\n",
    "    \n",
    "    f1 = f1.replace('x', '*(x + h)')\n",
    "    f1 = f1.replace('^', '**')\n",
    "    \n",
    "    f2 = f2.replace('x', '*(x - h)')\n",
    "    f2 = f2.replace('^', '**')\n",
    "    \n",
    "    f3 = f3.replace('x', '*(x + 2 * h)')\n",
    "    f3 = f3.replace('^', '**')\n",
    "    \n",
    "    f4 = f4.replace('x', '*(x - 2 * h)')\n",
    "    f4 = f4.replace('^', '**')\n",
    "      \n",
    "    strOut = '(' + f4 + ' - 8 * ' + f2 + ' + 8 * ' + f1 + ' - ' + f3 + ')' + ' / (12 * h)'\n",
    "    #print(strOut)\n",
    "    result = eval(strOut)\n",
    "    return result"
   ]
  },
  {
   "cell_type": "code",
   "execution_count": 9,
   "id": "f0d341f6-ab8c-4e99-9f4d-420ce19db737",
   "metadata": {},
   "outputs": [
    {
     "data": {
      "text/plain": [
       "122.0"
      ]
     },
     "execution_count": 9,
     "metadata": {},
     "output_type": "execute_result"
    }
   ],
   "source": [
    "center_finite_derivative(\"2x^5 - 3\", 1, 2)"
   ]
  },
  {
   "cell_type": "code",
   "execution_count": 10,
   "id": "f3850b85-954f-48c3-890a-0c1e19d3dcd9",
   "metadata": {},
   "outputs": [
    {
     "data": {
      "text/plain": [
       "-1078.0"
      ]
     },
     "execution_count": 10,
     "metadata": {},
     "output_type": "execute_result"
    }
   ],
   "source": [
    "progressive_finite_derivative(\"2x^5 - 3\", 1, 2)"
   ]
  },
  {
   "cell_type": "code",
   "execution_count": 11,
   "id": "796912bc-58b9-4212-ba04-3389567f732a",
   "metadata": {},
   "outputs": [
    {
     "data": {
      "text/plain": [
       "-118.0"
      ]
     },
     "execution_count": 11,
     "metadata": {},
     "output_type": "execute_result"
    }
   ],
   "source": [
    "center_finite_derivative_2(\"2x^5 - 3\", 1, 2)"
   ]
  },
  {
   "cell_type": "markdown",
   "id": "a407aed7-1950-426f-a668-16dc6b227dd4",
   "metadata": {},
   "source": [
    "### Lab2 Functions"
   ]
  },
  {
   "cell_type": "code",
   "execution_count": 26,
   "id": "269bd491-aaea-4c4d-aff4-67a3b217f49e",
   "metadata": {},
   "outputs": [],
   "source": [
    "def center_finite_derivative_v2(str_equ, p, h):\n",
    "    x = float(p[0])\n",
    "    y = float(p[1])\n",
    "    h = float(h)\n",
    "    \n",
    "    str_parciales = []\n",
    "    for var in ['x', 'y']:\n",
    "        equ = str_equ.replace('y', '*(y)') if var == 'x' else str_equ.replace('x', '*(x)')\n",
    "        f1 = f2 = '(' +  equ + ')'\n",
    " \n",
    "        f1 = f1.replace(var, '*(' + var + ' + h)')\n",
    "        f1 = f1.replace('^', '**')\n",
    "    \n",
    "        f2 = f2.replace(var, '*(' + var + ' - h)')\n",
    "        f2 = f2.replace('^', '**')\n",
    "      \n",
    "        strOut = '(' + f1 + ' - ' + f2 + ')' + ' / (2 * h)'\n",
    "        str_parciales.append(strOut)\n",
    "\n",
    "        \n",
    "    [print(parcial) for parcial in str_parciales]\n",
    "    result = [eval(parcial, {}, {'x': x, 'y': y, 'h': h}) for parcial in str_parciales]\n",
    "    return result"
   ]
  },
  {
   "cell_type": "code",
   "execution_count": 33,
   "id": "b4383ac3-31e3-4df1-bffc-ce65615044b3",
   "metadata": {},
   "outputs": [],
   "source": [
    "def progressive_finite_derivative_v2(str_equ, p, h):\n",
    "    x = float(p[0])\n",
    "    y = float(p[1])\n",
    "    h = float(h)\n",
    "     \n",
    "    str_parciales = []\n",
    "    for var in ['x', 'y']:\n",
    "        equ = str_equ.replace('y', '*(y)') if var == 'x' else str_equ.replace('x', '*(x)')\n",
    "        f1 = f2 = f3 = '(' +  equ + ')'\n",
    "   \n",
    "        f1 = f1.replace(var, '*(' + var + ')')\n",
    "        f1 = f1.replace('^', '**')\n",
    "\n",
    "        f2 = f2.replace(var, '*(' + var + ' + h)')\n",
    "        f2 = f2.replace('^', '**')\n",
    "\n",
    "        f3 = f3.replace(var, '*(' + var + ' + 2 * h)')\n",
    "        f3 = f3.replace('^', '**')\n",
    "        \n",
    "        strOut = '(-3 * ' + f1 + ' + 4 * ' + f2 + ' - ' + f3 + ')' + ' / (2 * h)'\n",
    "        str_parciales.append(strOut)\n",
    "        \n",
    "        \n",
    "    [print(parcial) for parcial in str_parciales]\n",
    "    result = [eval(parcial, {}, {'x': x, 'y': y, 'h': h}) for parcial in str_parciales]\n",
    "    return result"
   ]
  },
  {
   "cell_type": "code",
   "execution_count": 34,
   "id": "16c3a114-5e93-4744-b499-1040be1280b1",
   "metadata": {},
   "outputs": [],
   "source": [
    "def center_finite_derivative_2_v2(str_equ, p, h):\n",
    "    x = float(p[0])\n",
    "    y = float(p[1])\n",
    "    h = float(h)\n",
    "     \n",
    "    str_parciales = []\n",
    "    for var in ['x', 'y']:\n",
    "        equ = str_equ.replace('y', '*(y)') if var == 'x' else str_equ.replace('x', '*(x)')\n",
    "        f1 = f2 = f3 = f4 = '(' +  equ + ')'\n",
    "    \n",
    "        f1 = f1.replace(var, '*(' + var +' + h)')\n",
    "        f1 = f1.replace('^', '**')\n",
    "\n",
    "        f2 = f2.replace(var, '*(' + var + ' - h)')\n",
    "        f2 = f2.replace('^', '**')\n",
    "\n",
    "        f3 = f3.replace(var, '*(' + var + ' + 2 * h)')\n",
    "        f3 = f3.replace('^', '**')\n",
    "\n",
    "        f4 = f4.replace(var, '*(' + var +' - 2 * h)')\n",
    "        f4 = f4.replace('^', '**')\n",
    "        strOut = '(' + f4 + ' - 8 * ' + f2 + ' + 8 * ' + f1 + ' - ' + f3 + ')' + ' / (12 * h)'\n",
    "        str_parciales.append(strOut)\n",
    "      \n",
    "    \n",
    "    [print(parcial) for parcial in str_parciales]\n",
    "    result = [eval(parcial, {}, {'x': x, 'y': y, 'h': h}) for parcial in str_parciales]\n",
    "    return result"
   ]
  },
  {
   "cell_type": "code",
   "execution_count": 36,
   "id": "e336955f-ccf6-47a2-8f80-f6511bf0cb67",
   "metadata": {},
   "outputs": [
    {
     "name": "stdout",
     "output_type": "stream",
     "text": [
      "((3*(x - 2 * h)**4 - 2*(x - 2 * h)**3*(y) - 4*(x - 2 * h)**2*(y)**2 + 5*(x - 2 * h)*(y)**3 + 2*(y)**4) - 8 * (3*(x - h)**4 - 2*(x - h)**3*(y) - 4*(x - h)**2*(y)**2 + 5*(x - h)*(y)**3 + 2*(y)**4) + 8 * (3*(x + h)**4 - 2*(x + h)**3*(y) - 4*(x + h)**2*(y)**2 + 5*(x + h)*(y)**3 + 2*(y)**4) - (3*(x + 2 * h)**4 - 2*(x + 2 * h)**3*(y) - 4*(x + 2 * h)**2*(y)**2 + 5*(x + 2 * h)*(y)**3 + 2*(y)**4)) / (12 * h)\n",
      "((3*(x)**4 - 2*(x)**3*(y - 2 * h) - 4*(x)**2*(y - 2 * h)**2 + 5*(x)*(y - 2 * h)**3 + 2*(y - 2 * h)**4) - 8 * (3*(x)**4 - 2*(x)**3*(y - h) - 4*(x)**2*(y - h)**2 + 5*(x)*(y - h)**3 + 2*(y - h)**4) + 8 * (3*(x)**4 - 2*(x)**3*(y + h) - 4*(x)**2*(y + h)**2 + 5*(x)*(y + h)**3 + 2*(y + h)**4) - (3*(x)**4 - 2*(x)**3*(y + 2 * h) - 4*(x)**2*(y + 2 * h)**2 + 5*(x)*(y + 2 * h)**3 + 2*(y + 2 * h)**4)) / (12 * h)\n"
     ]
    },
    {
     "data": {
      "text/plain": [
       "[63.99999999992663, 848.0000000001743]"
      ]
     },
     "execution_count": 36,
     "metadata": {},
     "output_type": "execute_result"
    }
   ],
   "source": [
    "#center_finite_derivative_v2(\"3x^4 - 2x^3y - 4x^2y^2 + 5xy^3 + 2y^4\", ['2', '4'], 0.001)\n",
    "#progressive_finite_derivative_v2(\"3x^4 - 2x^3y - 4x^2y^2 + 5xy^3 + 2y^4\", ['2', '4'], 0.001)\n",
    "center_finite_derivative_2_v2(\"3x^4 - 2x^3y - 4x^2y^2 + 5xy^3 + 2y^4\", ['2', '4'], 0.001)"
   ]
  },
  {
   "cell_type": "code",
   "execution_count": null,
   "id": "a14c14f9-0e76-4666-bc66-d3ba99cc7a7e",
   "metadata": {},
   "outputs": [],
   "source": [
    "#txt = '((3*(x)**4 - 2*(x)**3*(y + h) - 4*(x)**2*(y + h)**2 + 5*(x)*(y + h)**3 + 2*(y + h)**4) - (3*(x)**4 - 2*(x)**3*(y - h) - 4*(x)**2*(y - h)**2 + 5*(x)*(y - h)**3 + 2*(y - h)**4)) / (2 * h)'\n",
    "#x = 3\n",
    "#y = 50\n",
    "#h = 0.1\n",
    "#eval(txt)"
   ]
  }
 ],
 "metadata": {
  "kernelspec": {
   "display_name": "Python 3",
   "language": "python",
   "name": "python3"
  },
  "language_info": {
   "codemirror_mode": {
    "name": "ipython",
    "version": 3
   },
   "file_extension": ".py",
   "mimetype": "text/x-python",
   "name": "python",
   "nbconvert_exporter": "python",
   "pygments_lexer": "ipython3",
   "version": "3.9.4"
  }
 },
 "nbformat": 4,
 "nbformat_minor": 5
}
