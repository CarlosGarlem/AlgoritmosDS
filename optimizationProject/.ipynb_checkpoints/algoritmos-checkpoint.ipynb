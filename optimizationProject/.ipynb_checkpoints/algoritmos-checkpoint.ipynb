{
 "cells": [
  {
   "cell_type": "code",
   "execution_count": 1,
   "id": "15584818-0103-4793-a09e-5f226c544a81",
   "metadata": {},
   "outputs": [],
   "source": [
    "import pandas as pd\n",
    "import numpy as np\n",
    "import math \n",
    "import re"
   ]
  },
  {
   "cell_type": "markdown",
   "id": "1b1bfb37-810e-469e-bb6c-649dd38fad2a",
   "metadata": {},
   "source": [
    "### Auxiliary functions"
   ]
  },
  {
   "cell_type": "code",
   "execution_count": 58,
   "id": "056b85ed-a8da-437e-b9cf-4caddfa3606d",
   "metadata": {},
   "outputs": [],
   "source": [
    "def format_equation(str_equ, exp = 'x', var = 'x'):\n",
    "    strOut = re.sub(r\"{}\".format(var), \"({})\".format(var), str_equ)\n",
    "    strOut = re.sub(r\"(?<=[A-Za-z0-9\\)])(\\({}\\))\".format(var), \"*({})\".format(var), strOut)\n",
    "    #strOut = re.sub(r\"\\^[Tt]\", \".T\", strOut)\n",
    "    strOut = re.sub(r\"(\\^\\({}\\))\".format(var), \"**({})\".format(var), strOut)\n",
    "    strOut = re.sub(r\"(\\({}\\))\".format(var), \"({})\".format(exp), strOut)\n",
    "    strOut = re.sub(r\"\\^\", \"**\", strOut)\n",
    "    \n",
    "    strOut = re.sub(r\"e\", \"math.e\", strOut)\n",
    "    strOut = re.sub(r\"pi\", \"math.pi\", strOut)\n",
    "    strOut = re.sub(r\"sin\", \"math.sin\", strOut)\n",
    "    strOut = re.sub(r\"cos\", \"math.cos\", strOut)\n",
    "    strOut = re.sub(r\"tan\", \"math.tan\", strOut)\n",
    "    strOut = re.sub(r\"(?<=[A-Za-z0-9\\)])(math.)\", \"*math.\", strOut)\n",
    "    return strOut"
   ]
  },
  {
   "cell_type": "code",
   "execution_count": 59,
   "id": "c7e2e840-a4cc-47b4-86b2-53ddbf9d2ed5",
   "metadata": {},
   "outputs": [],
   "source": [
    "def format_secondVar(str_equ, var):\n",
    "    strOut = re.sub(r\"(?<=[A-Za-z0-9\\)])({})\".format(var), \"*({})\".format(var), str_equ)\n",
    "    return strOut"
   ]
  },
  {
   "cell_type": "code",
   "execution_count": 60,
   "id": "76441cc6-566b-4ca1-ae67-28c5fd67d029",
   "metadata": {},
   "outputs": [
    {
     "data": {
      "text/plain": [
       "'1/2*(x + h)**TQ*(x + h) + c**T*(x + h)'"
      ]
     },
     "execution_count": 60,
     "metadata": {},
     "output_type": "execute_result"
    }
   ],
   "source": [
    "#format_equation(\"2x^5+ 3x + x^2 + e^x + 3xy + 3sin(y) - 4cos(x)\", 'x + h', 'y')\n",
    "format_equation(\"1/2x^TQx + c^Tx\", 'x + h', 'x')"
   ]
  },
  {
   "cell_type": "code",
   "execution_count": null,
   "id": "d3c470a4-c808-4eda-8cb3-958b52a60548",
   "metadata": {},
   "outputs": [],
   "source": [
    "#format_secondVar(\"3x^4 - 2x^3y - 4x^2y^2 + 5xy^3 + y^4\", 'x')"
   ]
  },
  {
   "cell_type": "code",
   "execution_count": 4,
   "id": "c1c7101c-8b02-4683-9fcf-7997d75ad74d",
   "metadata": {},
   "outputs": [],
   "source": [
    "def evaluate_Fx(str_equ, x):\n",
    "    x = float(x)\n",
    "    strOut = format_equation(str_equ, 'x')\n",
    "    result = eval(strOut)\n",
    "    return result"
   ]
  },
  {
   "cell_type": "code",
   "execution_count": 5,
   "id": "9c5122e5-4270-4c4e-9f4a-59c402eeacfd",
   "metadata": {},
   "outputs": [],
   "source": [
    "def finite_derivative(str_equ, x, h):\n",
    "    x = float(x)\n",
    "    h = float(h)\n",
    "    f1 = f2 = f3 = '(' +  str_equ + ')'\n",
    "    \n",
    "    f1 = format_equation(f1, 'x + 2*h')\n",
    "    f2 = format_equation(f2, 'x + h')\n",
    "    f3 = format_equation(f3, 'x')\n",
    "      \n",
    "    strOut = '(' + f1 + ' - 4 * ' + f2 + ' + 3 *' + f3 + ')' + ' / (2 * h)'\n",
    "    result = eval(strOut)\n",
    "    return result"
   ]
  },
  {
   "cell_type": "markdown",
   "id": "b4e0ef37-f667-4795-881b-4dcbf2cc7e2d",
   "metadata": {},
   "source": [
    "## Lab1 Functions (derivatives)"
   ]
  },
  {
   "cell_type": "markdown",
   "id": "0c8b07d3-5a7f-4969-9c7a-9ee41333d8ea",
   "metadata": {},
   "source": [
    "#### R1 functions"
   ]
  },
  {
   "cell_type": "code",
   "execution_count": 6,
   "id": "723b68e1-f3c0-41d2-b14a-61623154371f",
   "metadata": {},
   "outputs": [],
   "source": [
    "def center_finite_derivative(str_equ, x, h):\n",
    "    x = float(x)\n",
    "    h = float(h)\n",
    "    f1 = f2 = '(' +  str_equ + ')'\n",
    "    \n",
    "    f1 = format_equation(f1, 'x + h')\n",
    "    f2 = format_equation(f2, 'x - h')\n",
    "      \n",
    "    strOut = '(' + f1 + ' - ' + f2 + ')' + ' / (2 * h)'\n",
    "    result = eval(strOut)\n",
    "    return result"
   ]
  },
  {
   "cell_type": "code",
   "execution_count": 7,
   "id": "a19611ac-0fa8-43be-8e98-5f2ca7a6974d",
   "metadata": {},
   "outputs": [],
   "source": [
    "def progressive_finite_derivative(str_equ, x, h):\n",
    "    x = float(x)\n",
    "    h = float(h)\n",
    "    f1 = f2 = f3 = '(' +  str_equ + ')'\n",
    "   \n",
    "    f1 = format_equation(f1, 'x')\n",
    "    f2 = format_equation(f2, 'x + h')\n",
    "    f3 = format_equation(f3, 'x + 2*h')\n",
    "      \n",
    "    strOut = '( -3 * ' + f1 + ' + 4 * ' + f2 + ' - ' + f3 + ')' + ' / (2 * h)'\n",
    "    result = eval(strOut)\n",
    "    return result"
   ]
  },
  {
   "cell_type": "code",
   "execution_count": 8,
   "id": "8787eea6-ad1d-459e-8df6-ac7e7fb08c44",
   "metadata": {},
   "outputs": [],
   "source": [
    "def center_finite_derivative_2(str_equ, x, h):\n",
    "    x = float(x)\n",
    "    h = float(h)\n",
    "    f1 = f2 = f3 = f4 = '(' +  str_equ + ')'\n",
    "    \n",
    "    f1 = format_equation(f1, 'x + h')\n",
    "    f2 = format_equation(f2, 'x - h')   \n",
    "    f3 = format_equation(f3, 'x + 2*h')   \n",
    "    f4 = format_equation(f4, 'x - 2*h')   \n",
    "      \n",
    "    strOut = '(' + f4 + ' - 8 * ' + f2 + ' + 8 * ' + f1 + ' - ' + f3 + ')' + ' / (12 * h)'\n",
    "    result = eval(strOut)\n",
    "    return result"
   ]
  },
  {
   "cell_type": "code",
   "execution_count": null,
   "id": "f0d341f6-ab8c-4e99-9f4d-420ce19db737",
   "metadata": {},
   "outputs": [],
   "source": [
    "#center_finite_derivative(\"2x^5 - 3\", 1, 2)"
   ]
  },
  {
   "cell_type": "code",
   "execution_count": null,
   "id": "f3850b85-954f-48c3-890a-0c1e19d3dcd9",
   "metadata": {},
   "outputs": [],
   "source": [
    "#progressive_finite_derivative(\"2x^5 - 3\", 1, 2)"
   ]
  },
  {
   "cell_type": "code",
   "execution_count": null,
   "id": "796912bc-58b9-4212-ba04-3389567f732a",
   "metadata": {},
   "outputs": [],
   "source": [
    "#center_finite_derivative_2(\"2x^5 - 3\", 1, 2)"
   ]
  },
  {
   "cell_type": "markdown",
   "id": "a407aed7-1950-426f-a668-16dc6b227dd4",
   "metadata": {},
   "source": [
    "#### R2 Functions"
   ]
  },
  {
   "cell_type": "code",
   "execution_count": 9,
   "id": "269bd491-aaea-4c4d-aff4-67a3b217f49e",
   "metadata": {},
   "outputs": [],
   "source": [
    "def center_finite_derivative_r2(str_equ, p, h):\n",
    "    x = float(p[0])\n",
    "    y = float(p[1])\n",
    "    h = float(h)\n",
    "    \n",
    "    str_parciales = []\n",
    "    for var in ['x', 'y']:\n",
    "        #equ = str_equ.replace('y', '*(y)') if var == 'x' else str_equ.replace('x', '*(x)')\n",
    "        equ = format_secondVar(str_equ, 'y') if var == 'x' else format_secondVar(str_equ, 'x')\n",
    "        f1 = f2 = '(' +  equ + ')'\n",
    " \n",
    "        f1 = format_equation(f1, var + ' + h', var)   \n",
    "        f2 = format_equation(f2, var + ' - h', var)   \n",
    "      \n",
    "        strOut = '(' + f1 + ' - ' + f2 + ')' + ' / (2 * h)'\n",
    "        str_parciales.append(strOut)\n",
    "    \n",
    "    #[print(parcial) for parcial in str_parciales]\n",
    "    result = [eval(parcial, {}, {'x': x, 'y': y, 'h': h}) for parcial in str_parciales]\n",
    "    return result"
   ]
  },
  {
   "cell_type": "code",
   "execution_count": 10,
   "id": "b4383ac3-31e3-4df1-bffc-ce65615044b3",
   "metadata": {},
   "outputs": [],
   "source": [
    "def progressive_finite_derivative_r2(str_equ, p, h):\n",
    "    x = float(p[0])\n",
    "    y = float(p[1])\n",
    "    h = float(h)\n",
    "     \n",
    "    str_parciales = []\n",
    "    for var in ['x', 'y']:\n",
    "        equ = format_secondVar(str_equ, 'y') if var == 'x' else format_secondVar(str_equ, 'x')\n",
    "        f1 = f2 = f3 = '(' +  equ + ')'\n",
    "   \n",
    "        f1 = format_equation(f1, var, var)   \n",
    "        f2 = format_equation(f2, var + '+ h', var)   \n",
    "        f3 = format_equation(f3, var + ' + 2*h', var)   \n",
    "        \n",
    "        strOut = '(-3 * ' + f1 + ' + 4 * ' + f2 + ' - ' + f3 + ')' + ' / (2 * h)'\n",
    "        str_parciales.append(strOut)\n",
    "        \n",
    "        \n",
    "    #[print(parcial) for parcial in str_parciales]\n",
    "    result = [eval(parcial, {}, {'x': x, 'y': y, 'h': h}) for parcial in str_parciales]\n",
    "    return result"
   ]
  },
  {
   "cell_type": "code",
   "execution_count": 11,
   "id": "16c3a114-5e93-4744-b499-1040be1280b1",
   "metadata": {},
   "outputs": [],
   "source": [
    "def center_finite_derivative_2_r2(str_equ, p, h):\n",
    "    x = float(p[0])\n",
    "    y = float(p[1])\n",
    "    h = float(h)\n",
    "     \n",
    "    str_parciales = []\n",
    "    for var in ['x', 'y']:\n",
    "        equ = format_secondVar(str_equ, 'y') if var == 'x' else format_secondVar(str_equ, 'x')\n",
    "        f1 = f2 = f3 = f4 = '(' +  equ + ')'\n",
    "    \n",
    "        f1 = format_equation(f1, var + ' + h', var)   \n",
    "        f2 = format_equation(f2, var + ' - h', var)   \n",
    "        f3 = format_equation(f3, var + ' + 2*h', var)   \n",
    "        f4 = format_equation(f4, var + ' - 2*h', var)   \n",
    "        \n",
    "        strOut = '(' + f4 + ' - 8 * ' + f2 + ' + 8 * ' + f1 + ' - ' + f3 + ')' + ' / (12 * h)'\n",
    "        str_parciales.append(strOut)     \n",
    "    \n",
    "    #[print(parcial) for parcial in str_parciales]\n",
    "    result = [eval(parcial, {}, {'x': x, 'y': y, 'h': h}) for parcial in str_parciales]\n",
    "    return result"
   ]
  },
  {
   "cell_type": "code",
   "execution_count": null,
   "id": "d8570119-5198-4978-a44d-c117eb3395d5",
   "metadata": {},
   "outputs": [],
   "source": [
    "#format_secondVar(\"3x^4 - 2x^3y - 4x^2y^2 + 5xy^3 + 2y^4\", 'x')"
   ]
  },
  {
   "cell_type": "code",
   "execution_count": null,
   "id": "e336955f-ccf6-47a2-8f80-f6511bf0cb67",
   "metadata": {},
   "outputs": [],
   "source": [
    "#center_finite_derivative_r2(\"3x^4 - 2x^3y - 4x^2y^2 + 5xy^3 + 2y^4\", ['2', '4'], 0.001)\n",
    "#progressive_finite_derivative_r2(\"3x^4 - 2x^3y - 4x^2y^2 + 5xy^3 + 2y^4\", ['2', '4'], 0.001)\n",
    "#center_finite_derivative_2_r2(\"3x^4 - 2x^3y - 4x^2y^2 + 5xy^3 + 2y^4\", ['2', '3'], 0.001)"
   ]
  },
  {
   "cell_type": "code",
   "execution_count": 21,
   "id": "f1608211-0671-4764-a1b8-6f0df9815933",
   "metadata": {},
   "outputs": [
    {
     "data": {
      "text/plain": [
       "['x_1', 'x_2']"
      ]
     },
     "execution_count": 21,
     "metadata": {},
     "output_type": "execute_result"
    }
   ],
   "source": [
    "p = np.array(point, dtype = np.float32)\n",
    "all_vars = ['x_{}'.format(i) for i in range(0, len(p))]\n",
    "\n",
    "var = 'x_0'\n",
    "[incognita for incognita in all_vars if incognita != var]"
   ]
  },
  {
   "cell_type": "code",
   "execution_count": 54,
   "id": "83e4852e-bb37-46d1-9eb4-a9c68619b248",
   "metadata": {},
   "outputs": [
    {
     "data": {
      "text/plain": [
       "array([[1., 2., 3.]], dtype=float32)"
      ]
     },
     "execution_count": 54,
     "metadata": {},
     "output_type": "execute_result"
    }
   ],
   "source": [
    "p.reshape(3,1).T"
   ]
  },
  {
   "cell_type": "markdown",
   "id": "7a655b36-6fb0-46c8-8bc5-b93230c8710b",
   "metadata": {},
   "source": [
    "### Any R Space Derivative Function"
   ]
  },
  {
   "cell_type": "code",
   "execution_count": 45,
   "id": "774f9a53-20a2-42e0-865d-d8a9cf223d5f",
   "metadata": {},
   "outputs": [],
   "source": [
    "def center_finite_derivative_2_full(str_equ, p, h):\n",
    "    x = np.array(point, dtype = np.float32)\n",
    "    all_vars = ['x_{}'.format(i) for i in range(0, len(x))]\n",
    "    vars_dict = {var: x_val for (var, x_val) in zip(all_vars, x)}\n",
    "    vars_dict['h'] = h\n",
    "    \n",
    "    str_parciales = []\n",
    "    equ = str_equ\n",
    "    for i in range(0, len(x)):\n",
    "        var = 'x_{}'.format(i)\n",
    "        for incognita in all_vars:\n",
    "            if incognita != var:\n",
    "                equ = format_secondVar(equ, incognita)\n",
    "        f1 = f2 = f3 = f4 = '(' +  equ + ')'\n",
    "    \n",
    "        f1 = format_equation(f1, var + ' + h', var)   \n",
    "        f2 = format_equation(f2, var + ' - h', var)   \n",
    "        f3 = format_equation(f3, var + ' + 2*h', var)   \n",
    "        f4 = format_equation(f4, var + ' - 2*h', var)   \n",
    "        \n",
    "        strOut = '(' + f4 + ' - 8 * ' + f2 + ' + 8 * ' + f1 + ' - ' + f3 + ')' + ' / (12 * h)'\n",
    "        str_parciales.append(strOut)     \n",
    "    \n",
    "    #[print(parcial) for parcial in str_parciales]\n",
    "    result = [eval(parcial, {}, vars_dict) for parcial in str_parciales]\n",
    "    return result"
   ]
  },
  {
   "cell_type": "code",
   "execution_count": 46,
   "id": "534a243e-e775-4b4e-91af-721512d1863c",
   "metadata": {},
   "outputs": [
    {
     "data": {
      "text/plain": [
       "[13.000000000004045, -59.99999999999872, -47.9999999999959]"
      ]
     },
     "execution_count": 46,
     "metadata": {},
     "output_type": "execute_result"
    }
   ],
   "source": [
    "center_finite_derivative_2_full(\"3x_0^4 - 2x_1^3 - 4x_2^2x_1 + x_0\", ['1', '2', '3'], 0.001)"
   ]
  },
  {
   "cell_type": "markdown",
   "id": "e398b2e9-03b0-4183-85b2-d35089a26dec",
   "metadata": {},
   "source": [
    "## Lab2 Functions (ceros)"
   ]
  },
  {
   "cell_type": "code",
   "execution_count": 61,
   "id": "cb83f065-6b44-4bf8-9436-9fef43f8e867",
   "metadata": {},
   "outputs": [],
   "source": [
    "def metodo_biseccion(str_equ, interval, k_max, epsilon):\n",
    "    k = 0\n",
    "    a = float(interval[0])\n",
    "    b = float(interval[1])\n",
    "    error = float('inf')\n",
    "    data = {'Iter': [], 'Xn': [], 'Error': []}\n",
    "    \n",
    "    x_k = (a + b) / 2    \n",
    "    while k < k_max and error > epsilon:\n",
    "        Fa = evaluate_Fx(str_equ, a)\n",
    "        Fx_k = evaluate_Fx(str_equ, x_k)\n",
    "        if (Fa * Fx_k) < 0:\n",
    "            b = x_k\n",
    "        else:\n",
    "            a = x_k\n",
    "        \n",
    "        k += 1\n",
    "        x_k = (a + b) / 2\n",
    "        error = abs(Fx_k)\n",
    "        \n",
    "        data['Iter'].append(k)\n",
    "        data['Xn'].append(x_k)\n",
    "        data['Error'].append(error)\n",
    "        \n",
    "    results = pd.DataFrame(data)\n",
    "    return results"
   ]
  },
  {
   "cell_type": "code",
   "execution_count": 62,
   "id": "3bebef2a-c717-48cb-9f38-6b063e00610b",
   "metadata": {},
   "outputs": [],
   "source": [
    "def metodo_newton(str_equ, x_0, k_max, epsilon):\n",
    "    k = 0\n",
    "    x_k = x_0\n",
    "    error = float('inf')\n",
    "    data = {'Iter': [], 'Xn': [], 'Error': []}\n",
    "    \n",
    "    while k < k_max and error > epsilon:\n",
    "        Fx_k = evaluate_Fx(str_equ, x_k)\n",
    "        dev1_Fx_k = center_finite_derivative_2(str_equ, x_k, 0.00001)\n",
    "        \n",
    "        x_k1 = x_k - (Fx_k / dev1_Fx_k)\n",
    "        x_k = x_k1\n",
    "        k += 1\n",
    "        error = abs(Fx_k)\n",
    "        \n",
    "        data['Iter'].append(k)\n",
    "        data['Xn'].append(x_k)\n",
    "        data['Error'].append(error)\n",
    "        \n",
    "    results = pd.DataFrame(data)\n",
    "    return results"
   ]
  },
  {
   "cell_type": "code",
   "execution_count": null,
   "id": "56cb2ec4-9c1c-446d-a5b0-8478198065ed",
   "metadata": {},
   "outputs": [],
   "source": [
    "#equ = \"3x^2 + 4x - 3\"\n",
    "#equ = \"e^x + x^2\"\n",
    "\n",
    "#df = metodo_biseccion(equ, ['-4', '4'], 50, 0.001)\n",
    "#df = metodo_newton(equ, 0.1, 50, 0.0001)\n",
    "#df.tail()"
   ]
  },
  {
   "cell_type": "markdown",
   "id": "ecb70791-22c3-4542-8321-756344567aa8",
   "metadata": {},
   "source": [
    "## Lab3 Functions (GD)"
   ]
  },
  {
   "cell_type": "code",
   "execution_count": 75,
   "id": "b08f6aa3-2ab8-4d04-a5ba-dfb30c98277a",
   "metadata": {},
   "outputs": [],
   "source": [
    "def getLearningRate(opt, k, gradient = None, Q = None, alpha = 0.001):\n",
    "    if opt == 1: #exact step size\n",
    "        lr = (np.linalg.norm(gradient, 2)**2) / np.matmul(np.matmul(gradient.T, Q), gradient)\n",
    "        lr = lr[0, 0]\n",
    "    elif opt == 2: #constant step size\n",
    "        lr = alpha\n",
    "    elif opt == 3: #variable step size\n",
    "        lr = 1/k\n",
    "    else:\n",
    "        lr = 1\n",
    "        \n",
    "    return lr"
   ]
  },
  {
   "cell_type": "code",
   "execution_count": 109,
   "id": "7fe212ce-4d91-4658-83ec-f6dd225ebe46",
   "metadata": {},
   "outputs": [],
   "source": [
    "def gradient_descent(x_0, Q, c, kmax, epsilon, lr_type, alpha = 0.001):\n",
    "    k = 0\n",
    "    x_k = x_0\n",
    "    error = float('inf')\n",
    "    data = {'Iter': [], 'Xn': [], 'Pk': [], 'Error': []}\n",
    "      \n",
    "    while k < kmax and error > epsilon:\n",
    "        gradient = np.matmul(Q, x_k) + c\n",
    "        lr = getLearningRate(lr_type, k + 1, gradient, Q, alpha)\n",
    "        x_k1 = x_k - (lr * gradient)\n",
    "        \n",
    "        x_k = x_k1\n",
    "        k += 1\n",
    "        error = np.linalg.norm(gradient, 2)\n",
    "        \n",
    "        data['Iter'].append(k)\n",
    "        data['Xn'].append(x_k)\n",
    "        data['Pk'].append(-1 * gradient)\n",
    "        data['Error'].append(error)\n",
    "    \n",
    "    results = pd.DataFrame(data)\n",
    "    return results"
   ]
  },
  {
   "cell_type": "code",
   "execution_count": 112,
   "id": "46ec54e6-2b65-442e-9da5-98e4571bb728",
   "metadata": {},
   "outputs": [],
   "source": [
    "#First and second try\n",
    "Q = np.array([[2, -1, 0], [-1, 2, -1], [0, -1, 2]])\n",
    "c = np.array([1, 0 ,1]).reshape(3, 1)\n",
    "#x_0 = np.array([3, 5, 7]).reshape(3, 1)\n",
    "x_0 = np.array([-1, 2, -3]).reshape(3, 1)\n",
    "epsilon = 0.000001\n",
    "N = 30"
   ]
  },
  {
   "cell_type": "code",
   "execution_count": 113,
   "id": "5ed26354-b1e2-4ced-8cb1-5af6db25aaba",
   "metadata": {},
   "outputs": [
    {
     "data": {
      "text/html": [
       "<div>\n",
       "<style scoped>\n",
       "    .dataframe tbody tr th:only-of-type {\n",
       "        vertical-align: middle;\n",
       "    }\n",
       "\n",
       "    .dataframe tbody tr th {\n",
       "        vertical-align: top;\n",
       "    }\n",
       "\n",
       "    .dataframe thead th {\n",
       "        text-align: right;\n",
       "    }\n",
       "</style>\n",
       "<table border=\"1\" class=\"dataframe\">\n",
       "  <thead>\n",
       "    <tr style=\"text-align: right;\">\n",
       "      <th></th>\n",
       "      <th>Iter</th>\n",
       "      <th>Xn</th>\n",
       "      <th>Pk</th>\n",
       "      <th>Error</th>\n",
       "    </tr>\n",
       "  </thead>\n",
       "  <tbody>\n",
       "    <tr>\n",
       "      <th>25</th>\n",
       "      <td>26</td>\n",
       "      <td>[[-0.96131097477638], [-0.9453567883019318], [...</td>\n",
       "      <td>[[-0.023269898402111355], [-0.0326282458277951...</td>\n",
       "      <td>0.046342</td>\n",
       "    </tr>\n",
       "    <tr>\n",
       "      <th>26</th>\n",
       "      <td>27</td>\n",
       "      <td>[[-0.9621530058411641], [-0.9465385798926317],...</td>\n",
       "      <td>[[-0.022734838749171926], [-0.0319083729488962...</td>\n",
       "      <td>0.045298</td>\n",
       "    </tr>\n",
       "    <tr>\n",
       "      <th>27</th>\n",
       "      <td>28</td>\n",
       "      <td>[[-0.9629470261343893], [-0.9476538960318126],...</td>\n",
       "      <td>[[-0.022232568210303394], [-0.0312288518970649...</td>\n",
       "      <td>0.044315</td>\n",
       "    </tr>\n",
       "    <tr>\n",
       "      <th>28</th>\n",
       "      <td>29</td>\n",
       "      <td>[[-0.9636973655744939], [-0.9487085946595765],...</td>\n",
       "      <td>[[-0.02175984376303397], [-0.03058626020515342...</td>\n",
       "      <td>0.043388</td>\n",
       "    </tr>\n",
       "    <tr>\n",
       "      <th>29</th>\n",
       "      <td>30</td>\n",
       "      <td>[[-0.9644078276915136], [-0.9497078460539043],...</td>\n",
       "      <td>[[-0.021313863510588615], [-0.0299775418298349...</td>\n",
       "      <td>0.042511</td>\n",
       "    </tr>\n",
       "  </tbody>\n",
       "</table>\n",
       "</div>"
      ],
      "text/plain": [
       "    Iter                                                 Xn  \\\n",
       "25    26  [[-0.96131097477638], [-0.9453567883019318], [...   \n",
       "26    27  [[-0.9621530058411641], [-0.9465385798926317],...   \n",
       "27    28  [[-0.9629470261343893], [-0.9476538960318126],...   \n",
       "28    29  [[-0.9636973655744939], [-0.9487085946595765],...   \n",
       "29    30  [[-0.9644078276915136], [-0.9497078460539043],...   \n",
       "\n",
       "                                                   Pk     Error  \n",
       "25  [[-0.023269898402111355], [-0.0326282458277951...  0.046342  \n",
       "26  [[-0.022734838749171926], [-0.0319083729488962...  0.045298  \n",
       "27  [[-0.022232568210303394], [-0.0312288518970649...  0.044315  \n",
       "28  [[-0.02175984376303397], [-0.03058626020515342...  0.043388  \n",
       "29  [[-0.021313863510588615], [-0.0299775418298349...  0.042511  "
      ]
     },
     "execution_count": 113,
     "metadata": {},
     "output_type": "execute_result"
    }
   ],
   "source": [
    "data = gradient_descent(x_0, Q, c, N, epsilon, 3, alpha = 1)\n",
    "data.tail()"
   ]
  },
  {
   "cell_type": "code",
   "execution_count": 95,
   "id": "f6d33c4e-05ae-4bb3-af54-fcd0b2b622f4",
   "metadata": {},
   "outputs": [
    {
     "data": {
      "text/plain": [
       "(30, 4)"
      ]
     },
     "execution_count": 95,
     "metadata": {},
     "output_type": "execute_result"
    }
   ],
   "source": [
    "data.shape"
   ]
  }
 ],
 "metadata": {
  "kernelspec": {
   "display_name": "Python 3",
   "language": "python",
   "name": "python3"
  },
  "language_info": {
   "codemirror_mode": {
    "name": "ipython",
    "version": 3
   },
   "file_extension": ".py",
   "mimetype": "text/x-python",
   "name": "python",
   "nbconvert_exporter": "python",
   "pygments_lexer": "ipython3",
   "version": "3.9.4"
  }
 },
 "nbformat": 4,
 "nbformat_minor": 5
}
