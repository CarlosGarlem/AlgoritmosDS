{
 "cells": [
  {
   "cell_type": "code",
   "execution_count": 1,
   "id": "15584818-0103-4793-a09e-5f226c544a81",
   "metadata": {},
   "outputs": [],
   "source": [
    "import pandas as pd\n",
    "import numpy as np\n",
    "import math\n",
    "import pickle\n",
    "import matplotlib.pyplot as plt\n",
    "import sklearn.metrics as metrics\n",
    "import re"
   ]
  },
  {
   "cell_type": "markdown",
   "id": "1b1bfb37-810e-469e-bb6c-649dd38fad2a",
   "metadata": {},
   "source": [
    "### Auxiliary functions"
   ]
  },
  {
   "cell_type": "code",
   "execution_count": 2,
   "id": "056b85ed-a8da-437e-b9cf-4caddfa3606d",
   "metadata": {},
   "outputs": [],
   "source": [
    "def format_equation(str_equ, exp = 'x', var = 'x'):\n",
    "    strOut = re.sub(r\"{}\".format(var), \"({})\".format(var), str_equ)\n",
    "    strOut = re.sub(r\"(?<=[A-Za-z0-9\\)])(\\({}\\))\".format(var), \"*({})\".format(var), strOut)\n",
    "    strOut = re.sub(r\"(?<=[0-9])\\(\", \"*(\", strOut)\n",
    "    strOut = re.sub(r\"(\\^\\({}\\))\".format(var), \"**({})\".format(var), strOut)\n",
    "    strOut = re.sub(r\"(\\({}\\))\".format(var), \"({})\".format(exp), strOut)\n",
    "    strOut = re.sub(r\"\\^\", \"**\", strOut)\n",
    "    \n",
    "    strOut = re.sub(r\"e\", \"math.e\", strOut)\n",
    "    strOut = re.sub(r\"pi\", \"math.pi\", strOut)\n",
    "    strOut = re.sub(r\"sin\", \"math.sin\", strOut)\n",
    "    strOut = re.sub(r\"cos\", \"math.cos\", strOut)\n",
    "    strOut = re.sub(r\"tan\", \"math.tan\", strOut)\n",
    "    strOut = re.sub(r\"(?<=[A-Za-z0-9\\)])(math.)\", \"*math.\", strOut)\n",
    "    return strOut"
   ]
  },
  {
   "cell_type": "code",
   "execution_count": 3,
   "id": "c7e2e840-a4cc-47b4-86b2-53ddbf9d2ed5",
   "metadata": {},
   "outputs": [],
   "source": [
    "def format_secondVar(str_equ, var):\n",
    "    strOut = re.sub(r\"(?<=[A-Za-z0-9\\)])({})\".format(var), \"*({})\".format(var), str_equ)\n",
    "    return strOut"
   ]
  },
  {
   "cell_type": "code",
   "execution_count": 4,
   "id": "76441cc6-566b-4ca1-ae67-28c5fd67d029",
   "metadata": {},
   "outputs": [],
   "source": [
    "#format_equation(\"2x^5+ 3x + x^2 + e^x + 3xy + 3sin(y) - 4cos(x) + 100(x + y)\", 'x + h', 'y')\n",
    "#format_equation(\"1/2x^TQx + c^Tx\", 'x + h', 'x')"
   ]
  },
  {
   "cell_type": "code",
   "execution_count": 5,
   "id": "d3c470a4-c808-4eda-8cb3-958b52a60548",
   "metadata": {},
   "outputs": [],
   "source": [
    "#format_secondVar(\"3x^4 - 2x^3y - 4x^2y^2 + 5xy^3 + y^4\", 'x')"
   ]
  },
  {
   "cell_type": "code",
   "execution_count": 6,
   "id": "c1c7101c-8b02-4683-9fcf-7997d75ad74d",
   "metadata": {},
   "outputs": [],
   "source": [
    "def evaluate_Fx(str_equ, x):\n",
    "    x = float(x)\n",
    "    strOut = format_equation(str_equ, 'x')\n",
    "    result = eval(strOut)\n",
    "    return result"
   ]
  },
  {
   "cell_type": "code",
   "execution_count": 7,
   "id": "9c5122e5-4270-4c4e-9f4a-59c402eeacfd",
   "metadata": {},
   "outputs": [],
   "source": [
    "def finite_derivative(str_equ, x, h):\n",
    "    x = float(x)\n",
    "    h = float(h)\n",
    "    f1 = f2 = f3 = '(' +  str_equ + ')'\n",
    "    \n",
    "    f1 = format_equation(f1, 'x + 2*h')\n",
    "    f2 = format_equation(f2, 'x + h')\n",
    "    f3 = format_equation(f3, 'x')\n",
    "      \n",
    "    strOut = '(' + f1 + ' - 4 * ' + f2 + ' + 3 *' + f3 + ')' + ' / (2 * h)'\n",
    "    result = eval(strOut)\n",
    "    return result"
   ]
  },
  {
   "cell_type": "markdown",
   "id": "b4e0ef37-f667-4795-881b-4dcbf2cc7e2d",
   "metadata": {},
   "source": [
    "## Lab1 Functions (derivatives)"
   ]
  },
  {
   "cell_type": "markdown",
   "id": "0c8b07d3-5a7f-4969-9c7a-9ee41333d8ea",
   "metadata": {},
   "source": [
    "#### R1 functions"
   ]
  },
  {
   "cell_type": "code",
   "execution_count": 8,
   "id": "723b68e1-f3c0-41d2-b14a-61623154371f",
   "metadata": {},
   "outputs": [],
   "source": [
    "def center_finite_derivative(str_equ, x, h):\n",
    "    x = float(x)\n",
    "    h = float(h)\n",
    "    f1 = f2 = '(' +  str_equ + ')'\n",
    "    \n",
    "    f1 = format_equation(f1, 'x + h')\n",
    "    f2 = format_equation(f2, 'x - h')\n",
    "      \n",
    "    strOut = '(' + f1 + ' - ' + f2 + ')' + ' / (2 * h)'\n",
    "    result = eval(strOut)\n",
    "    return np.array(result, dtype = np.float32)"
   ]
  },
  {
   "cell_type": "code",
   "execution_count": 9,
   "id": "a19611ac-0fa8-43be-8e98-5f2ca7a6974d",
   "metadata": {},
   "outputs": [],
   "source": [
    "def progressive_finite_derivative(str_equ, x, h):\n",
    "    x = float(x)\n",
    "    h = float(h)\n",
    "    f1 = f2 = f3 = '(' +  str_equ + ')'\n",
    "   \n",
    "    f1 = format_equation(f1, 'x')\n",
    "    f2 = format_equation(f2, 'x + h')\n",
    "    f3 = format_equation(f3, 'x + 2*h')\n",
    "      \n",
    "    strOut = '( -3 * ' + f1 + ' + 4 * ' + f2 + ' - ' + f3 + ')' + ' / (2 * h)'\n",
    "    result = eval(strOut)\n",
    "    return np.array(result, dtype = np.float32)"
   ]
  },
  {
   "cell_type": "code",
   "execution_count": 10,
   "id": "8787eea6-ad1d-459e-8df6-ac7e7fb08c44",
   "metadata": {},
   "outputs": [],
   "source": [
    "def center_finite_derivative_2(str_equ, x, h):\n",
    "    x = float(x)\n",
    "    h = float(h)\n",
    "    f1 = f2 = f3 = f4 = '(' +  str_equ + ')'\n",
    "    \n",
    "    f1 = format_equation(f1, 'x + h')\n",
    "    f2 = format_equation(f2, 'x - h')   \n",
    "    f3 = format_equation(f3, 'x + 2*h')   \n",
    "    f4 = format_equation(f4, 'x - 2*h')   \n",
    "      \n",
    "    strOut = '(' + f4 + ' - 8 * ' + f2 + ' + 8 * ' + f1 + ' - ' + f3 + ')' + ' / (12 * h)'\n",
    "    result = eval(strOut)\n",
    "    return np.array(result, dtype = np.float32)"
   ]
  },
  {
   "cell_type": "code",
   "execution_count": 11,
   "id": "f0d341f6-ab8c-4e99-9f4d-420ce19db737",
   "metadata": {},
   "outputs": [],
   "source": [
    "#center_finite_derivative(\"2x^5 - 3\", 1, 2)"
   ]
  },
  {
   "cell_type": "code",
   "execution_count": 12,
   "id": "f3850b85-954f-48c3-890a-0c1e19d3dcd9",
   "metadata": {},
   "outputs": [],
   "source": [
    "#progressive_finite_derivative(\"2x^5 - 3\", 1, 2)"
   ]
  },
  {
   "cell_type": "code",
   "execution_count": 13,
   "id": "796912bc-58b9-4212-ba04-3389567f732a",
   "metadata": {},
   "outputs": [],
   "source": [
    "#center_finite_derivative_2(\"2x^5 - 3\", 1, 2)"
   ]
  },
  {
   "cell_type": "markdown",
   "id": "a407aed7-1950-426f-a668-16dc6b227dd4",
   "metadata": {},
   "source": [
    "#### R2 Functions"
   ]
  },
  {
   "cell_type": "code",
   "execution_count": 14,
   "id": "269bd491-aaea-4c4d-aff4-67a3b217f49e",
   "metadata": {},
   "outputs": [],
   "source": [
    "def center_finite_derivative_r2(str_equ, p, h):\n",
    "    x = float(p[0])\n",
    "    y = float(p[1])\n",
    "    h = float(h)\n",
    "    \n",
    "    str_parciales = []\n",
    "    for var in ['x', 'y']:\n",
    "        #equ = str_equ.replace('y', '*(y)') if var == 'x' else str_equ.replace('x', '*(x)')\n",
    "        equ = format_secondVar(str_equ, 'y') if var == 'x' else format_secondVar(str_equ, 'x')\n",
    "        f1 = f2 = '(' +  equ + ')'\n",
    " \n",
    "        f1 = format_equation(f1, var + ' + h', var)   \n",
    "        f2 = format_equation(f2, var + ' - h', var)   \n",
    "      \n",
    "        strOut = '(' + f1 + ' - ' + f2 + ')' + ' / (2 * h)'\n",
    "        str_parciales.append(strOut)\n",
    "    \n",
    "    #[print(parcial) for parcial in str_parciales]\n",
    "    result = [eval(parcial, {}, {'x': x, 'y': y, 'h': h}) for parcial in str_parciales]\n",
    "    return np.array(result, dtype = np.float32)"
   ]
  },
  {
   "cell_type": "code",
   "execution_count": 15,
   "id": "b4383ac3-31e3-4df1-bffc-ce65615044b3",
   "metadata": {},
   "outputs": [],
   "source": [
    "def progressive_finite_derivative_r2(str_equ, p, h):\n",
    "    x = float(p[0])\n",
    "    y = float(p[1])\n",
    "    h = float(h)\n",
    "     \n",
    "    str_parciales = []\n",
    "    for var in ['x', 'y']:\n",
    "        equ = format_secondVar(str_equ, 'y') if var == 'x' else format_secondVar(str_equ, 'x')\n",
    "        f1 = f2 = f3 = '(' +  equ + ')'\n",
    "   \n",
    "        f1 = format_equation(f1, var, var)   \n",
    "        f2 = format_equation(f2, var + '+ h', var)   \n",
    "        f3 = format_equation(f3, var + ' + 2*h', var)   \n",
    "        \n",
    "        strOut = '(-3 * ' + f1 + ' + 4 * ' + f2 + ' - ' + f3 + ')' + ' / (2 * h)'\n",
    "        str_parciales.append(strOut)\n",
    "        \n",
    "        \n",
    "    #[print(parcial) for parcial in str_parciales]\n",
    "    result = [eval(parcial, {}, {'x': x, 'y': y, 'h': h}) for parcial in str_parciales]\n",
    "    return np.array(result, dtype = np.float32)"
   ]
  },
  {
   "cell_type": "code",
   "execution_count": 16,
   "id": "16c3a114-5e93-4744-b499-1040be1280b1",
   "metadata": {},
   "outputs": [],
   "source": [
    "def center_finite_derivative_2_r2(str_equ, p, h):\n",
    "    x = float(p[0])\n",
    "    y = float(p[1])\n",
    "    h = float(h)\n",
    "     \n",
    "    str_parciales = []\n",
    "    for var in ['x', 'y']:\n",
    "        equ = format_secondVar(str_equ, 'y') if var == 'x' else format_secondVar(str_equ, 'x')\n",
    "        f1 = f2 = f3 = f4 = '(' +  equ + ')'\n",
    "    \n",
    "        f1 = format_equation(f1, var + ' + h', var)   \n",
    "        f2 = format_equation(f2, var + ' - h', var)   \n",
    "        f3 = format_equation(f3, var + ' + 2*h', var)   \n",
    "        f4 = format_equation(f4, var + ' - 2*h', var)   \n",
    "        \n",
    "        strOut = '(' + f4 + ' - 8 * ' + f2 + ' + 8 * ' + f1 + ' - ' + f3 + ')' + ' / (12 * h)'\n",
    "        str_parciales.append(strOut)     \n",
    "    \n",
    "    #[print(parcial) for parcial in str_parciales]\n",
    "    result = [eval(parcial, {}, {'x': x, 'y': y, 'h': h}) for parcial in str_parciales]\n",
    "    return np.array(result, dtype = np.float32)"
   ]
  },
  {
   "cell_type": "code",
   "execution_count": 17,
   "id": "d8570119-5198-4978-a44d-c117eb3395d5",
   "metadata": {},
   "outputs": [],
   "source": [
    "#format_secondVar(\"3x^4 - 2x^3y - 4x^2y^2 + 5xy^3 + 2y^4\", 'x')"
   ]
  },
  {
   "cell_type": "code",
   "execution_count": 18,
   "id": "e336955f-ccf6-47a2-8f80-f6511bf0cb67",
   "metadata": {},
   "outputs": [],
   "source": [
    "#center_finite_derivative_r2(\"3x^4 - 2x^3y - 4x^2y^2 + 5xy^3 + 2y^4\", ['2', '4'], 0.001)\n",
    "#progressive_finite_derivative_r2(\"3x^4 - 2x^3y - 4x^2y^2 + 5xy^3 + 2y^4\", ['2', '4'], 0.001)\n",
    "#center_finite_derivative_2_r2(\"3x^4 - 2x^3y - 4x^2y^2 + 5xy^3 + 2y^4\", ['2', '3'], 0.001)"
   ]
  },
  {
   "cell_type": "markdown",
   "id": "7a655b36-6fb0-46c8-8bc5-b93230c8710b",
   "metadata": {},
   "source": [
    "### Any R Space Derivative Function"
   ]
  },
  {
   "cell_type": "code",
   "execution_count": 19,
   "id": "774f9a53-20a2-42e0-865d-d8a9cf223d5f",
   "metadata": {},
   "outputs": [],
   "source": [
    "def center_finite_derivative_2_full(str_equ, p, h):\n",
    "    x = np.array(p, dtype = np.float32)\n",
    "    all_vars = ['x_{}'.format(i) for i in range(0, len(x))]\n",
    "    vars_dict = {var: x_val for (var, x_val) in zip(all_vars, x)}\n",
    "    vars_dict['h'] = h\n",
    "    \n",
    "    str_parciales = []\n",
    "    equ = str_equ\n",
    "    for i in range(0, len(x)):\n",
    "        var = 'x_{}'.format(i)\n",
    "        for incognita in all_vars:\n",
    "            if incognita != var:\n",
    "                equ = format_secondVar(equ, incognita)\n",
    "        f1 = f2 = f3 = f4 = '(' +  equ + ')'\n",
    "    \n",
    "        f1 = format_equation(f1, var + ' + h', var)   \n",
    "        f2 = format_equation(f2, var + ' - h', var)   \n",
    "        f3 = format_equation(f3, var + ' + 2*h', var)   \n",
    "        f4 = format_equation(f4, var + ' - 2*h', var)   \n",
    "        \n",
    "        strOut = '(' + f4 + ' - 8 * ' + f2 + ' + 8 * ' + f1 + ' - ' + f3 + ')' + ' / (12 * h)'\n",
    "        str_parciales.append(strOut)     \n",
    "    \n",
    "    #[print(parcial) for parcial in str_parciales]\n",
    "    result = [eval(parcial, {}, vars_dict) for parcial in str_parciales]\n",
    "    return np.array(result, dtype = np.float32)"
   ]
  },
  {
   "cell_type": "code",
   "execution_count": 20,
   "id": "534a243e-e775-4b4e-91af-721512d1863c",
   "metadata": {},
   "outputs": [],
   "source": [
    "#center_finite_derivative_2_full(\"3x_0^4 - 2x_1^3 - 4x_2^2x_1 + x_0\", ['1', '2', '3'], 0.001)"
   ]
  },
  {
   "cell_type": "markdown",
   "id": "e398b2e9-03b0-4183-85b2-d35089a26dec",
   "metadata": {},
   "source": [
    "## Lab2 Functions (ceros)"
   ]
  },
  {
   "cell_type": "code",
   "execution_count": 21,
   "id": "cb83f065-6b44-4bf8-9436-9fef43f8e867",
   "metadata": {},
   "outputs": [],
   "source": [
    "def metodo_biseccion(str_equ, interval, k_max, epsilon):\n",
    "    k = 0\n",
    "    a = float(interval[0])\n",
    "    b = float(interval[1])\n",
    "    error = float('inf')\n",
    "    data = {'Iter': [], 'Xn': [], 'Error': []}\n",
    "    \n",
    "    x_k = (a + b) / 2    \n",
    "    while k < k_max and error > epsilon:\n",
    "        Fa = evaluate_Fx(str_equ, a)\n",
    "        Fx_k = evaluate_Fx(str_equ, x_k)\n",
    "        if (Fa * Fx_k) < 0:\n",
    "            b = x_k\n",
    "        else:\n",
    "            a = x_k\n",
    "        \n",
    "        k += 1\n",
    "        x_k = (a + b) / 2\n",
    "        error = abs(Fx_k)\n",
    "        \n",
    "        data['Iter'].append(k)\n",
    "        data['Xn'].append(x_k)\n",
    "        data['Error'].append(error)\n",
    "        \n",
    "    results = pd.DataFrame(data)\n",
    "    return results"
   ]
  },
  {
   "cell_type": "code",
   "execution_count": 22,
   "id": "3bebef2a-c717-48cb-9f38-6b063e00610b",
   "metadata": {},
   "outputs": [],
   "source": [
    "def metodo_newton(str_equ, x_0, k_max, epsilon):\n",
    "    k = 0\n",
    "    x_k = x_0\n",
    "    error = float('inf')\n",
    "    data = {'Iter': [], 'Xn': [], 'Error': []}\n",
    "    \n",
    "    while k < k_max and error > epsilon:\n",
    "        Fx_k = evaluate_Fx(str_equ, x_k)\n",
    "        dev1_Fx_k = center_finite_derivative_2(str_equ, x_k, 0.00001)\n",
    "        \n",
    "        x_k1 = x_k - (Fx_k / dev1_Fx_k)\n",
    "        x_k = x_k1\n",
    "        k += 1\n",
    "        error = abs(Fx_k)\n",
    "        \n",
    "        data['Iter'].append(k)\n",
    "        data['Xn'].append(x_k)\n",
    "        data['Error'].append(error)\n",
    "        \n",
    "    results = pd.DataFrame(data)\n",
    "    return results"
   ]
  },
  {
   "cell_type": "code",
   "execution_count": 23,
   "id": "56cb2ec4-9c1c-446d-a5b0-8478198065ed",
   "metadata": {},
   "outputs": [],
   "source": [
    "#equ = \"3x^2 + 4x - 3\"\n",
    "#equ = \"e^x + x^2\"\n",
    "\n",
    "#df = metodo_biseccion(equ, ['-4', '4'], 50, 0.001)\n",
    "#df = metodo_newton(equ, 0.1, 50, 0.0001)\n",
    "#df.tail()"
   ]
  },
  {
   "cell_type": "markdown",
   "id": "ecb70791-22c3-4542-8321-756344567aa8",
   "metadata": {},
   "source": [
    "## Lab3 Functions (GD)"
   ]
  },
  {
   "cell_type": "code",
   "execution_count": 24,
   "id": "72c92f82-00f1-40fd-b95e-14185c77842d",
   "metadata": {},
   "outputs": [],
   "source": [
    "def parseInput(x, reshape = False):\n",
    "    if reshape:\n",
    "        rows = len(x)\n",
    "        x = np.array(x, dtype = 'float').reshape(rows, 1)\n",
    "    else:\n",
    "        x = np.array(x, dtype = 'float')\n",
    "\n",
    "    return x"
   ]
  },
  {
   "cell_type": "code",
   "execution_count": 25,
   "id": "b08f6aa3-2ab8-4d04-a5ba-dfb30c98277a",
   "metadata": {},
   "outputs": [],
   "source": [
    "def getLearningRate(opt, k, gradient = None, Q = None, alpha = 0.001):\n",
    "    if opt == 'Exacto':\n",
    "        lr = (np.linalg.norm(gradient, 2)**2) / np.matmul(np.matmul(gradient.T, Q), gradient)\n",
    "        lr = lr[0, 0]\n",
    "    elif opt == 'Constante':\n",
    "        lr = alpha\n",
    "    elif opt == 'Variable':\n",
    "        lr = 1/k\n",
    "    else:\n",
    "        lr = 1\n",
    "        \n",
    "    return lr"
   ]
  },
  {
   "cell_type": "code",
   "execution_count": 26,
   "id": "7fe212ce-4d91-4658-83ec-f6dd225ebe46",
   "metadata": {},
   "outputs": [],
   "source": [
    "def gradient_descent_QP(x_0, Q, c, kmax, epsilon, lr_type, alpha = 0.001):\n",
    "    k = 0\n",
    "    x_k = parseInput(x_0, reshape = True)\n",
    "    c = parseInput(c, reshape = True)\n",
    "    Q = parseInput(Q)\n",
    "    error = float('inf')\n",
    "    data = {'Iter': [], 'Xn': [], 'Pk': [], 'Error': []}\n",
    "      \n",
    "    while k < kmax and error > epsilon:\n",
    "        gradient = np.matmul(Q, x_k) + c\n",
    "        lr = getLearningRate(lr_type, k + 1, gradient, Q, alpha)\n",
    "        x_k1 = x_k - (lr * gradient)\n",
    "        \n",
    "        x_k = x_k1\n",
    "        k += 1\n",
    "        error = np.linalg.norm(gradient)\n",
    "        \n",
    "        data['Iter'].append(k)\n",
    "        data['Xn'].append(x_k)\n",
    "        data['Pk'].append(-1 * gradient)\n",
    "        data['Error'].append(error)     \n",
    "  \n",
    "    results = pd.DataFrame(data)\n",
    "    return results"
   ]
  },
  {
   "cell_type": "code",
   "execution_count": 27,
   "id": "46ec54e6-2b65-442e-9da5-98e4571bb728",
   "metadata": {},
   "outputs": [],
   "source": [
    "#First and second try\n",
    "Q = np.array([[2, -1, 0], [-1, 2, -1], [0, -1, 2]])\n",
    "c = np.array([1, 0 ,1]).reshape(3, 1)\n",
    "#x_0 = np.array([3, 5, 7]).reshape(3, 1)\n",
    "x_0 = np.array([-1, 2, -3])\n",
    "epsilon = 0.000001\n",
    "lr_type = ['Exacto', 'Constante', 'Variable']\n",
    "N = 30"
   ]
  },
  {
   "cell_type": "code",
   "execution_count": 28,
   "id": "5ed26354-b1e2-4ced-8cb1-5af6db25aaba",
   "metadata": {},
   "outputs": [],
   "source": [
    "#data = gradient_descent_QP(x_0, Q, c, N, epsilon, lr_type[0], alpha = 0.001)\n",
    "#data.tail()"
   ]
  },
  {
   "cell_type": "code",
   "execution_count": 29,
   "id": "84ba6bfb-bfdd-4aa9-b12f-24d140952ef8",
   "metadata": {},
   "outputs": [],
   "source": [
    "def getRosenbrockGradient(x0):\n",
    "    x = x0[0, 0]\n",
    "    y = x0[1, 0]\n",
    "    g1 = eval('400*(x**3) + 2*(x) - 400*(x)*(y) - 2', {}, {'x': x, 'y': y})\n",
    "    g2 = eval('-200*(x**2) + 200*(y)', {}, {'x': x, 'y': y})\n",
    "    gradient = np.array([g1, g2], dtype = 'float').reshape(2,1)\n",
    "    \n",
    "    return gradient"
   ]
  },
  {
   "cell_type": "code",
   "execution_count": 30,
   "id": "19ddf1c9-fc89-468d-9efd-aba72e5312c3",
   "metadata": {},
   "outputs": [],
   "source": [
    "def rosenbrock_gd(x_0, kmax, epsilon, lr):\n",
    "    k = 0\n",
    "    x_k = parseInput(x_0, reshape = True)\n",
    "    error = float('inf')\n",
    "    data = {'Iter': [], 'Xn': [], 'Pk': [], 'Error': []}\n",
    "      \n",
    "    while k < kmax and error > epsilon:\n",
    "        gradient = getRosenbrockGradient(x_k)\n",
    "        x_k1 = x_k - (lr * gradient)\n",
    "\n",
    "        x_k = x_k1\n",
    "        k += 1\n",
    "        error = np.linalg.norm(gradient)\n",
    "        \n",
    "        data['Iter'].append(k)\n",
    "        data['Xn'].append(x_k.round(7))\n",
    "        data['Pk'].append(-1 * gradient.round(7))\n",
    "        data['Error'].append(error.round(7))  \n",
    "    \n",
    "    results = pd.DataFrame(data)\n",
    "    return results"
   ]
  },
  {
   "cell_type": "code",
   "execution_count": 31,
   "id": "2c3edfa5-2ae2-4bdd-ab77-58bb88e03e0b",
   "metadata": {},
   "outputs": [],
   "source": [
    "#getRosenbrockGradient(np.array([30., 30.]).reshape(2,1))"
   ]
  },
  {
   "cell_type": "code",
   "execution_count": 32,
   "id": "65db08f7-812c-4894-a90a-5711244514eb",
   "metadata": {},
   "outputs": [],
   "source": [
    "#x_0 = np.array(['0', '0'])\n",
    "#alpha = 0.05\n",
    "#epsilon = 0.00000001\n",
    "#N = 1000"
   ]
  },
  {
   "cell_type": "code",
   "execution_count": 33,
   "id": "b827fe53-3c33-4c70-851e-ca2900abd246",
   "metadata": {},
   "outputs": [],
   "source": [
    "#rosenbrock_gd(x_0, N, epsilon, alpha)"
   ]
  },
  {
   "cell_type": "markdown",
   "source": [
    "### Lab4 (GD Variants and Newton)"
   ],
   "metadata": {
    "collapsed": false,
    "pycharm": {
     "name": "#%% md\n"
    }
   }
  },
  {
   "cell_type": "markdown",
   "source": [
    "### GD Variants"
   ],
   "metadata": {
    "collapsed": false,
    "pycharm": {
     "name": "#%% md\n"
    }
   }
  },
  {
   "cell_type": "code",
   "execution_count": 34,
   "outputs": [],
   "source": [
    "def generateData(d, n, path):\n",
    "    A = np.random.normal(0, 1, size = (n,d))\n",
    "    x_true = np.random.normal(0, 1, size = (d,1))\n",
    "    b = A.dot(x_true) + np.random.normal(0, 0.5, size = (n,1))\n",
    "    data = {'x_true': x_true, 'b': b, 'A': A}\n",
    "\n",
    "    with open(path, 'wb') as pickle_out:\n",
    "        pickle.dump(data, pickle_out)\n",
    "\n",
    "    return 'Data store successfully on path ' + path"
   ],
   "metadata": {
    "collapsed": false,
    "pycharm": {
     "name": "#%%\n"
    }
   }
  },
  {
   "cell_type": "code",
   "execution_count": 35,
   "outputs": [],
   "source": [
    "def getData(filepath):\n",
    "    with open(filepath,\"rb\") as pickle_in:\n",
    "        data = pickle.load(pickle_in)\n",
    "\n",
    "    A = data['A']\n",
    "    b = data['b']\n",
    "    x_true = data['x_true']\n",
    "\n",
    "    return A, b, x_true"
   ],
   "metadata": {
    "collapsed": false,
    "pycharm": {
     "name": "#%%\n"
    }
   }
  },
  {
   "cell_type": "code",
   "execution_count": 36,
   "outputs": [],
   "source": [
    "def getCloseSolution(path):\n",
    "    A, b, x_true = getData(path)\n",
    "    inverse = np.linalg.inv(np.matmul(A.T, A))\n",
    "    x = np.matmul(np.matmul(inverse, A.T), b)\n",
    "    #f_x = 0.5 * np.mean((np.matmul(A, x) - b)**2)\n",
    "    f_x = np.sum((np.matmul(A, x) - b)**2)\n",
    "    e_x = np.linalg.norm(x - x_true)\n",
    "\n",
    "    gradient = np.matmul(np.matmul(A.T, A), x) - np.matmul(A.T, b)\n",
    "    error = np.linalg.norm(gradient)\n",
    "    results = pd.DataFrame({'Iter': 1, 'Xn': [x], 'Error': error, 'F*': f_x, 'E_n': e_x})\n",
    "\n",
    "    return results"
   ],
   "metadata": {
    "collapsed": false,
    "pycharm": {
     "name": "#%%\n"
    }
   }
  },
  {
   "cell_type": "code",
   "execution_count": 37,
   "outputs": [],
   "source": [
    "def computeGD(x_0, A, b, x_true, kmax, lr, mb_size, epsilon):\n",
    "    k = 0\n",
    "    x_k = x_0\n",
    "    error = float('inf')\n",
    "    data = {'Iter': [], 'Xn': [], 'Pk': [], 'Error': [], 'F*': [], 'E_n': []}\n",
    "\n",
    "    mat = np.hstack((A,b))\n",
    "    while k < kmax and error > epsilon:\n",
    "        np.random.shuffle(mat) #in-place shuffle\n",
    "        iters = A.shape[0] // mb_size\n",
    "        for i in range(0, iters):\n",
    "            start = i * mb_size\n",
    "            end = (1+i) * mb_size\n",
    "            A_mb = mat[start:end, :-1]\n",
    "            b_mb = mat[start:end, -1]\n",
    "            b_mb = np.expand_dims(b_mb, axis = 1)\n",
    "\n",
    "            gradient = np.matmul(np.matmul(A_mb.T, A_mb), x_k) - np.matmul(A_mb.T, b_mb)\n",
    "            x_k1 = x_k - (lr * gradient)\n",
    "            x_k = x_k1\n",
    "\n",
    "        k += 1\n",
    "        f_k = np.sum((np.matmul(A, x_k) - b)**2)\n",
    "        e_k = np.linalg.norm(x_k - x_true)\n",
    "        error = np.linalg.norm(gradient)\n",
    "        data['Iter'].append(k)\n",
    "        data['Xn'].append(x_k.round(7))\n",
    "        data['Pk'].append(-1 * gradient.round(7))\n",
    "        data['Error'].append(error.round(7))\n",
    "        data['F*'].append(f_k.round(7))\n",
    "        data['E_n'].append(e_k.round(7))\n",
    "\n",
    "    results = pd.DataFrame(data)\n",
    "    return results"
   ],
   "metadata": {
    "collapsed": false,
    "pycharm": {
     "name": "#%%\n"
    }
   }
  },
  {
   "cell_type": "code",
   "execution_count": 46,
   "outputs": [],
   "source": [
    "def gdSolver(path, kmax, lr, mb_size, variant = 'GD', epsilon = 0.00000001):\n",
    "    A, b, x_true = getData(path)\n",
    "    x_0 = np.zeros_like(x_true)\n",
    "    if variant == 'GD':\n",
    "        df = computeGD(x_0, A, b, x_true, kmax, lr, A.shape[0], epsilon)\n",
    "    elif variant == 'SGD':\n",
    "        df = computeGD(x_0, A, b, x_true, kmax, lr, 1, epsilon)\n",
    "    elif variant == 'MBGD':\n",
    "        df = computeGD(x_0, A, b, x_true, kmax, lr, mb_size, epsilon)\n",
    "\n",
    "    return df"
   ],
   "metadata": {
    "collapsed": false,
    "pycharm": {
     "name": "#%%\n"
    }
   }
  },
  {
   "cell_type": "code",
   "execution_count": 39,
   "outputs": [
    {
     "data": {
      "text/plain": "'Data store successfully on path D:/cgarcia/Galileo/3er_Trimestre/AlgoritmosDS/Labs/AlgoritmosDS/optimizationProject/data/datos.pickle'"
     },
     "execution_count": 39,
     "metadata": {},
     "output_type": "execute_result"
    }
   ],
   "source": [
    "path = 'D:/cgarcia/Galileo/3er_Trimestre/AlgoritmosDS/Labs/AlgoritmosDS/optimizationProject/data/datos.pickle'\n",
    "generateData(100, 1000, path)"
   ],
   "metadata": {
    "collapsed": false,
    "pycharm": {
     "name": "#%%\n"
    }
   }
  },
  {
   "cell_type": "code",
   "execution_count": 40,
   "outputs": [],
   "source": [
    "A, b, x_true = getData(path)"
   ],
   "metadata": {
    "collapsed": false,
    "pycharm": {
     "name": "#%%\n"
    }
   }
  },
  {
   "cell_type": "code",
   "execution_count": 41,
   "outputs": [
    {
     "name": "stdout",
     "output_type": "stream",
     "text": [
      "(1000, 100)\n",
      "(1000, 1)\n",
      "(100, 1)\n"
     ]
    }
   ],
   "source": [
    "print(A.shape)\n",
    "print(b.shape)\n",
    "print(x_true.shape)"
   ],
   "metadata": {
    "collapsed": false,
    "pycharm": {
     "name": "#%%\n"
    }
   }
  },
  {
   "cell_type": "markdown",
   "source": [
    "##### Parte 1 - Solucion Cerrada"
   ],
   "metadata": {
    "collapsed": false,
    "pycharm": {
     "name": "#%% md\n"
    }
   }
  },
  {
   "cell_type": "code",
   "execution_count": 42,
   "outputs": [
    {
     "data": {
      "text/plain": "   Iter                                                 Xn         Error  \\\n0     1  [[0.44361037595792413], [-1.0943601113547323],...  4.328204e-12   \n\n           F*       E_n  \n0  221.585817  0.179147  ",
      "text/html": "<div>\n<style scoped>\n    .dataframe tbody tr th:only-of-type {\n        vertical-align: middle;\n    }\n\n    .dataframe tbody tr th {\n        vertical-align: top;\n    }\n\n    .dataframe thead th {\n        text-align: right;\n    }\n</style>\n<table border=\"1\" class=\"dataframe\">\n  <thead>\n    <tr style=\"text-align: right;\">\n      <th></th>\n      <th>Iter</th>\n      <th>Xn</th>\n      <th>Error</th>\n      <th>F*</th>\n      <th>E_n</th>\n    </tr>\n  </thead>\n  <tbody>\n    <tr>\n      <th>0</th>\n      <td>1</td>\n      <td>[[0.44361037595792413], [-1.0943601113547323],...</td>\n      <td>4.328204e-12</td>\n      <td>221.585817</td>\n      <td>0.179147</td>\n    </tr>\n  </tbody>\n</table>\n</div>"
     },
     "execution_count": 42,
     "metadata": {},
     "output_type": "execute_result"
    }
   ],
   "source": [
    "results = getCloseSolution(path)\n",
    "results"
   ],
   "metadata": {
    "collapsed": false,
    "pycharm": {
     "name": "#%%\n"
    }
   }
  },
  {
   "cell_type": "markdown",
   "source": [
    "##### Parte 2 - GD"
   ],
   "metadata": {
    "collapsed": false,
    "pycharm": {
     "name": "#%% md\n"
    }
   }
  },
  {
   "cell_type": "code",
   "execution_count": 47,
   "outputs": [],
   "source": [
    "lr_list = [0.00005, 0.0005, 0.0007]\n",
    "kmax = 1000"
   ],
   "metadata": {
    "collapsed": false,
    "pycharm": {
     "name": "#%%\n"
    }
   }
  },
  {
   "cell_type": "code",
   "execution_count": 48,
   "outputs": [
    {
     "name": "stdout",
     "output_type": "stream",
     "text": [
      "LR 5e-05-------------\n",
      "Error:  0.0\n",
      "F*:  209.4249692\n",
      "e_n:  0.1578749\n",
      "Iters:  976\n",
      "LR 0.0005-------------\n",
      "Error:  0.0\n",
      "F*:  209.4249692\n",
      "e_n:  0.1578749\n",
      "Iters:  87\n",
      "LR 0.0007-------------\n",
      "Error:  0.0\n",
      "F*:  209.4249692\n",
      "e_n:  0.1578749\n",
      "Iters:  59\n"
     ]
    },
    {
     "data": {
      "text/plain": "<Figure size 432x288 with 1 Axes>",
      "image/png": "[encoded data removed]"
     },
     "metadata": {
      "needs_background": "light"
     },
     "output_type": "display_data"
    }
   ],
   "source": [
    "for lr in lr_list:\n",
    "    df = gdSolver(path, kmax, lr, -1, 'GD', 0.00000001)\n",
    "    print('LR {}-------------'.format(lr))\n",
    "    print('Error: ',df.iloc[-1, -3])\n",
    "    print('F*: ',df.iloc[-1, -2])\n",
    "    print('e_n: ', df.iloc[-1, -1])\n",
    "    print('Iters: ', df.iloc[-1, 0])\n",
    "    plt.plot(np.arange(1,21), df.loc[:19, 'Error'], label = 'LR: {}'.format(lr))\n",
    "\n",
    "plt.title('GD')\n",
    "plt.xlabel('Iters')\n",
    "plt.ylabel('Error')\n",
    "plt.legend()\n",
    "plt.show()"
   ],
   "metadata": {
    "collapsed": false,
    "pycharm": {
     "name": "#%%\n"
    }
   }
  },
  {
   "cell_type": "code",
   "execution_count": 45,
   "outputs": [
    {
     "data": {
      "text/plain": "    Iter                                                 Xn  \\\n0      1  [[0.3316941], [-0.6351221], [-1.0072078], [-0....   \n1      2  [[0.3280242], [-0.8528846], [-1.0432093], [-0....   \n2      3  [[0.3818924], [-0.970867], [-1.0502287], [-0.2...   \n3      4  [[0.4067345], [-1.0294088], [-1.0551917], [-0....   \n4      5  [[0.4228596], [-1.0594202], [-1.060311], [-0.3...   \n5      6  [[0.4317988], [-1.0750997], [-1.0642234], [-0....   \n6      7  [[0.4369373], [-1.0834798], [-1.066922], [-0.3...   \n7      8  [[0.4398359], [-1.0880688], [-1.0686593], [-0....   \n8      9  [[0.4414763], [-1.0906438], [-1.0697388], [-0....   \n9     10  [[0.4424026], [-1.0921234], [-1.0703946], [-0....   \n10    11  [[0.4429261], [-1.0929924], [-1.0707877], [-0....   \n11    12  [[0.4432222], [-1.0935129], [-1.0710214], [-0....   \n12    13  [[0.44339], [-1.0938298], [-1.0711596], [-0.35...   \n13    14  [[0.4434851], [-1.0940254], [-1.0712411], [-0....   \n14    15  [[0.4435392], [-1.0941475], [-1.071289], [-0.3...   \n15    16  [[0.4435699], [-1.0942244], [-1.071317], [-0.3...   \n16    17  [[0.4435874], [-1.0942732], [-1.0713335], [-0....   \n17    18  [[0.4435974], [-1.0943043], [-1.071343], [-0.3...   \n18    19  [[0.443603], [-1.0943242], [-1.0713486], [-0.3...   \n19    20  [[0.4436062], [-1.0943369], [-1.0713518], [-0....   \n20    21  [[0.4436081], [-1.0943451], [-1.0713536], [-0....   \n21    22  [[0.4436091], [-1.0943504], [-1.0713547], [-0....   \n22    23  [[0.4436097], [-1.0943539], [-1.0713553], [-0....   \n23    24  [[0.44361], [-1.0943561], [-1.0713556], [-0.35...   \n24    25  [[0.4436102], [-1.0943575], [-1.0713557], [-0....   \n25    26  [[0.4436103], [-1.0943584], [-1.0713558], [-0....   \n26    27  [[0.4436103], [-1.094359], [-1.0713559], [-0.3...   \n27    28  [[0.4436104], [-1.0943594], [-1.0713559], [-0....   \n28    29  [[0.4436104], [-1.0943596], [-1.0713559], [-0....   \n29    30  [[0.4436104], [-1.0943598], [-1.0713559], [-0....   \n30    31  [[0.4436104], [-1.0943599], [-1.0713559], [-0....   \n31    32  [[0.4436104], [-1.09436], [-1.0713559], [-0.35...   \n32    33  [[0.4436104], [-1.09436], [-1.0713559], [-0.35...   \n33    34  [[0.4436104], [-1.0943601], [-1.0713559], [-0....   \n34    35  [[0.4436104], [-1.0943601], [-1.0713559], [-0....   \n35    36  [[0.4436104], [-1.0943601], [-1.0713559], [-0....   \n36    37  [[0.4436104], [-1.0943601], [-1.0713559], [-0....   \n37    38  [[0.4436104], [-1.0943601], [-1.0713559], [-0....   \n38    39  [[0.4436104], [-1.0943601], [-1.0713559], [-0....   \n39    40  [[0.4436104], [-1.0943601], [-1.0713559], [-0....   \n40    41  [[0.4436104], [-1.0943601], [-1.0713559], [-0....   \n41    42  [[0.4436104], [-1.0943601], [-1.0713559], [-0....   \n42    43  [[0.4436104], [-1.0943601], [-1.0713559], [-0....   \n43    44  [[0.4436104], [-1.0943601], [-1.0713559], [-0....   \n44    45  [[0.4436104], [-1.0943601], [-1.0713559], [-0....   \n45    46  [[0.4436104], [-1.0943601], [-1.0713559], [-0....   \n46    47  [[0.4436104], [-1.0943601], [-1.0713559], [-0....   \n47    48  [[0.4436104], [-1.0943601], [-1.0713559], [-0....   \n48    49  [[0.4436104], [-1.0943601], [-1.0713559], [-0....   \n49    50  [[0.4436104], [-1.0943601], [-1.0713559], [-0....   \n50    51  [[0.4436104], [-1.0943601], [-1.0713559], [-0....   \n51    52  [[0.4436104], [-1.0943601], [-1.0713559], [-0....   \n52    53  [[0.4436104], [-1.0943601], [-1.0713559], [-0....   \n53    54  [[0.4436104], [-1.0943601], [-1.0713559], [-0....   \n54    55  [[0.4436104], [-1.0943601], [-1.0713559], [-0....   \n55    56  [[0.4436104], [-1.0943601], [-1.0713559], [-0....   \n56    57  [[0.4436104], [-1.0943601], [-1.0713559], [-0....   \n57    58  [[0.4436104], [-1.0943601], [-1.0713559], [-0....   \n58    59  [[0.4436104], [-1.0943601], [-1.0713559], [-0....   \n59    60  [[0.4436104], [-1.0943601], [-1.0713559], [-0....   \n\n                                                   Pk         Error  \\\n0   [[473.848711], [-907.3172827], [-1438.8682709]...  1.033896e+04   \n1   [[-5.2427527], [-311.0893388], [-51.4307426], ...  2.682892e+03   \n2   [[76.9546023], [-168.5462689], [-10.0276525], ...  1.129881e+03   \n3   [[35.488689], [-83.6311267], [-7.0899912], [-6...  5.696785e+02   \n4   [[23.0359538], [-42.8734097], [-7.3133458], [-...  3.116862e+02   \n5   [[12.7702601], [-22.3993294], [-5.5891352], [-...  1.783905e+02   \n6   [[7.3406963], [-11.9714702], [-3.8551074], [-1...  1.050212e+02   \n7   [[4.1407734], [-6.5558157], [-2.4819291], [-8....  6.300211e+01   \n8   [[2.3434694], [-3.6785633], [-1.5420525], [-5....  3.829244e+01   \n9   [[1.3232612], [-2.1137209], [-0.936861], [-3.2...  2.349455e+01   \n10  [[0.7479048], [-1.2414485], [-0.5616255], [-2....  1.451739e+01   \n11  [[0.4230423], [-0.7434703], [-0.333874], [-1.2...  9.019779e+00   \n12  [[0.2396268], [-0.452707], [-0.197446], [-0.80...  5.628952e+00   \n13  [[0.1359308], [-0.2794786], [-0.1163632], [-0....  3.525847e+00   \n14  [[0.0772169], [-0.1744617], [-0.0684025], [-0....  2.215523e+00   \n15  [[0.0439139], [-0.109865], [-0.0401159], [-0.2...  1.396044e+00   \n16  [[0.0249923], [-0.0696595], [-0.0234653], [-0....  8.818749e-01   \n17  [[0.0142257], [-0.0443996], [-0.01368], [-0.08...  5.583454e-01   \n18  [[0.0080928], [-0.0284129], [-0.0079397], [-0....  3.542499e-01   \n19  [[0.0045974], [-0.018238], [-0.0045802], [-0.0...  2.251977e-01   \n20  [[0.0026053], [-0.0117339], [-0.0026206], [-0....  1.434208e-01   \n21  [[0.0014709], [-0.0075628], [-0.0014828], [-0....  9.149720e-02   \n22  [[0.0008262], [-0.004881], [-0.0008264], [-0.0...  5.846690e-02   \n23  [[0.0004608], [-0.0031536], [-0.0004509], [-0....  3.741810e-02   \n24  [[0.0002545], [-0.0020393], [-0.0002386], [-0....  2.398220e-02   \n25  [[0.0001388], [-0.0013196], [-0.0001206], [-0....  1.539220e-02   \n26  [[7.44e-05], [-0.0008544], [-5.63e-05], [-0.00...  9.892100e-03   \n27  [[3.89e-05], [-0.0005535], [-2.25e-05], [-0.00...  6.365300e-03   \n28  [[1.96e-05], [-0.0003588], [-5.6e-06], [-0.000...  4.100900e-03   \n29  [[9.3e-06], [-0.0002326], [2.2e-06], [-0.00039...  2.645000e-03   \n30  [[4e-06], [-0.0001509], [5.2e-06], [-0.0002506...  1.707800e-03   \n31  [[1.4e-06], [-9.79e-05], [5.8e-06], [-0.000160...  1.103900e-03   \n32  [[1e-07], [-6.36e-05], [5.4e-06], [-0.0001024]...  7.142000e-04   \n33  [[-4e-07], [-4.13e-05], [4.5e-06], [-6.54e-05]...  4.625000e-04   \n34  [[-5e-07], [-2.68e-05], [3.6e-06], [-4.18e-05]...  2.998000e-04   \n35  [[-5e-07], [-1.74e-05], [2.8e-06], [-2.67e-05]...  1.945000e-04   \n36  [[-4e-07], [-1.13e-05], [2.1e-06], [-1.71e-05]...  1.263000e-04   \n37  [[-3e-07], [-7.4e-06], [1.5e-06], [-1.09e-05],...  8.200000e-05   \n38  [[-3e-07], [-4.8e-06], [1.1e-06], [-7e-06], [9...  5.330000e-05   \n39  [[-2e-07], [-3.1e-06], [8e-07], [-4.4e-06], [6...  3.470000e-05   \n40  [[-1e-07], [-2e-06], [6e-07], [-2.8e-06], [4e-...  2.260000e-05   \n41  [[-1e-07], [-1.3e-06], [4e-07], [-1.8e-06], [2...  1.470000e-05   \n42  [[-1e-07], [-9e-07], [3e-07], [-1.2e-06], [1.7...  9.600000e-06   \n43  [[-0.0], [-6e-07], [2e-07], [-7e-07], [1.1e-06...  6.300000e-06   \n44  [[-0.0], [-4e-07], [1e-07], [-5e-07], [7e-07],...  4.100000e-06   \n45  [[-0.0], [-2e-07], [1e-07], [-3e-07], [5e-07],...  2.700000e-06   \n46  [[-0.0], [-2e-07], [1e-07], [-2e-07], [3e-07],...  1.700000e-06   \n47  [[-0.0], [-1e-07], [0.0], [-1e-07], [2e-07], [...  1.100000e-06   \n48  [[-0.0], [-1e-07], [0.0], [-1e-07], [1e-07], [...  7.000000e-07   \n49  [[-0.0], [-0.0], [0.0], [-0.0], [1e-07], [-1e-...  5.000000e-07   \n50  [[-0.0], [-0.0], [0.0], [-0.0], [1e-07], [-1e-...  3.000000e-07   \n51  [[-0.0], [-0.0], [0.0], [-0.0], [0.0], [-0.0],...  2.000000e-07   \n52  [[-0.0], [-0.0], [0.0], [-0.0], [0.0], [-0.0],...  1.000000e-07   \n53  [[-0.0], [-0.0], [0.0], [-0.0], [0.0], [-0.0],...  1.000000e-07   \n54  [[-0.0], [-0.0], [0.0], [-0.0], [0.0], [-0.0],...  1.000000e-07   \n55  [[-0.0], [-0.0], [0.0], [-0.0], [0.0], [-0.0],...  0.000000e+00   \n56  [[-0.0], [-0.0], [0.0], [-0.0], [0.0], [-0.0],...  0.000000e+00   \n57  [[-0.0], [-0.0], [0.0], [-0.0], [0.0], [-0.0],...  0.000000e+00   \n58  [[-0.0], [-0.0], [0.0], [-0.0], [0.0], [-0.0],...  0.000000e+00   \n59  [[-0.0], [-0.0], [0.0], [-0.0], [0.0], [-0.0],...  0.000000e+00   \n\n             F*       E_n  \n0   8932.766573  3.383966  \n1   2059.102206  1.659508  \n2    732.466483  0.904350  \n3    382.953220  0.523940  \n4    276.369974  0.326786  \n5    241.053548  0.230548  \n6    228.719204  0.190542  \n7    224.256585  0.177511  \n8    222.601671  0.174804  \n9    221.976887  0.175229  \n10   221.737810  0.176274  \n11   221.645356  0.177208  \n12   221.609295  0.177892  \n13   221.595129  0.178353  \n14   221.589530  0.178652  \n15   221.587304  0.178841  \n16   221.586415  0.178959  \n17   221.586059  0.179032  \n18   221.585915  0.179077  \n19   221.585857  0.179105  \n20   221.585833  0.179121  \n21   221.585824  0.179131  \n22   221.585820  0.179138  \n23   221.585818  0.179141  \n24   221.585817  0.179144  \n25   221.585817  0.179145  \n26   221.585817  0.179146  \n27   221.585817  0.179146  \n28   221.585817  0.179147  \n29   221.585817  0.179147  \n30   221.585817  0.179147  \n31   221.585817  0.179147  \n32   221.585817  0.179147  \n33   221.585817  0.179147  \n34   221.585817  0.179147  \n35   221.585817  0.179147  \n36   221.585817  0.179147  \n37   221.585817  0.179147  \n38   221.585817  0.179147  \n39   221.585817  0.179147  \n40   221.585817  0.179147  \n41   221.585817  0.179147  \n42   221.585817  0.179147  \n43   221.585817  0.179147  \n44   221.585817  0.179147  \n45   221.585817  0.179147  \n46   221.585817  0.179147  \n47   221.585817  0.179147  \n48   221.585817  0.179147  \n49   221.585817  0.179147  \n50   221.585817  0.179147  \n51   221.585817  0.179147  \n52   221.585817  0.179147  \n53   221.585817  0.179147  \n54   221.585817  0.179147  \n55   221.585817  0.179147  \n56   221.585817  0.179147  \n57   221.585817  0.179147  \n58   221.585817  0.179147  \n59   221.585817  0.179147  ",
      "text/html": "<div>\n<style scoped>\n    .dataframe tbody tr th:only-of-type {\n        vertical-align: middle;\n    }\n\n    .dataframe tbody tr th {\n        vertical-align: top;\n    }\n\n    .dataframe thead th {\n        text-align: right;\n    }\n</style>\n<table border=\"1\" class=\"dataframe\">\n  <thead>\n    <tr style=\"text-align: right;\">\n      <th></th>\n      <th>Iter</th>\n      <th>Xn</th>\n      <th>Pk</th>\n      <th>Error</th>\n      <th>F*</th>\n      <th>E_n</th>\n    </tr>\n  </thead>\n  <tbody>\n    <tr>\n      <th>0</th>\n      <td>1</td>\n      <td>[[0.3316941], [-0.6351221], [-1.0072078], [-0....</td>\n      <td>[[473.848711], [-907.3172827], [-1438.8682709]...</td>\n      <td>1.033896e+04</td>\n      <td>8932.766573</td>\n      <td>3.383966</td>\n    </tr>\n    <tr>\n      <th>1</th>\n      <td>2</td>\n      <td>[[0.3280242], [-0.8528846], [-1.0432093], [-0....</td>\n      <td>[[-5.2427527], [-311.0893388], [-51.4307426], ...</td>\n      <td>2.682892e+03</td>\n      <td>2059.102206</td>\n      <td>1.659508</td>\n    </tr>\n    <tr>\n      <th>2</th>\n      <td>3</td>\n      <td>[[0.3818924], [-0.970867], [-1.0502287], [-0.2...</td>\n      <td>[[76.9546023], [-168.5462689], [-10.0276525], ...</td>\n      <td>1.129881e+03</td>\n      <td>732.466483</td>\n      <td>0.904350</td>\n    </tr>\n    <tr>\n      <th>3</th>\n      <td>4</td>\n      <td>[[0.4067345], [-1.0294088], [-1.0551917], [-0....</td>\n      <td>[[35.488689], [-83.6311267], [-7.0899912], [-6...</td>\n      <td>5.696785e+02</td>\n      <td>382.953220</td>\n      <td>0.523940</td>\n    </tr>\n    <tr>\n      <th>4</th>\n      <td>5</td>\n      <td>[[0.4228596], [-1.0594202], [-1.060311], [-0.3...</td>\n      <td>[[23.0359538], [-42.8734097], [-7.3133458], [-...</td>\n      <td>3.116862e+02</td>\n      <td>276.369974</td>\n      <td>0.326786</td>\n    </tr>\n    <tr>\n      <th>5</th>\n      <td>6</td>\n      <td>[[0.4317988], [-1.0750997], [-1.0642234], [-0....</td>\n      <td>[[12.7702601], [-22.3993294], [-5.5891352], [-...</td>\n      <td>1.783905e+02</td>\n      <td>241.053548</td>\n      <td>0.230548</td>\n    </tr>\n    <tr>\n      <th>6</th>\n      <td>7</td>\n      <td>[[0.4369373], [-1.0834798], [-1.066922], [-0.3...</td>\n      <td>[[7.3406963], [-11.9714702], [-3.8551074], [-1...</td>\n      <td>1.050212e+02</td>\n      <td>228.719204</td>\n      <td>0.190542</td>\n    </tr>\n    <tr>\n      <th>7</th>\n      <td>8</td>\n      <td>[[0.4398359], [-1.0880688], [-1.0686593], [-0....</td>\n      <td>[[4.1407734], [-6.5558157], [-2.4819291], [-8....</td>\n      <td>6.300211e+01</td>\n      <td>224.256585</td>\n      <td>0.177511</td>\n    </tr>\n    <tr>\n      <th>8</th>\n      <td>9</td>\n      <td>[[0.4414763], [-1.0906438], [-1.0697388], [-0....</td>\n      <td>[[2.3434694], [-3.6785633], [-1.5420525], [-5....</td>\n      <td>3.829244e+01</td>\n      <td>222.601671</td>\n      <td>0.174804</td>\n    </tr>\n    <tr>\n      <th>9</th>\n      <td>10</td>\n      <td>[[0.4424026], [-1.0921234], [-1.0703946], [-0....</td>\n      <td>[[1.3232612], [-2.1137209], [-0.936861], [-3.2...</td>\n      <td>2.349455e+01</td>\n      <td>221.976887</td>\n      <td>0.175229</td>\n    </tr>\n    <tr>\n      <th>10</th>\n      <td>11</td>\n      <td>[[0.4429261], [-1.0929924], [-1.0707877], [-0....</td>\n      <td>[[0.7479048], [-1.2414485], [-0.5616255], [-2....</td>\n      <td>1.451739e+01</td>\n      <td>221.737810</td>\n      <td>0.176274</td>\n    </tr>\n    <tr>\n      <th>11</th>\n      <td>12</td>\n      <td>[[0.4432222], [-1.0935129], [-1.0710214], [-0....</td>\n      <td>[[0.4230423], [-0.7434703], [-0.333874], [-1.2...</td>\n      <td>9.019779e+00</td>\n      <td>221.645356</td>\n      <td>0.177208</td>\n    </tr>\n    <tr>\n      <th>12</th>\n      <td>13</td>\n      <td>[[0.44339], [-1.0938298], [-1.0711596], [-0.35...</td>\n      <td>[[0.2396268], [-0.452707], [-0.197446], [-0.80...</td>\n      <td>5.628952e+00</td>\n      <td>221.609295</td>\n      <td>0.177892</td>\n    </tr>\n    <tr>\n      <th>13</th>\n      <td>14</td>\n      <td>[[0.4434851], [-1.0940254], [-1.0712411], [-0....</td>\n      <td>[[0.1359308], [-0.2794786], [-0.1163632], [-0....</td>\n      <td>3.525847e+00</td>\n      <td>221.595129</td>\n      <td>0.178353</td>\n    </tr>\n    <tr>\n      <th>14</th>\n      <td>15</td>\n      <td>[[0.4435392], [-1.0941475], [-1.071289], [-0.3...</td>\n      <td>[[0.0772169], [-0.1744617], [-0.0684025], [-0....</td>\n      <td>2.215523e+00</td>\n      <td>221.589530</td>\n      <td>0.178652</td>\n    </tr>\n    <tr>\n      <th>15</th>\n      <td>16</td>\n      <td>[[0.4435699], [-1.0942244], [-1.071317], [-0.3...</td>\n      <td>[[0.0439139], [-0.109865], [-0.0401159], [-0.2...</td>\n      <td>1.396044e+00</td>\n      <td>221.587304</td>\n      <td>0.178841</td>\n    </tr>\n    <tr>\n      <th>16</th>\n      <td>17</td>\n      <td>[[0.4435874], [-1.0942732], [-1.0713335], [-0....</td>\n      <td>[[0.0249923], [-0.0696595], [-0.0234653], [-0....</td>\n      <td>8.818749e-01</td>\n      <td>221.586415</td>\n      <td>0.178959</td>\n    </tr>\n    <tr>\n      <th>17</th>\n      <td>18</td>\n      <td>[[0.4435974], [-1.0943043], [-1.071343], [-0.3...</td>\n      <td>[[0.0142257], [-0.0443996], [-0.01368], [-0.08...</td>\n      <td>5.583454e-01</td>\n      <td>221.586059</td>\n      <td>0.179032</td>\n    </tr>\n    <tr>\n      <th>18</th>\n      <td>19</td>\n      <td>[[0.443603], [-1.0943242], [-1.0713486], [-0.3...</td>\n      <td>[[0.0080928], [-0.0284129], [-0.0079397], [-0....</td>\n      <td>3.542499e-01</td>\n      <td>221.585915</td>\n      <td>0.179077</td>\n    </tr>\n    <tr>\n      <th>19</th>\n      <td>20</td>\n      <td>[[0.4436062], [-1.0943369], [-1.0713518], [-0....</td>\n      <td>[[0.0045974], [-0.018238], [-0.0045802], [-0.0...</td>\n      <td>2.251977e-01</td>\n      <td>221.585857</td>\n      <td>0.179105</td>\n    </tr>\n    <tr>\n      <th>20</th>\n      <td>21</td>\n      <td>[[0.4436081], [-1.0943451], [-1.0713536], [-0....</td>\n      <td>[[0.0026053], [-0.0117339], [-0.0026206], [-0....</td>\n      <td>1.434208e-01</td>\n      <td>221.585833</td>\n      <td>0.179121</td>\n    </tr>\n    <tr>\n      <th>21</th>\n      <td>22</td>\n      <td>[[0.4436091], [-1.0943504], [-1.0713547], [-0....</td>\n      <td>[[0.0014709], [-0.0075628], [-0.0014828], [-0....</td>\n      <td>9.149720e-02</td>\n      <td>221.585824</td>\n      <td>0.179131</td>\n    </tr>\n    <tr>\n      <th>22</th>\n      <td>23</td>\n      <td>[[0.4436097], [-1.0943539], [-1.0713553], [-0....</td>\n      <td>[[0.0008262], [-0.004881], [-0.0008264], [-0.0...</td>\n      <td>5.846690e-02</td>\n      <td>221.585820</td>\n      <td>0.179138</td>\n    </tr>\n    <tr>\n      <th>23</th>\n      <td>24</td>\n      <td>[[0.44361], [-1.0943561], [-1.0713556], [-0.35...</td>\n      <td>[[0.0004608], [-0.0031536], [-0.0004509], [-0....</td>\n      <td>3.741810e-02</td>\n      <td>221.585818</td>\n      <td>0.179141</td>\n    </tr>\n    <tr>\n      <th>24</th>\n      <td>25</td>\n      <td>[[0.4436102], [-1.0943575], [-1.0713557], [-0....</td>\n      <td>[[0.0002545], [-0.0020393], [-0.0002386], [-0....</td>\n      <td>2.398220e-02</td>\n      <td>221.585817</td>\n      <td>0.179144</td>\n    </tr>\n    <tr>\n      <th>25</th>\n      <td>26</td>\n      <td>[[0.4436103], [-1.0943584], [-1.0713558], [-0....</td>\n      <td>[[0.0001388], [-0.0013196], [-0.0001206], [-0....</td>\n      <td>1.539220e-02</td>\n      <td>221.585817</td>\n      <td>0.179145</td>\n    </tr>\n    <tr>\n      <th>26</th>\n      <td>27</td>\n      <td>[[0.4436103], [-1.094359], [-1.0713559], [-0.3...</td>\n      <td>[[7.44e-05], [-0.0008544], [-5.63e-05], [-0.00...</td>\n      <td>9.892100e-03</td>\n      <td>221.585817</td>\n      <td>0.179146</td>\n    </tr>\n    <tr>\n      <th>27</th>\n      <td>28</td>\n      <td>[[0.4436104], [-1.0943594], [-1.0713559], [-0....</td>\n      <td>[[3.89e-05], [-0.0005535], [-2.25e-05], [-0.00...</td>\n      <td>6.365300e-03</td>\n      <td>221.585817</td>\n      <td>0.179146</td>\n    </tr>\n    <tr>\n      <th>28</th>\n      <td>29</td>\n      <td>[[0.4436104], [-1.0943596], [-1.0713559], [-0....</td>\n      <td>[[1.96e-05], [-0.0003588], [-5.6e-06], [-0.000...</td>\n      <td>4.100900e-03</td>\n      <td>221.585817</td>\n      <td>0.179147</td>\n    </tr>\n    <tr>\n      <th>29</th>\n      <td>30</td>\n      <td>[[0.4436104], [-1.0943598], [-1.0713559], [-0....</td>\n      <td>[[9.3e-06], [-0.0002326], [2.2e-06], [-0.00039...</td>\n      <td>2.645000e-03</td>\n      <td>221.585817</td>\n      <td>0.179147</td>\n    </tr>\n    <tr>\n      <th>30</th>\n      <td>31</td>\n      <td>[[0.4436104], [-1.0943599], [-1.0713559], [-0....</td>\n      <td>[[4e-06], [-0.0001509], [5.2e-06], [-0.0002506...</td>\n      <td>1.707800e-03</td>\n      <td>221.585817</td>\n      <td>0.179147</td>\n    </tr>\n    <tr>\n      <th>31</th>\n      <td>32</td>\n      <td>[[0.4436104], [-1.09436], [-1.0713559], [-0.35...</td>\n      <td>[[1.4e-06], [-9.79e-05], [5.8e-06], [-0.000160...</td>\n      <td>1.103900e-03</td>\n      <td>221.585817</td>\n      <td>0.179147</td>\n    </tr>\n    <tr>\n      <th>32</th>\n      <td>33</td>\n      <td>[[0.4436104], [-1.09436], [-1.0713559], [-0.35...</td>\n      <td>[[1e-07], [-6.36e-05], [5.4e-06], [-0.0001024]...</td>\n      <td>7.142000e-04</td>\n      <td>221.585817</td>\n      <td>0.179147</td>\n    </tr>\n    <tr>\n      <th>33</th>\n      <td>34</td>\n      <td>[[0.4436104], [-1.0943601], [-1.0713559], [-0....</td>\n      <td>[[-4e-07], [-4.13e-05], [4.5e-06], [-6.54e-05]...</td>\n      <td>4.625000e-04</td>\n      <td>221.585817</td>\n      <td>0.179147</td>\n    </tr>\n    <tr>\n      <th>34</th>\n      <td>35</td>\n      <td>[[0.4436104], [-1.0943601], [-1.0713559], [-0....</td>\n      <td>[[-5e-07], [-2.68e-05], [3.6e-06], [-4.18e-05]...</td>\n      <td>2.998000e-04</td>\n      <td>221.585817</td>\n      <td>0.179147</td>\n    </tr>\n    <tr>\n      <th>35</th>\n      <td>36</td>\n      <td>[[0.4436104], [-1.0943601], [-1.0713559], [-0....</td>\n      <td>[[-5e-07], [-1.74e-05], [2.8e-06], [-2.67e-05]...</td>\n      <td>1.945000e-04</td>\n      <td>221.585817</td>\n      <td>0.179147</td>\n    </tr>\n    <tr>\n      <th>36</th>\n      <td>37</td>\n      <td>[[0.4436104], [-1.0943601], [-1.0713559], [-0....</td>\n      <td>[[-4e-07], [-1.13e-05], [2.1e-06], [-1.71e-05]...</td>\n      <td>1.263000e-04</td>\n      <td>221.585817</td>\n      <td>0.179147</td>\n    </tr>\n    <tr>\n      <th>37</th>\n      <td>38</td>\n      <td>[[0.4436104], [-1.0943601], [-1.0713559], [-0....</td>\n      <td>[[-3e-07], [-7.4e-06], [1.5e-06], [-1.09e-05],...</td>\n      <td>8.200000e-05</td>\n      <td>221.585817</td>\n      <td>0.179147</td>\n    </tr>\n    <tr>\n      <th>38</th>\n      <td>39</td>\n      <td>[[0.4436104], [-1.0943601], [-1.0713559], [-0....</td>\n      <td>[[-3e-07], [-4.8e-06], [1.1e-06], [-7e-06], [9...</td>\n      <td>5.330000e-05</td>\n      <td>221.585817</td>\n      <td>0.179147</td>\n    </tr>\n    <tr>\n      <th>39</th>\n      <td>40</td>\n      <td>[[0.4436104], [-1.0943601], [-1.0713559], [-0....</td>\n      <td>[[-2e-07], [-3.1e-06], [8e-07], [-4.4e-06], [6...</td>\n      <td>3.470000e-05</td>\n      <td>221.585817</td>\n      <td>0.179147</td>\n    </tr>\n    <tr>\n      <th>40</th>\n      <td>41</td>\n      <td>[[0.4436104], [-1.0943601], [-1.0713559], [-0....</td>\n      <td>[[-1e-07], [-2e-06], [6e-07], [-2.8e-06], [4e-...</td>\n      <td>2.260000e-05</td>\n      <td>221.585817</td>\n      <td>0.179147</td>\n    </tr>\n    <tr>\n      <th>41</th>\n      <td>42</td>\n      <td>[[0.4436104], [-1.0943601], [-1.0713559], [-0....</td>\n      <td>[[-1e-07], [-1.3e-06], [4e-07], [-1.8e-06], [2...</td>\n      <td>1.470000e-05</td>\n      <td>221.585817</td>\n      <td>0.179147</td>\n    </tr>\n    <tr>\n      <th>42</th>\n      <td>43</td>\n      <td>[[0.4436104], [-1.0943601], [-1.0713559], [-0....</td>\n      <td>[[-1e-07], [-9e-07], [3e-07], [-1.2e-06], [1.7...</td>\n      <td>9.600000e-06</td>\n      <td>221.585817</td>\n      <td>0.179147</td>\n    </tr>\n    <tr>\n      <th>43</th>\n      <td>44</td>\n      <td>[[0.4436104], [-1.0943601], [-1.0713559], [-0....</td>\n      <td>[[-0.0], [-6e-07], [2e-07], [-7e-07], [1.1e-06...</td>\n      <td>6.300000e-06</td>\n      <td>221.585817</td>\n      <td>0.179147</td>\n    </tr>\n    <tr>\n      <th>44</th>\n      <td>45</td>\n      <td>[[0.4436104], [-1.0943601], [-1.0713559], [-0....</td>\n      <td>[[-0.0], [-4e-07], [1e-07], [-5e-07], [7e-07],...</td>\n      <td>4.100000e-06</td>\n      <td>221.585817</td>\n      <td>0.179147</td>\n    </tr>\n    <tr>\n      <th>45</th>\n      <td>46</td>\n      <td>[[0.4436104], [-1.0943601], [-1.0713559], [-0....</td>\n      <td>[[-0.0], [-2e-07], [1e-07], [-3e-07], [5e-07],...</td>\n      <td>2.700000e-06</td>\n      <td>221.585817</td>\n      <td>0.179147</td>\n    </tr>\n    <tr>\n      <th>46</th>\n      <td>47</td>\n      <td>[[0.4436104], [-1.0943601], [-1.0713559], [-0....</td>\n      <td>[[-0.0], [-2e-07], [1e-07], [-2e-07], [3e-07],...</td>\n      <td>1.700000e-06</td>\n      <td>221.585817</td>\n      <td>0.179147</td>\n    </tr>\n    <tr>\n      <th>47</th>\n      <td>48</td>\n      <td>[[0.4436104], [-1.0943601], [-1.0713559], [-0....</td>\n      <td>[[-0.0], [-1e-07], [0.0], [-1e-07], [2e-07], [...</td>\n      <td>1.100000e-06</td>\n      <td>221.585817</td>\n      <td>0.179147</td>\n    </tr>\n    <tr>\n      <th>48</th>\n      <td>49</td>\n      <td>[[0.4436104], [-1.0943601], [-1.0713559], [-0....</td>\n      <td>[[-0.0], [-1e-07], [0.0], [-1e-07], [1e-07], [...</td>\n      <td>7.000000e-07</td>\n      <td>221.585817</td>\n      <td>0.179147</td>\n    </tr>\n    <tr>\n      <th>49</th>\n      <td>50</td>\n      <td>[[0.4436104], [-1.0943601], [-1.0713559], [-0....</td>\n      <td>[[-0.0], [-0.0], [0.0], [-0.0], [1e-07], [-1e-...</td>\n      <td>5.000000e-07</td>\n      <td>221.585817</td>\n      <td>0.179147</td>\n    </tr>\n    <tr>\n      <th>50</th>\n      <td>51</td>\n      <td>[[0.4436104], [-1.0943601], [-1.0713559], [-0....</td>\n      <td>[[-0.0], [-0.0], [0.0], [-0.0], [1e-07], [-1e-...</td>\n      <td>3.000000e-07</td>\n      <td>221.585817</td>\n      <td>0.179147</td>\n    </tr>\n    <tr>\n      <th>51</th>\n      <td>52</td>\n      <td>[[0.4436104], [-1.0943601], [-1.0713559], [-0....</td>\n      <td>[[-0.0], [-0.0], [0.0], [-0.0], [0.0], [-0.0],...</td>\n      <td>2.000000e-07</td>\n      <td>221.585817</td>\n      <td>0.179147</td>\n    </tr>\n    <tr>\n      <th>52</th>\n      <td>53</td>\n      <td>[[0.4436104], [-1.0943601], [-1.0713559], [-0....</td>\n      <td>[[-0.0], [-0.0], [0.0], [-0.0], [0.0], [-0.0],...</td>\n      <td>1.000000e-07</td>\n      <td>221.585817</td>\n      <td>0.179147</td>\n    </tr>\n    <tr>\n      <th>53</th>\n      <td>54</td>\n      <td>[[0.4436104], [-1.0943601], [-1.0713559], [-0....</td>\n      <td>[[-0.0], [-0.0], [0.0], [-0.0], [0.0], [-0.0],...</td>\n      <td>1.000000e-07</td>\n      <td>221.585817</td>\n      <td>0.179147</td>\n    </tr>\n    <tr>\n      <th>54</th>\n      <td>55</td>\n      <td>[[0.4436104], [-1.0943601], [-1.0713559], [-0....</td>\n      <td>[[-0.0], [-0.0], [0.0], [-0.0], [0.0], [-0.0],...</td>\n      <td>1.000000e-07</td>\n      <td>221.585817</td>\n      <td>0.179147</td>\n    </tr>\n    <tr>\n      <th>55</th>\n      <td>56</td>\n      <td>[[0.4436104], [-1.0943601], [-1.0713559], [-0....</td>\n      <td>[[-0.0], [-0.0], [0.0], [-0.0], [0.0], [-0.0],...</td>\n      <td>0.000000e+00</td>\n      <td>221.585817</td>\n      <td>0.179147</td>\n    </tr>\n    <tr>\n      <th>56</th>\n      <td>57</td>\n      <td>[[0.4436104], [-1.0943601], [-1.0713559], [-0....</td>\n      <td>[[-0.0], [-0.0], [0.0], [-0.0], [0.0], [-0.0],...</td>\n      <td>0.000000e+00</td>\n      <td>221.585817</td>\n      <td>0.179147</td>\n    </tr>\n    <tr>\n      <th>57</th>\n      <td>58</td>\n      <td>[[0.4436104], [-1.0943601], [-1.0713559], [-0....</td>\n      <td>[[-0.0], [-0.0], [0.0], [-0.0], [0.0], [-0.0],...</td>\n      <td>0.000000e+00</td>\n      <td>221.585817</td>\n      <td>0.179147</td>\n    </tr>\n    <tr>\n      <th>58</th>\n      <td>59</td>\n      <td>[[0.4436104], [-1.0943601], [-1.0713559], [-0....</td>\n      <td>[[-0.0], [-0.0], [0.0], [-0.0], [0.0], [-0.0],...</td>\n      <td>0.000000e+00</td>\n      <td>221.585817</td>\n      <td>0.179147</td>\n    </tr>\n    <tr>\n      <th>59</th>\n      <td>60</td>\n      <td>[[0.4436104], [-1.0943601], [-1.0713559], [-0....</td>\n      <td>[[-0.0], [-0.0], [0.0], [-0.0], [0.0], [-0.0],...</td>\n      <td>0.000000e+00</td>\n      <td>221.585817</td>\n      <td>0.179147</td>\n    </tr>\n  </tbody>\n</table>\n</div>"
     },
     "execution_count": 45,
     "metadata": {},
     "output_type": "execute_result"
    }
   ],
   "source": [
    "df"
   ],
   "metadata": {
    "collapsed": false,
    "pycharm": {
     "name": "#%%\n"
    }
   }
  },
  {
   "cell_type": "markdown",
   "source": [
    "##### Parte 3 - SGD"
   ],
   "metadata": {
    "collapsed": false,
    "pycharm": {
     "name": "#%% md\n"
    }
   }
  },
  {
   "cell_type": "code",
   "execution_count": null,
   "outputs": [],
   "source": [
    "lr_list = [0.0005, 0.005, 0.01]\n",
    "x_0 = np.zeros_like(x_true)\n",
    "kmax = 1000"
   ],
   "metadata": {
    "collapsed": false,
    "pycharm": {
     "name": "#%%\n"
    }
   }
  },
  {
   "cell_type": "code",
   "execution_count": null,
   "outputs": [],
   "source": [
    "for lr in lr_list:\n",
    "    df = gdSolver(path, kmax, lr, -1, 'SGD', 0.00000001)\n",
    "    print('LR {}-------------'.format(lr))\n",
    "    print('Error: ',df.iloc[-1, -3])\n",
    "    print('F*: ',df.iloc[-1, -2])\n",
    "    print('e_n: ', df.iloc[-1, -1])\n",
    "    print('Iters: ', df.iloc[-1, 0])\n",
    "\n",
    "    plt.plot(np.arange(1,21), df.loc[:19, 'Error'], label = 'LR: {}'.format(lr))\n",
    "\n",
    "plt.title('SGD')\n",
    "plt.xlabel('Iters')\n",
    "plt.ylabel('Error')\n",
    "plt.legend()\n",
    "plt.show()"
   ],
   "metadata": {
    "collapsed": false,
    "pycharm": {
     "name": "#%%\n"
    }
   }
  },
  {
   "cell_type": "code",
   "execution_count": null,
   "outputs": [],
   "source": [
    "df"
   ],
   "metadata": {
    "collapsed": false,
    "pycharm": {
     "name": "#%%\n"
    }
   }
  },
  {
   "cell_type": "markdown",
   "source": [
    "##### Parte 4 - MiniBatch-GD"
   ],
   "metadata": {
    "collapsed": false,
    "pycharm": {
     "name": "#%% md\n"
    }
   }
  },
  {
   "cell_type": "code",
   "execution_count": null,
   "outputs": [],
   "source": [
    "lr_list = [0.0005, 0.005, 0.01]\n",
    "mb_list = [25, 50, 100]\n",
    "x_0 = np.zeros_like(x_true)\n",
    "kmax = 1000"
   ],
   "metadata": {
    "collapsed": false,
    "pycharm": {
     "name": "#%%\n"
    }
   }
  },
  {
   "cell_type": "code",
   "execution_count": null,
   "outputs": [],
   "source": [
    "for lr in lr_list:\n",
    "    print('LR {}-------------'.format(lr))\n",
    "    for mb in mb_list:\n",
    "        df = gdSolver(path, kmax, lr, -1, 'MBGD', 0.00000001)\n",
    "        print('MB {}-------------'.format(mb))\n",
    "        print('Error: ',df.iloc[-1, -3])\n",
    "        print('F*: ',df.iloc[-1, -2])\n",
    "        print('e_n: ', df.iloc[-1, -1])\n",
    "        print('Iters: ', df.iloc[-1, 0])\n",
    "\n",
    "        plt.plot(np.arange(1,21), df.loc[:19, 'Error'], label = 'MB_size: {}'.format(mb))\n",
    "\n",
    "    plt.title('MB-GD LR = {}'.format(lr))\n",
    "    plt.xlabel('Iters')\n",
    "    plt.ylabel('Error')\n",
    "    plt.legend()\n",
    "    plt.show()"
   ],
   "metadata": {
    "collapsed": false,
    "pycharm": {
     "name": "#%%\n"
    }
   }
  },
  {
   "cell_type": "markdown",
   "source": [
    "#### Metodo de Newton"
   ],
   "metadata": {
    "collapsed": false,
    "pycharm": {
     "name": "#%% md\n"
    }
   }
  },
  {
   "cell_type": "markdown",
   "source": [
    "##### Parte 1 - GD con Backtracking line search"
   ],
   "metadata": {
    "collapsed": false,
    "pycharm": {
     "name": "#%% md\n"
    }
   }
  },
  {
   "cell_type": "code",
   "execution_count": 49,
   "outputs": [],
   "source": [
    "def evalRosenbrockFunction(x0):\n",
    "    x = x0[0, 0]\n",
    "    y = x0[1, 0]\n",
    "    rsb_function = '100*((y-x**2)**2) + (1 - x)**2'\n",
    "    result = eval(rsb_function, {}, {'x': x, 'y': y})\n",
    "    return result"
   ],
   "metadata": {
    "collapsed": false,
    "pycharm": {
     "name": "#%%\n"
    }
   }
  },
  {
   "cell_type": "code",
   "execution_count": 50,
   "outputs": [],
   "source": [
    "def backTrackingLineSearch(x_0, lr, ro, c):\n",
    "    x_k = x_0\n",
    "    condition = True\n",
    "\n",
    "    while condition:\n",
    "        gradient = getRosenbrockGradient(x_k)\n",
    "        x_k1 = x_k - (lr * gradient)\n",
    "\n",
    "        fk_1 = evalRosenbrockFunction(x_k1)\n",
    "        f_k = evalRosenbrockFunction(x_k)\n",
    "        rhs = c * lr * np.matmul(gradient.T, -gradient)\n",
    "\n",
    "        condition = (fk_1 > (f_k + rhs)) #the loop is the negated condition of the backtracking algorithm\n",
    "        lr *= ro\n",
    "\n",
    "    return lr"
   ],
   "metadata": {
    "collapsed": false,
    "pycharm": {
     "name": "#%%\n"
    }
   }
  },
  {
   "cell_type": "code",
   "execution_count": 51,
   "outputs": [],
   "source": [
    "def rosenbrock_backtracking(x_0, kmax, epsilon, alpha, ro = 0.5, c = 0.0001, lr_type = 'backtracking'):\n",
    "    k = 0\n",
    "    x_k = parseInput(x_0, reshape = True)\n",
    "    error = float('inf')\n",
    "    data = {'Iter': [], 'Xn': [], 'Pk': [], 'Error': []}\n",
    "\n",
    "    if lr_type == 'backtracking':\n",
    "        lr = backTrackingLineSearch(x_k, alpha, ro, c)\n",
    "    else: #else it would be constant\n",
    "        lr = alpha\n",
    "\n",
    "    while k < kmax and error > epsilon:\n",
    "        gradient = getRosenbrockGradient(x_k)\n",
    "        x_k1 = x_k - (lr * gradient)\n",
    "\n",
    "        x_k = x_k1\n",
    "        k += 1\n",
    "        error = np.linalg.norm(gradient, 2)\n",
    "\n",
    "        data['Iter'].append(k)\n",
    "        data['Xn'].append(x_k.round(7))\n",
    "        data['Pk'].append(-1 * gradient.round(7))\n",
    "        data['Error'].append(error.round(7))\n",
    "\n",
    "    results = pd.DataFrame(data)\n",
    "    return results, lr"
   ],
   "metadata": {
    "collapsed": false,
    "pycharm": {
     "name": "#%%\n"
    }
   }
  },
  {
   "cell_type": "code",
   "execution_count": 52,
   "outputs": [],
   "source": [
    "x_array = [np.array(['0', '0']), np.array(['0.6', '0.6']), np.array(['-0.5', '1']), np.array(['-1.2', '1'])]\n",
    "x_0 = x_array[0]\n",
    "epsilon = 0.00000001\n",
    "kmax = 1000\n",
    "\n",
    "alpha = 1 #0.0005\n",
    "ro = 0.5\n",
    "c = 0.0001"
   ],
   "metadata": {
    "collapsed": false,
    "pycharm": {
     "name": "#%%\n"
    }
   }
  },
  {
   "cell_type": "code",
   "execution_count": 53,
   "outputs": [
    {
     "name": "stdout",
     "output_type": "stream",
     "text": [
      "0.0625\n"
     ]
    },
    {
     "name": "stderr",
     "output_type": "stream",
     "text": [
      "<string>:1: RuntimeWarning: overflow encountered in double_scalars\n",
      "<string>:1: RuntimeWarning: invalid value encountered in double_scalars\n",
      "<string>:1: RuntimeWarning: overflow encountered in double_scalars\n"
     ]
    },
    {
     "data": {
      "text/plain": "   Iter                                                 Xn  \\\n4     5               [[9863998.5459775], [67135.9413718]]   \n5     6   [[-2.399379848648041e+22], [1216230840666006.2]]   \n6     7  [[3.4533216383577694e+68], [7.19627957262287e+...   \n7     8  [[-1.0295586658192725e+207], [1.49067879224374...   \n8     9                                     [[nan], [inf]]   \n\n                                                  Pk          Error  \n4           [[157825152.7490046], [1073627.2796407]]   1.578288e+08  \n5  [[-3.839007757836867e+23], [1.9459693449581924...   3.839008e+23  \n6  [[5.525314621372431e+69], [1.1514047316196592e...   5.525315e+69  \n7  [[-1.647293865310836e+208], [2.385086067589997...  1.647294e+208  \n8                                     [[nan], [inf]]            NaN  ",
      "text/html": "<div>\n<style scoped>\n    .dataframe tbody tr th:only-of-type {\n        vertical-align: middle;\n    }\n\n    .dataframe tbody tr th {\n        vertical-align: top;\n    }\n\n    .dataframe thead th {\n        text-align: right;\n    }\n</style>\n<table border=\"1\" class=\"dataframe\">\n  <thead>\n    <tr style=\"text-align: right;\">\n      <th></th>\n      <th>Iter</th>\n      <th>Xn</th>\n      <th>Pk</th>\n      <th>Error</th>\n    </tr>\n  </thead>\n  <tbody>\n    <tr>\n      <th>4</th>\n      <td>5</td>\n      <td>[[9863998.5459775], [67135.9413718]]</td>\n      <td>[[157825152.7490046], [1073627.2796407]]</td>\n      <td>1.578288e+08</td>\n    </tr>\n    <tr>\n      <th>5</th>\n      <td>6</td>\n      <td>[[-2.399379848648041e+22], [1216230840666006.2]]</td>\n      <td>[[-3.839007757836867e+23], [1.9459693449581924...</td>\n      <td>3.839008e+23</td>\n    </tr>\n    <tr>\n      <th>6</th>\n      <td>7</td>\n      <td>[[3.4533216383577694e+68], [7.19627957262287e+...</td>\n      <td>[[5.525314621372431e+69], [1.1514047316196592e...</td>\n      <td>5.525315e+69</td>\n    </tr>\n    <tr>\n      <th>7</th>\n      <td>8</td>\n      <td>[[-1.0295586658192725e+207], [1.49067879224374...</td>\n      <td>[[-1.647293865310836e+208], [2.385086067589997...</td>\n      <td>1.647294e+208</td>\n    </tr>\n    <tr>\n      <th>8</th>\n      <td>9</td>\n      <td>[[nan], [inf]]</td>\n      <td>[[nan], [inf]]</td>\n      <td>NaN</td>\n    </tr>\n  </tbody>\n</table>\n</div>"
     },
     "execution_count": 53,
     "metadata": {},
     "output_type": "execute_result"
    }
   ],
   "source": [
    "df, lr = rosenbrock_backtracking(x_0, kmax, epsilon, alpha, ro, c, 'backtracking')\n",
    "print(lr)\n",
    "df.tail()"
   ],
   "metadata": {
    "collapsed": false,
    "pycharm": {
     "name": "#%%\n"
    }
   }
  },
  {
   "cell_type": "markdown",
   "source": [
    "##### Parte 2 - Metodo de newton con Backtracking line search"
   ],
   "metadata": {
    "collapsed": false,
    "pycharm": {
     "name": "#%% md\n"
    }
   }
  },
  {
   "cell_type": "code",
   "execution_count": null,
   "outputs": [],
   "source": [
    "def getRosenbrockHessian(x0):\n",
    "    x = x0[0, 0]\n",
    "    y = x0[1, 0]\n",
    "    g1 = eval('1200*(x**2) - 400*(y) + 2', {}, {'x': x, 'y': y})\n",
    "    g2 = eval('-400*(x)', {}, {'x': x})\n",
    "    hessian = np.array([g1, g2, g2, 200], dtype = 'float').reshape(2,2)\n",
    "\n",
    "    return hessian"
   ],
   "metadata": {
    "collapsed": false,
    "pycharm": {
     "name": "#%%\n"
    }
   }
  },
  {
   "cell_type": "code",
   "execution_count": null,
   "outputs": [],
   "source": [
    "def newton_optimization(x_0, kmax, epsilon, alpha, ro = 0.5, c = 0.0001, lr_type = 'backtracking'):\n",
    "    k = 0\n",
    "    x_k = parseInput(x_0, reshape = True)\n",
    "    error = float('inf')\n",
    "    data = {'Iter': [], 'Xn': [], 'Pk': [], 'Error': []}\n",
    "\n",
    "    if lr_type == 'backtracking':\n",
    "        lr = backTrackingLineSearch(x_k, alpha, ro, c)\n",
    "    else: #else it would be constant\n",
    "        lr = alpha\n",
    "\n",
    "    while k < kmax and error > epsilon:\n",
    "        gradient = getRosenbrockGradient(x_k)\n",
    "        hessian = getRosenbrockHessian(x_k)\n",
    "        p_k = -1 * np.matmul(np.linalg.inv(hessian), gradient)\n",
    "        x_k1 = x_k + (lr * p_k)\n",
    "\n",
    "        x_k = x_k1\n",
    "        k += 1\n",
    "        error = np.linalg.norm(gradient, 2)\n",
    "\n",
    "        data['Iter'].append(k)\n",
    "        data['Xn'].append(x_k.round(7))\n",
    "        data['Pk'].append(p_k.round(7))\n",
    "        data['Error'].append(error.round(7))\n",
    "\n",
    "    results = pd.DataFrame(data)\n",
    "    return results, lr"
   ],
   "metadata": {
    "collapsed": false,
    "pycharm": {
     "name": "#%%\n"
    }
   }
  },
  {
   "cell_type": "code",
   "execution_count": null,
   "outputs": [],
   "source": [
    "x_array = [np.array(['0', '0']), np.array(['0.6', '0.6']), np.array(['-0.5', '1']), np.array(['-1.2', '1'])]\n",
    "x_0 = x_array[0]\n",
    "epsilon = 0.00000001\n",
    "kmax = 3000\n",
    "\n",
    "alpha = 1\n",
    "ro = 0.5\n",
    "c = 0.0001"
   ],
   "metadata": {
    "collapsed": false,
    "pycharm": {
     "name": "#%%\n"
    }
   }
  },
  {
   "cell_type": "code",
   "execution_count": null,
   "outputs": [],
   "source": [
    "df, lr = newton_optimization(x_0, kmax, epsilon, alpha, ro, c, 'backtracking')\n",
    "print(lr)\n",
    "df.tail()"
   ],
   "metadata": {
    "collapsed": false,
    "pycharm": {
     "name": "#%%\n"
    }
   }
  }
 ],
 "metadata": {
  "kernelspec": {
   "display_name": "Python 3",
   "language": "python",
   "name": "python3"
  },
  "language_info": {
   "codemirror_mode": {
    "name": "ipython",
    "version": 3
   },
   "file_extension": ".py",
   "mimetype": "text/x-python",
   "name": "python",
   "nbconvert_exporter": "python",
   "pygments_lexer": "ipython3",
   "version": "3.9.4"
  }
 },
 "nbformat": 4,
 "nbformat_minor": 5
}