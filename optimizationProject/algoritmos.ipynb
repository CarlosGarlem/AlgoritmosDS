{
 "cells": [
  {
   "cell_type": "code",
   "execution_count": 1,
   "id": "15584818-0103-4793-a09e-5f226c544a81",
   "metadata": {},
   "outputs": [],
   "source": [
    "import pandas as pd\n",
    "import numpy as np\n",
    "import math\n",
    "import matplotlib.pyplot as plt\n",
    "import re"
   ]
  },
  {
   "cell_type": "markdown",
   "id": "1b1bfb37-810e-469e-bb6c-649dd38fad2a",
   "metadata": {},
   "source": [
    "### Auxiliary functions"
   ]
  },
  {
   "cell_type": "code",
   "execution_count": 2,
   "id": "056b85ed-a8da-437e-b9cf-4caddfa3606d",
   "metadata": {},
   "outputs": [],
   "source": [
    "def format_equation(str_equ, exp = 'x', var = 'x'):\n",
    "    strOut = re.sub(r\"{}\".format(var), \"({})\".format(var), str_equ)\n",
    "    strOut = re.sub(r\"(?<=[A-Za-z0-9\\)])(\\({}\\))\".format(var), \"*({})\".format(var), strOut)\n",
    "    strOut = re.sub(r\"(?<=[0-9])\\(\", \"*(\", strOut)\n",
    "    strOut = re.sub(r\"(\\^\\({}\\))\".format(var), \"**({})\".format(var), strOut)\n",
    "    strOut = re.sub(r\"(\\({}\\))\".format(var), \"({})\".format(exp), strOut)\n",
    "    strOut = re.sub(r\"\\^\", \"**\", strOut)\n",
    "    \n",
    "    strOut = re.sub(r\"e\", \"math.e\", strOut)\n",
    "    strOut = re.sub(r\"pi\", \"math.pi\", strOut)\n",
    "    strOut = re.sub(r\"sin\", \"math.sin\", strOut)\n",
    "    strOut = re.sub(r\"cos\", \"math.cos\", strOut)\n",
    "    strOut = re.sub(r\"tan\", \"math.tan\", strOut)\n",
    "    strOut = re.sub(r\"(?<=[A-Za-z0-9\\)])(math.)\", \"*math.\", strOut)\n",
    "    return strOut"
   ]
  },
  {
   "cell_type": "code",
   "execution_count": 3,
   "id": "c7e2e840-a4cc-47b4-86b2-53ddbf9d2ed5",
   "metadata": {},
   "outputs": [],
   "source": [
    "def format_secondVar(str_equ, var):\n",
    "    strOut = re.sub(r\"(?<=[A-Za-z0-9\\)])({})\".format(var), \"*({})\".format(var), str_equ)\n",
    "    return strOut"
   ]
  },
  {
   "cell_type": "code",
   "execution_count": 4,
   "id": "76441cc6-566b-4ca1-ae67-28c5fd67d029",
   "metadata": {},
   "outputs": [],
   "source": [
    "#format_equation(\"2x^5+ 3x + x^2 + e^x + 3xy + 3sin(y) - 4cos(x) + 100(x + y)\", 'x + h', 'y')\n",
    "#format_equation(\"1/2x^TQx + c^Tx\", 'x + h', 'x')"
   ]
  },
  {
   "cell_type": "code",
   "execution_count": 5,
   "id": "d3c470a4-c808-4eda-8cb3-958b52a60548",
   "metadata": {},
   "outputs": [],
   "source": [
    "#format_secondVar(\"3x^4 - 2x^3y - 4x^2y^2 + 5xy^3 + y^4\", 'x')"
   ]
  },
  {
   "cell_type": "code",
   "execution_count": 6,
   "id": "c1c7101c-8b02-4683-9fcf-7997d75ad74d",
   "metadata": {},
   "outputs": [],
   "source": [
    "def evaluate_Fx(str_equ, x):\n",
    "    x = float(x)\n",
    "    strOut = format_equation(str_equ, 'x')\n",
    "    result = eval(strOut)\n",
    "    return result"
   ]
  },
  {
   "cell_type": "code",
   "execution_count": 7,
   "id": "9c5122e5-4270-4c4e-9f4a-59c402eeacfd",
   "metadata": {},
   "outputs": [],
   "source": [
    "def finite_derivative(str_equ, x, h):\n",
    "    x = float(x)\n",
    "    h = float(h)\n",
    "    f1 = f2 = f3 = '(' +  str_equ + ')'\n",
    "    \n",
    "    f1 = format_equation(f1, 'x + 2*h')\n",
    "    f2 = format_equation(f2, 'x + h')\n",
    "    f3 = format_equation(f3, 'x')\n",
    "      \n",
    "    strOut = '(' + f1 + ' - 4 * ' + f2 + ' + 3 *' + f3 + ')' + ' / (2 * h)'\n",
    "    result = eval(strOut)\n",
    "    return result"
   ]
  },
  {
   "cell_type": "markdown",
   "id": "b4e0ef37-f667-4795-881b-4dcbf2cc7e2d",
   "metadata": {},
   "source": [
    "## Lab1 Functions (derivatives)"
   ]
  },
  {
   "cell_type": "markdown",
   "id": "0c8b07d3-5a7f-4969-9c7a-9ee41333d8ea",
   "metadata": {},
   "source": [
    "#### R1 functions"
   ]
  },
  {
   "cell_type": "code",
   "execution_count": 8,
   "id": "723b68e1-f3c0-41d2-b14a-61623154371f",
   "metadata": {},
   "outputs": [],
   "source": [
    "def center_finite_derivative(str_equ, x, h):\n",
    "    x = float(x)\n",
    "    h = float(h)\n",
    "    f1 = f2 = '(' +  str_equ + ')'\n",
    "    \n",
    "    f1 = format_equation(f1, 'x + h')\n",
    "    f2 = format_equation(f2, 'x - h')\n",
    "      \n",
    "    strOut = '(' + f1 + ' - ' + f2 + ')' + ' / (2 * h)'\n",
    "    result = eval(strOut)\n",
    "    return np.array(result, dtype = np.float32)"
   ]
  },
  {
   "cell_type": "code",
   "execution_count": 9,
   "id": "a19611ac-0fa8-43be-8e98-5f2ca7a6974d",
   "metadata": {},
   "outputs": [],
   "source": [
    "def progressive_finite_derivative(str_equ, x, h):\n",
    "    x = float(x)\n",
    "    h = float(h)\n",
    "    f1 = f2 = f3 = '(' +  str_equ + ')'\n",
    "   \n",
    "    f1 = format_equation(f1, 'x')\n",
    "    f2 = format_equation(f2, 'x + h')\n",
    "    f3 = format_equation(f3, 'x + 2*h')\n",
    "      \n",
    "    strOut = '( -3 * ' + f1 + ' + 4 * ' + f2 + ' - ' + f3 + ')' + ' / (2 * h)'\n",
    "    result = eval(strOut)\n",
    "    return np.array(result, dtype = np.float32)"
   ]
  },
  {
   "cell_type": "code",
   "execution_count": 10,
   "id": "8787eea6-ad1d-459e-8df6-ac7e7fb08c44",
   "metadata": {},
   "outputs": [],
   "source": [
    "def center_finite_derivative_2(str_equ, x, h):\n",
    "    x = float(x)\n",
    "    h = float(h)\n",
    "    f1 = f2 = f3 = f4 = '(' +  str_equ + ')'\n",
    "    \n",
    "    f1 = format_equation(f1, 'x + h')\n",
    "    f2 = format_equation(f2, 'x - h')   \n",
    "    f3 = format_equation(f3, 'x + 2*h')   \n",
    "    f4 = format_equation(f4, 'x - 2*h')   \n",
    "      \n",
    "    strOut = '(' + f4 + ' - 8 * ' + f2 + ' + 8 * ' + f1 + ' - ' + f3 + ')' + ' / (12 * h)'\n",
    "    result = eval(strOut)\n",
    "    return np.array(result, dtype = np.float32)"
   ]
  },
  {
   "cell_type": "code",
   "execution_count": 11,
   "id": "f0d341f6-ab8c-4e99-9f4d-420ce19db737",
   "metadata": {},
   "outputs": [],
   "source": [
    "#center_finite_derivative(\"2x^5 - 3\", 1, 2)"
   ]
  },
  {
   "cell_type": "code",
   "execution_count": 12,
   "id": "f3850b85-954f-48c3-890a-0c1e19d3dcd9",
   "metadata": {},
   "outputs": [],
   "source": [
    "#progressive_finite_derivative(\"2x^5 - 3\", 1, 2)"
   ]
  },
  {
   "cell_type": "code",
   "execution_count": 13,
   "id": "796912bc-58b9-4212-ba04-3389567f732a",
   "metadata": {},
   "outputs": [],
   "source": [
    "#center_finite_derivative_2(\"2x^5 - 3\", 1, 2)"
   ]
  },
  {
   "cell_type": "markdown",
   "id": "a407aed7-1950-426f-a668-16dc6b227dd4",
   "metadata": {},
   "source": [
    "#### R2 Functions"
   ]
  },
  {
   "cell_type": "code",
   "execution_count": 14,
   "id": "269bd491-aaea-4c4d-aff4-67a3b217f49e",
   "metadata": {},
   "outputs": [],
   "source": [
    "def center_finite_derivative_r2(str_equ, p, h):\n",
    "    x = float(p[0])\n",
    "    y = float(p[1])\n",
    "    h = float(h)\n",
    "    \n",
    "    str_parciales = []\n",
    "    for var in ['x', 'y']:\n",
    "        #equ = str_equ.replace('y', '*(y)') if var == 'x' else str_equ.replace('x', '*(x)')\n",
    "        equ = format_secondVar(str_equ, 'y') if var == 'x' else format_secondVar(str_equ, 'x')\n",
    "        f1 = f2 = '(' +  equ + ')'\n",
    " \n",
    "        f1 = format_equation(f1, var + ' + h', var)   \n",
    "        f2 = format_equation(f2, var + ' - h', var)   \n",
    "      \n",
    "        strOut = '(' + f1 + ' - ' + f2 + ')' + ' / (2 * h)'\n",
    "        str_parciales.append(strOut)\n",
    "    \n",
    "    #[print(parcial) for parcial in str_parciales]\n",
    "    result = [eval(parcial, {}, {'x': x, 'y': y, 'h': h}) for parcial in str_parciales]\n",
    "    return np.array(result, dtype = np.float32)"
   ]
  },
  {
   "cell_type": "code",
   "execution_count": 15,
   "id": "b4383ac3-31e3-4df1-bffc-ce65615044b3",
   "metadata": {},
   "outputs": [],
   "source": [
    "def progressive_finite_derivative_r2(str_equ, p, h):\n",
    "    x = float(p[0])\n",
    "    y = float(p[1])\n",
    "    h = float(h)\n",
    "     \n",
    "    str_parciales = []\n",
    "    for var in ['x', 'y']:\n",
    "        equ = format_secondVar(str_equ, 'y') if var == 'x' else format_secondVar(str_equ, 'x')\n",
    "        f1 = f2 = f3 = '(' +  equ + ')'\n",
    "   \n",
    "        f1 = format_equation(f1, var, var)   \n",
    "        f2 = format_equation(f2, var + '+ h', var)   \n",
    "        f3 = format_equation(f3, var + ' + 2*h', var)   \n",
    "        \n",
    "        strOut = '(-3 * ' + f1 + ' + 4 * ' + f2 + ' - ' + f3 + ')' + ' / (2 * h)'\n",
    "        str_parciales.append(strOut)\n",
    "        \n",
    "        \n",
    "    #[print(parcial) for parcial in str_parciales]\n",
    "    result = [eval(parcial, {}, {'x': x, 'y': y, 'h': h}) for parcial in str_parciales]\n",
    "    return np.array(result, dtype = np.float32)"
   ]
  },
  {
   "cell_type": "code",
   "execution_count": 16,
   "id": "16c3a114-5e93-4744-b499-1040be1280b1",
   "metadata": {},
   "outputs": [],
   "source": [
    "def center_finite_derivative_2_r2(str_equ, p, h):\n",
    "    x = float(p[0])\n",
    "    y = float(p[1])\n",
    "    h = float(h)\n",
    "     \n",
    "    str_parciales = []\n",
    "    for var in ['x', 'y']:\n",
    "        equ = format_secondVar(str_equ, 'y') if var == 'x' else format_secondVar(str_equ, 'x')\n",
    "        f1 = f2 = f3 = f4 = '(' +  equ + ')'\n",
    "    \n",
    "        f1 = format_equation(f1, var + ' + h', var)   \n",
    "        f2 = format_equation(f2, var + ' - h', var)   \n",
    "        f3 = format_equation(f3, var + ' + 2*h', var)   \n",
    "        f4 = format_equation(f4, var + ' - 2*h', var)   \n",
    "        \n",
    "        strOut = '(' + f4 + ' - 8 * ' + f2 + ' + 8 * ' + f1 + ' - ' + f3 + ')' + ' / (12 * h)'\n",
    "        str_parciales.append(strOut)     \n",
    "    \n",
    "    #[print(parcial) for parcial in str_parciales]\n",
    "    result = [eval(parcial, {}, {'x': x, 'y': y, 'h': h}) for parcial in str_parciales]\n",
    "    return np.array(result, dtype = np.float32)"
   ]
  },
  {
   "cell_type": "code",
   "execution_count": 17,
   "id": "d8570119-5198-4978-a44d-c117eb3395d5",
   "metadata": {},
   "outputs": [],
   "source": [
    "#format_secondVar(\"3x^4 - 2x^3y - 4x^2y^2 + 5xy^3 + 2y^4\", 'x')"
   ]
  },
  {
   "cell_type": "code",
   "execution_count": 18,
   "id": "e336955f-ccf6-47a2-8f80-f6511bf0cb67",
   "metadata": {},
   "outputs": [],
   "source": [
    "#center_finite_derivative_r2(\"3x^4 - 2x^3y - 4x^2y^2 + 5xy^3 + 2y^4\", ['2', '4'], 0.001)\n",
    "#progressive_finite_derivative_r2(\"3x^4 - 2x^3y - 4x^2y^2 + 5xy^3 + 2y^4\", ['2', '4'], 0.001)\n",
    "#center_finite_derivative_2_r2(\"3x^4 - 2x^3y - 4x^2y^2 + 5xy^3 + 2y^4\", ['2', '3'], 0.001)"
   ]
  },
  {
   "cell_type": "markdown",
   "id": "7a655b36-6fb0-46c8-8bc5-b93230c8710b",
   "metadata": {},
   "source": [
    "### Any R Space Derivative Function"
   ]
  },
  {
   "cell_type": "code",
   "execution_count": 19,
   "id": "774f9a53-20a2-42e0-865d-d8a9cf223d5f",
   "metadata": {},
   "outputs": [],
   "source": [
    "def center_finite_derivative_2_full(str_equ, p, h):\n",
    "    x = np.array(p, dtype = np.float32)\n",
    "    all_vars = ['x_{}'.format(i) for i in range(0, len(x))]\n",
    "    vars_dict = {var: x_val for (var, x_val) in zip(all_vars, x)}\n",
    "    vars_dict['h'] = h\n",
    "    \n",
    "    str_parciales = []\n",
    "    equ = str_equ\n",
    "    for i in range(0, len(x)):\n",
    "        var = 'x_{}'.format(i)\n",
    "        for incognita in all_vars:\n",
    "            if incognita != var:\n",
    "                equ = format_secondVar(equ, incognita)\n",
    "        f1 = f2 = f3 = f4 = '(' +  equ + ')'\n",
    "    \n",
    "        f1 = format_equation(f1, var + ' + h', var)   \n",
    "        f2 = format_equation(f2, var + ' - h', var)   \n",
    "        f3 = format_equation(f3, var + ' + 2*h', var)   \n",
    "        f4 = format_equation(f4, var + ' - 2*h', var)   \n",
    "        \n",
    "        strOut = '(' + f4 + ' - 8 * ' + f2 + ' + 8 * ' + f1 + ' - ' + f3 + ')' + ' / (12 * h)'\n",
    "        str_parciales.append(strOut)     \n",
    "    \n",
    "    #[print(parcial) for parcial in str_parciales]\n",
    "    result = [eval(parcial, {}, vars_dict) for parcial in str_parciales]\n",
    "    return np.array(result, dtype = np.float32)"
   ]
  },
  {
   "cell_type": "code",
   "execution_count": 20,
   "id": "534a243e-e775-4b4e-91af-721512d1863c",
   "metadata": {},
   "outputs": [],
   "source": [
    "#center_finite_derivative_2_full(\"3x_0^4 - 2x_1^3 - 4x_2^2x_1 + x_0\", ['1', '2', '3'], 0.001)"
   ]
  },
  {
   "cell_type": "markdown",
   "id": "e398b2e9-03b0-4183-85b2-d35089a26dec",
   "metadata": {},
   "source": [
    "## Lab2 Functions (ceros)"
   ]
  },
  {
   "cell_type": "code",
   "execution_count": 21,
   "id": "cb83f065-6b44-4bf8-9436-9fef43f8e867",
   "metadata": {},
   "outputs": [],
   "source": [
    "def metodo_biseccion(str_equ, interval, k_max, epsilon):\n",
    "    k = 0\n",
    "    a = float(interval[0])\n",
    "    b = float(interval[1])\n",
    "    error = float('inf')\n",
    "    data = {'Iter': [], 'Xn': [], 'Error': []}\n",
    "    \n",
    "    x_k = (a + b) / 2    \n",
    "    while k < k_max and error > epsilon:\n",
    "        Fa = evaluate_Fx(str_equ, a)\n",
    "        Fx_k = evaluate_Fx(str_equ, x_k)\n",
    "        if (Fa * Fx_k) < 0:\n",
    "            b = x_k\n",
    "        else:\n",
    "            a = x_k\n",
    "        \n",
    "        k += 1\n",
    "        x_k = (a + b) / 2\n",
    "        error = abs(Fx_k)\n",
    "        \n",
    "        data['Iter'].append(k)\n",
    "        data['Xn'].append(x_k)\n",
    "        data['Error'].append(error)\n",
    "        \n",
    "    results = pd.DataFrame(data)\n",
    "    return results"
   ]
  },
  {
   "cell_type": "code",
   "execution_count": 22,
   "id": "3bebef2a-c717-48cb-9f38-6b063e00610b",
   "metadata": {},
   "outputs": [],
   "source": [
    "def metodo_newton(str_equ, x_0, k_max, epsilon):\n",
    "    k = 0\n",
    "    x_k = x_0\n",
    "    error = float('inf')\n",
    "    data = {'Iter': [], 'Xn': [], 'Error': []}\n",
    "    \n",
    "    while k < k_max and error > epsilon:\n",
    "        Fx_k = evaluate_Fx(str_equ, x_k)\n",
    "        dev1_Fx_k = center_finite_derivative_2(str_equ, x_k, 0.00001)\n",
    "        \n",
    "        x_k1 = x_k - (Fx_k / dev1_Fx_k)\n",
    "        x_k = x_k1\n",
    "        k += 1\n",
    "        error = abs(Fx_k)\n",
    "        \n",
    "        data['Iter'].append(k)\n",
    "        data['Xn'].append(x_k)\n",
    "        data['Error'].append(error)\n",
    "        \n",
    "    results = pd.DataFrame(data)\n",
    "    return results"
   ]
  },
  {
   "cell_type": "code",
   "execution_count": 23,
   "id": "56cb2ec4-9c1c-446d-a5b0-8478198065ed",
   "metadata": {},
   "outputs": [],
   "source": [
    "#equ = \"3x^2 + 4x - 3\"\n",
    "#equ = \"e^x + x^2\"\n",
    "\n",
    "#df = metodo_biseccion(equ, ['-4', '4'], 50, 0.001)\n",
    "#df = metodo_newton(equ, 0.1, 50, 0.0001)\n",
    "#df.tail()"
   ]
  },
  {
   "cell_type": "markdown",
   "id": "ecb70791-22c3-4542-8321-756344567aa8",
   "metadata": {},
   "source": [
    "## Lab3 Functions (GD)"
   ]
  },
  {
   "cell_type": "code",
   "execution_count": 24,
   "id": "72c92f82-00f1-40fd-b95e-14185c77842d",
   "metadata": {},
   "outputs": [],
   "source": [
    "def parseInput(x, reshape = False):\n",
    "    if reshape:\n",
    "        rows = len(x)\n",
    "        x = np.array(x, dtype = 'float').reshape(rows, 1)\n",
    "    else:\n",
    "        x = np.array(x, dtype = 'float')\n",
    "\n",
    "    return x"
   ]
  },
  {
   "cell_type": "code",
   "execution_count": 25,
   "id": "b08f6aa3-2ab8-4d04-a5ba-dfb30c98277a",
   "metadata": {},
   "outputs": [],
   "source": [
    "def getLearningRate(opt, k, gradient = None, Q = None, alpha = 0.001):\n",
    "    if opt == 'Exacto':\n",
    "        lr = (np.linalg.norm(gradient, 2)**2) / np.matmul(np.matmul(gradient.T, Q), gradient)\n",
    "        lr = lr[0, 0]\n",
    "    elif opt == 'Constante':\n",
    "        lr = alpha\n",
    "    elif opt == 'Variable':\n",
    "        lr = 1/k\n",
    "    else:\n",
    "        lr = 1\n",
    "        \n",
    "    return lr"
   ]
  },
  {
   "cell_type": "code",
   "execution_count": 26,
   "id": "7fe212ce-4d91-4658-83ec-f6dd225ebe46",
   "metadata": {},
   "outputs": [],
   "source": [
    "def gradient_descent_QP(x_0, Q, c, kmax, epsilon, lr_type, alpha = 0.001):\n",
    "    k = 0\n",
    "    x_k = parseInput(x_0, reshape = True)\n",
    "    c = parseInput(c, reshape = True)\n",
    "    Q = parseInput(Q)\n",
    "    error = float('inf')\n",
    "    data = {'Iter': [], 'Xn': [], 'Pk': [], 'Error': []}\n",
    "      \n",
    "    while k < kmax and error > epsilon:\n",
    "        gradient = np.matmul(Q, x_k) + c\n",
    "        lr = getLearningRate(lr_type, k + 1, gradient, Q, alpha)\n",
    "        x_k1 = x_k - (lr * gradient)\n",
    "        \n",
    "        x_k = x_k1\n",
    "        k += 1\n",
    "        error = np.linalg.norm(gradient, 2)\n",
    "        \n",
    "        data['Iter'].append(k)\n",
    "        data['Xn'].append(x_k)\n",
    "        data['Pk'].append(-1 * gradient)\n",
    "        data['Error'].append(error)     \n",
    "  \n",
    "    results = pd.DataFrame(data)\n",
    "    return results"
   ]
  },
  {
   "cell_type": "code",
   "execution_count": 27,
   "id": "46ec54e6-2b65-442e-9da5-98e4571bb728",
   "metadata": {},
   "outputs": [],
   "source": [
    "#First and second try\n",
    "Q = np.array([[2, -1, 0], [-1, 2, -1], [0, -1, 2]])\n",
    "c = np.array([1, 0 ,1]).reshape(3, 1)\n",
    "#x_0 = np.array([3, 5, 7]).reshape(3, 1)\n",
    "x_0 = np.array([-1, 2, -3])\n",
    "epsilon = 0.000001\n",
    "lr_type = ['Exacto', 'Constante', 'Variable']\n",
    "N = 30"
   ]
  },
  {
   "cell_type": "code",
   "execution_count": 28,
   "id": "5ed26354-b1e2-4ced-8cb1-5af6db25aaba",
   "metadata": {},
   "outputs": [],
   "source": [
    "#data = gradient_descent_QP(x_0, Q, c, N, epsilon, lr_type[0], alpha = 0.001)\n",
    "#data.tail()"
   ]
  },
  {
   "cell_type": "code",
   "execution_count": 29,
   "id": "84ba6bfb-bfdd-4aa9-b12f-24d140952ef8",
   "metadata": {},
   "outputs": [],
   "source": [
    "def getRosenbrockGradient(x0):\n",
    "    x = x0[0, 0]\n",
    "    y = x0[1, 0]\n",
    "    g1 = eval('400*(x**3) + 2*(x) - 400*(x)*(y) - 2', {}, {'x': x, 'y': y})\n",
    "    g2 = eval('-200*(x**2) + 200*(y)', {}, {'x': x, 'y': y})\n",
    "    gradient = np.array([g1, g2], dtype = 'float').reshape(2,1)\n",
    "    \n",
    "    return gradient"
   ]
  },
  {
   "cell_type": "code",
   "execution_count": 30,
   "id": "19ddf1c9-fc89-468d-9efd-aba72e5312c3",
   "metadata": {},
   "outputs": [],
   "source": [
    "def rosenbrock_gd(x_0, kmax, epsilon, lr):\n",
    "    k = 0\n",
    "    x_k = parseInput(x_0, reshape = True)\n",
    "    error = float('inf')\n",
    "    data = {'Iter': [], 'Xn': [], 'Pk': [], 'Error': []}\n",
    "      \n",
    "    while k < kmax and error > epsilon:\n",
    "        gradient = getRosenbrockGradient(x_k)\n",
    "        x_k1 = x_k - (lr * gradient)\n",
    "\n",
    "        x_k = x_k1\n",
    "        k += 1\n",
    "        error = np.linalg.norm(gradient, 2)\n",
    "        \n",
    "        data['Iter'].append(k)\n",
    "        data['Xn'].append(x_k.round(7))\n",
    "        data['Pk'].append(-1 * gradient.round(7))\n",
    "        data['Error'].append(error.round(7))  \n",
    "    \n",
    "    results = pd.DataFrame(data)\n",
    "    return results"
   ]
  },
  {
   "cell_type": "code",
   "execution_count": 31,
   "id": "2c3edfa5-2ae2-4bdd-ab77-58bb88e03e0b",
   "metadata": {},
   "outputs": [],
   "source": [
    "#getRosenbrockGradient(np.array([30., 30.]).reshape(2,1))"
   ]
  },
  {
   "cell_type": "code",
   "execution_count": 32,
   "id": "65db08f7-812c-4894-a90a-5711244514eb",
   "metadata": {},
   "outputs": [],
   "source": [
    "#x_0 = np.array(['0', '0'])\n",
    "#alpha = 0.05\n",
    "#epsilon = 0.00000001\n",
    "#N = 1000"
   ]
  },
  {
   "cell_type": "code",
   "execution_count": 33,
   "id": "b827fe53-3c33-4c70-851e-ca2900abd246",
   "metadata": {},
   "outputs": [],
   "source": [
    "#rosenbrock_gd(x_0, N, epsilon, alpha)"
   ]
  },
  {
   "cell_type": "markdown",
   "source": [
    "### Lab4 (GD Variants and Newton)"
   ],
   "metadata": {
    "collapsed": false,
    "pycharm": {
     "name": "#%% md\n"
    }
   }
  },
  {
   "cell_type": "markdown",
   "source": [
    "### GD Variants"
   ],
   "metadata": {
    "collapsed": false,
    "pycharm": {
     "name": "#%% md\n"
    }
   }
  },
  {
   "cell_type": "code",
   "execution_count": 34,
   "outputs": [],
   "source": [
    "d = 100 #columnas en el dataset\n",
    "n = 1000 #observaciones\n",
    "A = np.random.normal(0, 1, size = (n,d))\n",
    "x_true = np.random.normal(0, 1, size = (d,1))\n",
    "b = A.dot(x_true) + np.random.normal(0, 0.5, size = (n,1))"
   ],
   "metadata": {
    "collapsed": false,
    "pycharm": {
     "name": "#%%\n"
    }
   }
  },
  {
   "cell_type": "code",
   "execution_count": 78,
   "outputs": [],
   "source": [
    "def computeGD(x_0, A, b, kmax, epsilon, lr, mb_size):\n",
    "    k = 0\n",
    "    x_k = x_0\n",
    "    errors = []\n",
    "\n",
    "    mat = np.hstack((A,b))\n",
    "    while k < kmax:\n",
    "        np.random.shuffle(mat) #in-place shuffle\n",
    "        iters = A.shape[0] // mb_size\n",
    "        for i in range(0, iters):\n",
    "            start = i * mb_size\n",
    "            end = (1+i) * mb_size\n",
    "            A_mb = mat[start:end, :-1]\n",
    "            b_mb = mat[start:end, -1]\n",
    "            b_mb = np.expand_dims(b_mb, axis = 1)\n",
    "\n",
    "            gradient = np.matmul(np.matmul(A_mb.T, A_mb), x_k) - np.matmul(A_mb.T, b_mb)\n",
    "            x_k1 = x_k - (lr * gradient)\n",
    "            x_k = x_k1\n",
    "\n",
    "        k += 1\n",
    "        error = np.linalg.norm(gradient, 2)\n",
    "        errors.append(error)\n",
    "\n",
    "    return errors"
   ],
   "metadata": {
    "collapsed": false,
    "pycharm": {
     "name": "#%%\n"
    }
   }
  },
  {
   "cell_type": "markdown",
   "source": [
    "##### Parte 1 - Solucion Cerrada"
   ],
   "metadata": {
    "collapsed": false,
    "pycharm": {
     "name": "#%% md\n"
    }
   }
  },
  {
   "cell_type": "code",
   "execution_count": 35,
   "outputs": [],
   "source": [
    "def getCloseSolution(A, b):\n",
    "    inverse = np.linalg.inv(np.matmul(A.T, A))\n",
    "    x = np.matmul(np.matmul(inverse, A.T), b)\n",
    "    return x"
   ],
   "metadata": {
    "collapsed": false,
    "pycharm": {
     "name": "#%%\n"
    }
   }
  },
  {
   "cell_type": "code",
   "execution_count": 36,
   "outputs": [
    {
     "data": {
      "text/plain": "array([[-1.42212128e+00],\n       [ 6.87780781e-01],\n       [ 2.72752312e-02],\n       [-4.44708366e-01],\n       [-8.77937371e-01],\n       [-7.46751415e-01],\n       [ 7.31798195e-01],\n       [ 4.90495153e-01],\n       [ 3.00486704e+00],\n       [-6.10620280e-01],\n       [ 4.11678835e-01],\n       [-1.38076335e+00],\n       [ 1.05045975e+00],\n       [ 3.08521057e-01],\n       [ 6.32483563e-01],\n       [ 1.02871687e+00],\n       [ 2.20269517e-01],\n       [-1.39079183e+00],\n       [-8.22371465e-01],\n       [ 6.87442586e-02],\n       [-1.15924683e+00],\n       [ 4.19331853e-01],\n       [-8.07645075e-01],\n       [-3.63893002e-01],\n       [ 1.85716376e-01],\n       [ 1.72745022e+00],\n       [ 9.48345710e-01],\n       [-9.47816693e-01],\n       [-7.76781129e-01],\n       [ 1.51765478e+00],\n       [ 3.70025465e-01],\n       [-2.54991686e+00],\n       [ 1.25694891e+00],\n       [-2.47719060e+00],\n       [-1.39724834e-01],\n       [ 1.99148302e-02],\n       [-1.58076657e+00],\n       [ 9.11073886e-01],\n       [ 1.71153077e-01],\n       [ 5.16455891e-02],\n       [ 2.04579473e+00],\n       [ 1.04166324e+00],\n       [-5.15860498e-01],\n       [-7.88993234e-01],\n       [ 2.59984670e+00],\n       [-9.99513084e-02],\n       [ 1.40416699e+00],\n       [ 1.64131933e+00],\n       [-3.14240449e-01],\n       [ 7.50970695e-01],\n       [ 9.06747023e-01],\n       [ 1.38540237e-01],\n       [ 1.11427829e+00],\n       [-8.97984379e-01],\n       [-8.20187496e-01],\n       [-3.19531489e-01],\n       [ 1.02462277e+00],\n       [ 6.29648654e-01],\n       [-9.70438509e-01],\n       [ 2.69964780e-01],\n       [ 1.13615551e-01],\n       [ 6.56105711e-01],\n       [ 2.64035465e-01],\n       [ 6.74566379e-02],\n       [-7.93164419e-01],\n       [-8.47785864e-01],\n       [ 1.13077155e+00],\n       [-2.12284727e+00],\n       [-9.50741306e-02],\n       [-1.00419583e+00],\n       [-1.34441296e+00],\n       [-6.04859750e-01],\n       [-1.19960930e+00],\n       [ 1.78896180e-01],\n       [-6.31544949e-01],\n       [-2.04750430e-04],\n       [-7.85438798e-01],\n       [ 6.14363271e-01],\n       [ 1.28674704e+00],\n       [-5.62875247e-02],\n       [ 1.04786625e+00],\n       [-5.68963998e-01],\n       [ 3.70646401e-01],\n       [-1.75271462e+00],\n       [-4.86406218e-01],\n       [-9.59072737e-01],\n       [ 4.87425255e-01],\n       [ 2.22631097e+00],\n       [ 2.92462659e-01],\n       [-8.17630103e-02],\n       [-6.09412171e-01],\n       [ 2.78919681e+00],\n       [ 1.89546910e+00],\n       [-1.02353321e+00],\n       [ 3.05451517e-01],\n       [-1.26539897e+00],\n       [ 4.76703482e-01],\n       [ 1.19016654e+00],\n       [ 1.13844068e+00],\n       [ 7.90627295e-01]])"
     },
     "execution_count": 36,
     "metadata": {},
     "output_type": "execute_result"
    }
   ],
   "source": [
    "getCloseSolution(A, b)"
   ],
   "metadata": {
    "collapsed": false,
    "pycharm": {
     "name": "#%%\n"
    }
   }
  },
  {
   "cell_type": "markdown",
   "source": [
    "##### Parte 2 - GD"
   ],
   "metadata": {
    "collapsed": false,
    "pycharm": {
     "name": "#%% md\n"
    }
   }
  },
  {
   "cell_type": "code",
   "execution_count": 83,
   "outputs": [],
   "source": [
    "lr_list = [0.00005, 0.0005, 0.0007]\n",
    "x_0 = np.zeros_like(x_true)\n",
    "kmax = 30"
   ],
   "metadata": {
    "collapsed": false,
    "pycharm": {
     "name": "#%%\n"
    }
   }
  },
  {
   "cell_type": "code",
   "execution_count": 84,
   "outputs": [
    {
     "data": {
      "text/plain": "<Figure size 432x288 with 1 Axes>",
      "image/png": "[encoded data removed]"
     },
     "metadata": {
      "needs_background": "light"
     },
     "output_type": "display_data"
    }
   ],
   "source": [
    "for lr in lr_list:\n",
    "    errors = computeGD(x_0, A, b, kmax, epsilon, lr, A.shape[0])\n",
    "    plt.plot(np.arange(1,kmax + 1), errors[:kmax])\n",
    "plt.show()"
   ],
   "metadata": {
    "collapsed": false,
    "pycharm": {
     "name": "#%%\n"
    }
   }
  },
  {
   "cell_type": "markdown",
   "source": [
    "##### Parte 3 - SGD"
   ],
   "metadata": {
    "collapsed": false,
    "pycharm": {
     "name": "#%% md\n"
    }
   }
  },
  {
   "cell_type": "code",
   "execution_count": 87,
   "outputs": [],
   "source": [
    "lr_list = [0.0005, 0.005, 0.01]\n",
    "x_0 = np.zeros_like(x_true)\n",
    "kmax = 1000\n",
    "epsilon = 0.000001"
   ],
   "metadata": {
    "collapsed": false,
    "pycharm": {
     "name": "#%%\n"
    }
   }
  },
  {
   "cell_type": "code",
   "execution_count": 92,
   "outputs": [
    {
     "data": {
      "text/plain": "<Figure size 432x288 with 1 Axes>",
      "image/png": "[encoded data removed]"
     },
     "metadata": {
      "needs_background": "light"
     },
     "output_type": "display_data"
    }
   ],
   "source": [
    "for lr in lr_list:\n",
    "    errors = computeGD(x_0, A, b, kmax, epsilon, lr, 1)\n",
    "    plt.plot(np.arange(1,31), errors[:30])\n",
    "plt.show()"
   ],
   "metadata": {
    "collapsed": false,
    "pycharm": {
     "name": "#%%\n"
    }
   }
  },
  {
   "cell_type": "markdown",
   "source": [
    "##### Parte 4 - MiniBatch-GD"
   ],
   "metadata": {
    "collapsed": false,
    "pycharm": {
     "name": "#%% md\n"
    }
   }
  },
  {
   "cell_type": "code",
   "execution_count": 90,
   "outputs": [],
   "source": [
    "lr_list = [0.0005, 0.005, 0.01]\n",
    "mb_list = [25, 50, 100]\n",
    "x_0 = np.zeros_like(x_true)\n",
    "kmax = 1000"
   ],
   "metadata": {
    "collapsed": false,
    "pycharm": {
     "name": "#%%\n"
    }
   }
  },
  {
   "cell_type": "code",
   "execution_count": 91,
   "outputs": [
    {
     "data": {
      "text/plain": "<Figure size 432x288 with 1 Axes>",
      "image/png": "[encoded data removed]"
     },
     "metadata": {
      "needs_background": "light"
     },
     "output_type": "display_data"
    },
    {
     "data": {
      "text/plain": "<Figure size 432x288 with 1 Axes>",
      "image/png": "[encoded data removed]"
     },
     "metadata": {
      "needs_background": "light"
     },
     "output_type": "display_data"
    },
    {
     "data": {
      "text/plain": "<Figure size 432x288 with 1 Axes>",
      "image/png": "[encoded data removed]"
     },
     "metadata": {
      "needs_background": "light"
     },
     "output_type": "display_data"
    }
   ],
   "source": [
    "for lr in lr_list:\n",
    "    for mb in mb_list:\n",
    "        errors = computeGD(x_0, A, b, kmax, epsilon, lr, mb)\n",
    "        plt.plot(np.arange(1,31), errors[:30])\n",
    "    plt.show()"
   ],
   "metadata": {
    "collapsed": false,
    "pycharm": {
     "name": "#%%\n"
    }
   }
  },
  {
   "cell_type": "markdown",
   "source": [
    "#### Metodo de Newton"
   ],
   "metadata": {
    "collapsed": false,
    "pycharm": {
     "name": "#%% md\n"
    }
   }
  },
  {
   "cell_type": "markdown",
   "source": [
    "##### Parte 1 - GD con Backtracking line search"
   ],
   "metadata": {
    "collapsed": false,
    "pycharm": {
     "name": "#%% md\n"
    }
   }
  },
  {
   "cell_type": "code",
   "execution_count": 136,
   "outputs": [],
   "source": [
    "def evalRosenbrockFunction(x0):\n",
    "    x = x0[0, 0]\n",
    "    y = x0[1, 0]\n",
    "    rsb_function = '100*((y-x**2)**2) + (1 - x)**2'\n",
    "    result = eval(rsb_function, {}, {'x': x, 'y': y})\n",
    "    return result"
   ],
   "metadata": {
    "collapsed": false,
    "pycharm": {
     "name": "#%%\n"
    }
   }
  },
  {
   "cell_type": "code",
   "execution_count": 137,
   "outputs": [],
   "source": [
    "def backTrackingLineSearch(x_0, lr, ro, c):\n",
    "    x_k = x_0\n",
    "    condition = True\n",
    "\n",
    "    while condition:\n",
    "        gradient = getRosenbrockGradient(x_k)\n",
    "        x_k1 = x_k - (lr * gradient)\n",
    "\n",
    "        fk_1 = evalRosenbrockFunction(x_k1)\n",
    "        f_k = evalRosenbrockFunction(x_k)\n",
    "        rhs = c * lr * np.matmul(gradient.T, -gradient)\n",
    "\n",
    "        condition = (fk_1 > (f_k + rhs)) #the loop is the negated condition of the backtracking algorithm\n",
    "        lr *= ro\n",
    "\n",
    "    return lr"
   ],
   "metadata": {
    "collapsed": false,
    "pycharm": {
     "name": "#%%\n"
    }
   }
  },
  {
   "cell_type": "code",
   "execution_count": 170,
   "outputs": [],
   "source": [
    "def rosenbrock_backtracking(x_0, kmax, epsilon, alpha, ro, c):\n",
    "    k = 0\n",
    "    x_k = parseInput(x_0, reshape = True)\n",
    "    error = float('inf')\n",
    "    data = {'Iter': [], 'Xn': [], 'Pk': [], 'Error': []}\n",
    "\n",
    "    lr = backTrackingLineSearch(x_k, alpha, ro, c)\n",
    "    while k < kmax and error > epsilon:\n",
    "        gradient = getRosenbrockGradient(x_k)\n",
    "        x_k1 = x_k - (lr * gradient)\n",
    "\n",
    "        x_k = x_k1\n",
    "        k += 1\n",
    "        error = np.linalg.norm(gradient, 2)\n",
    "\n",
    "        data['Iter'].append(k)\n",
    "        data['Xn'].append(x_k.round(7))\n",
    "        data['Pk'].append(-1 * gradient.round(7))\n",
    "        data['Error'].append(error.round(7))\n",
    "\n",
    "    results = pd.DataFrame(data)\n",
    "    return results"
   ],
   "metadata": {
    "collapsed": false,
    "pycharm": {
     "name": "#%%\n"
    }
   }
  },
  {
   "cell_type": "code",
   "execution_count": 168,
   "outputs": [],
   "source": [
    "x_array = [np.array(['0', '0']), np.array(['0.6', '0.6']), np.array(['-0.5', '1']), np.array(['-1.2', '1'])]\n",
    "x_0 = x_array[1]\n",
    "epsilon = 0.00000001\n",
    "kmax = 1000\n",
    "\n",
    "alpha = 1\n",
    "ro = 0.5\n",
    "c = 0.0001"
   ],
   "metadata": {
    "collapsed": false,
    "pycharm": {
     "name": "#%%\n"
    }
   }
  },
  {
   "cell_type": "code",
   "execution_count": 169,
   "outputs": [
    {
     "name": "stdout",
     "output_type": "stream",
     "text": [
      "0.0009765625\n"
     ]
    },
    {
     "data": {
      "text/plain": "     Iter                          Xn                          Pk     Error\n995   996  [[0.8376345], [0.7009165]]   [[0.0851817], [0.143105]]  0.166538\n996   997  [[0.8377177], [0.7010562]]   [[0.0851256], [0.143025]]  0.166441\n997   998  [[0.8378007], [0.7011957]]   [[0.0850696], [0.142945]]  0.166343\n998   999  [[0.8378838], [0.7013353]]   [[0.0850137], [0.142865]]  0.166246\n999  1000  [[0.8379667], [0.7014747]]  [[0.0849577], [0.1427852]]  0.166149",
      "text/html": "<div>\n<style scoped>\n    .dataframe tbody tr th:only-of-type {\n        vertical-align: middle;\n    }\n\n    .dataframe tbody tr th {\n        vertical-align: top;\n    }\n\n    .dataframe thead th {\n        text-align: right;\n    }\n</style>\n<table border=\"1\" class=\"dataframe\">\n  <thead>\n    <tr style=\"text-align: right;\">\n      <th></th>\n      <th>Iter</th>\n      <th>Xn</th>\n      <th>Pk</th>\n      <th>Error</th>\n    </tr>\n  </thead>\n  <tbody>\n    <tr>\n      <th>995</th>\n      <td>996</td>\n      <td>[[0.8376345], [0.7009165]]</td>\n      <td>[[0.0851817], [0.143105]]</td>\n      <td>0.166538</td>\n    </tr>\n    <tr>\n      <th>996</th>\n      <td>997</td>\n      <td>[[0.8377177], [0.7010562]]</td>\n      <td>[[0.0851256], [0.143025]]</td>\n      <td>0.166441</td>\n    </tr>\n    <tr>\n      <th>997</th>\n      <td>998</td>\n      <td>[[0.8378007], [0.7011957]]</td>\n      <td>[[0.0850696], [0.142945]]</td>\n      <td>0.166343</td>\n    </tr>\n    <tr>\n      <th>998</th>\n      <td>999</td>\n      <td>[[0.8378838], [0.7013353]]</td>\n      <td>[[0.0850137], [0.142865]]</td>\n      <td>0.166246</td>\n    </tr>\n    <tr>\n      <th>999</th>\n      <td>1000</td>\n      <td>[[0.8379667], [0.7014747]]</td>\n      <td>[[0.0849577], [0.1427852]]</td>\n      <td>0.166149</td>\n    </tr>\n  </tbody>\n</table>\n</div>"
     },
     "execution_count": 169,
     "metadata": {},
     "output_type": "execute_result"
    }
   ],
   "source": [
    "df = rosenbrock_backtracking(x_0, kmax, epsilon, alpha, ro, c)\n",
    "df.tail()"
   ],
   "metadata": {
    "collapsed": false,
    "pycharm": {
     "name": "#%%\n"
    }
   }
  },
  {
   "cell_type": "markdown",
   "source": [
    "##### Parte 2 - Metodo de newton con Backtracking line search"
   ],
   "metadata": {
    "collapsed": false,
    "pycharm": {
     "name": "#%% md\n"
    }
   }
  },
  {
   "cell_type": "code",
   "execution_count": 171,
   "outputs": [],
   "source": [
    "def getRosenbrockHessian(x0):\n",
    "    x = x0[0, 0]\n",
    "    y = x0[1, 0]\n",
    "    g1 = eval('1200*(x**2) - 400*(y) + 2', {}, {'x': x, 'y': y})\n",
    "    g2 = eval('-400*(x)', {}, {'x': x})\n",
    "    hessian = np.array([g1, g2, g2, 200], dtype = 'float').reshape(2,2)\n",
    "\n",
    "    return hessian"
   ],
   "metadata": {
    "collapsed": false,
    "pycharm": {
     "name": "#%%\n"
    }
   }
  },
  {
   "cell_type": "code",
   "execution_count": 196,
   "outputs": [],
   "source": [
    "def newton_optimization(x_0, kmax, epsilon, alpha, ro, c, lr_type = 'backtracking'):\n",
    "    k = 0\n",
    "    x_k = parseInput(x_0, reshape = True)\n",
    "    error = float('inf')\n",
    "    data = {'Iter': [], 'Xn': [], 'Pk': [], 'Error': []}\n",
    "\n",
    "    if lr_type == 'backtracking':\n",
    "        lr = backTrackingLineSearch(x_k, alpha, ro, c)\n",
    "    else: #else it would be constant\n",
    "        lr = alpha\n",
    "\n",
    "    while k < kmax and error > epsilon:\n",
    "        gradient = getRosenbrockGradient(x_k)\n",
    "        hessian = getRosenbrockHessian(x_k)\n",
    "        p_k = -1 * np.matmul(np.linalg.inv(hessian), gradient)\n",
    "        x_k1 = x_k + (lr * p_k)\n",
    "\n",
    "        x_k = x_k1\n",
    "        k += 1\n",
    "        error = np.linalg.norm(gradient, 2)\n",
    "\n",
    "        data['Iter'].append(k)\n",
    "        data['Xn'].append(x_k.round(7))\n",
    "        data['Pk'].append(p_k.round(7))\n",
    "        data['Error'].append(error.round(7))\n",
    "\n",
    "    results = pd.DataFrame(data)\n",
    "    return results"
   ],
   "metadata": {
    "collapsed": false,
    "pycharm": {
     "name": "#%%\n"
    }
   }
  },
  {
   "cell_type": "code",
   "execution_count": 203,
   "outputs": [],
   "source": [
    "x_array = [np.array(['0', '0']), np.array(['0.6', '0.6']), np.array(['-0.5', '1']), np.array(['-1.2', '1'])]\n",
    "x_0 = x_array[3]\n",
    "epsilon = 0.00000001\n",
    "kmax = 3000\n",
    "\n",
    "alpha = 1\n",
    "ro = 0.5\n",
    "c = 0.0001"
   ],
   "metadata": {
    "collapsed": false,
    "pycharm": {
     "name": "#%%\n"
    }
   }
  },
  {
   "cell_type": "code",
   "execution_count": 204,
   "outputs": [
    {
     "data": {
      "text/plain": "   Iter                          Xn                          Pk        Error\n2     3  [[0.7634297], [0.5828248]]  [[0.0003148], [3.7578586]]  1370.789849\n3     4  [[0.9999953], [0.9440273]]  [[0.2365656], [0.3612025]]     0.473110\n4     5  [[0.9999957], [0.9999914]]      [[4e-07], [0.0559641]]    25.027446\n5     6              [[1.0], [1.0]]      [[4.3e-06], [8.6e-06]]     0.000009\n6     7              [[1.0], [1.0]]             [[-0.0], [0.0]]     0.000000",
      "text/html": "<div>\n<style scoped>\n    .dataframe tbody tr th:only-of-type {\n        vertical-align: middle;\n    }\n\n    .dataframe tbody tr th {\n        vertical-align: top;\n    }\n\n    .dataframe thead th {\n        text-align: right;\n    }\n</style>\n<table border=\"1\" class=\"dataframe\">\n  <thead>\n    <tr style=\"text-align: right;\">\n      <th></th>\n      <th>Iter</th>\n      <th>Xn</th>\n      <th>Pk</th>\n      <th>Error</th>\n    </tr>\n  </thead>\n  <tbody>\n    <tr>\n      <th>2</th>\n      <td>3</td>\n      <td>[[0.7634297], [0.5828248]]</td>\n      <td>[[0.0003148], [3.7578586]]</td>\n      <td>1370.789849</td>\n    </tr>\n    <tr>\n      <th>3</th>\n      <td>4</td>\n      <td>[[0.9999953], [0.9440273]]</td>\n      <td>[[0.2365656], [0.3612025]]</td>\n      <td>0.473110</td>\n    </tr>\n    <tr>\n      <th>4</th>\n      <td>5</td>\n      <td>[[0.9999957], [0.9999914]]</td>\n      <td>[[4e-07], [0.0559641]]</td>\n      <td>25.027446</td>\n    </tr>\n    <tr>\n      <th>5</th>\n      <td>6</td>\n      <td>[[1.0], [1.0]]</td>\n      <td>[[4.3e-06], [8.6e-06]]</td>\n      <td>0.000009</td>\n    </tr>\n    <tr>\n      <th>6</th>\n      <td>7</td>\n      <td>[[1.0], [1.0]]</td>\n      <td>[[-0.0], [0.0]]</td>\n      <td>0.000000</td>\n    </tr>\n  </tbody>\n</table>\n</div>"
     },
     "execution_count": 204,
     "metadata": {},
     "output_type": "execute_result"
    }
   ],
   "source": [
    "df = newton_optimization(x_0, kmax, epsilon, alpha, ro, c, 'const')\n",
    "df.tail()"
   ],
   "metadata": {
    "collapsed": false,
    "pycharm": {
     "name": "#%%\n"
    }
   }
  }
 ],
 "metadata": {
  "kernelspec": {
   "display_name": "Python 3",
   "language": "python",
   "name": "python3"
  },
  "language_info": {
   "codemirror_mode": {
    "name": "ipython",
    "version": 3
   },
   "file_extension": ".py",
   "mimetype": "text/x-python",
   "name": "python",
   "nbconvert_exporter": "python",
   "pygments_lexer": "ipython3",
   "version": "3.9.4"
  }
 },
 "nbformat": 4,
 "nbformat_minor": 5
}