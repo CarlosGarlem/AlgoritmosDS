{
 "cells": [
  {
   "cell_type": "code",
   "execution_count": 31,
   "id": "15584818-0103-4793-a09e-5f226c544a81",
   "metadata": {},
   "outputs": [],
   "source": [
    "import pandas as pd\n",
    "import math \n",
    "import re"
   ]
  },
  {
   "cell_type": "markdown",
   "id": "1b1bfb37-810e-469e-bb6c-649dd38fad2a",
   "metadata": {},
   "source": [
    "### First functions"
   ]
  },
  {
   "cell_type": "code",
   "execution_count": 59,
   "id": "056b85ed-a8da-437e-b9cf-4caddfa3606d",
   "metadata": {},
   "outputs": [],
   "source": [
    "def format_equation(str_equ, exp = 'x', var = 'x'):\n",
    "    strOut = re.sub(r\"{}\".format(var), \"({})\".format(var), str_equ)\n",
    "    strOut = re.sub(r\"(?<=[A-Za-z0-9\\)])(\\({}\\))\".format(var), \"*({})\".format(var), strOut)\n",
    "    strOut = re.sub(r\"(\\^\\({}\\))\".format(var), \"**({})\".format(var), strOut)\n",
    "    strOut = re.sub(r\"(\\({}\\))\".format(var), \"({})\".format(exp), strOut)\n",
    "    strOut = re.sub(r\"\\^\", \"**\", strOut)\n",
    "    strOut = re.sub(r\"e\", \"math.e\", strOut)\n",
    "    return strOut"
   ]
  },
  {
   "cell_type": "code",
   "execution_count": 35,
   "id": "76441cc6-566b-4ca1-ae67-28c5fd67d029",
   "metadata": {},
   "outputs": [
    {
     "data": {
      "text/plain": [
       "'2x**5+ 3x + x**2 + math.e**x + 3x*(x + h)'"
      ]
     },
     "execution_count": 35,
     "metadata": {},
     "output_type": "execute_result"
    }
   ],
   "source": [
    "#format_equation(\"2x^5+ 3x + x^2 + e^x + 3xy\", 'x + h', 'y')"
   ]
  },
  {
   "cell_type": "code",
   "execution_count": 4,
   "id": "c1c7101c-8b02-4683-9fcf-7997d75ad74d",
   "metadata": {},
   "outputs": [],
   "source": [
    "def evaluate_Fx(str_equ, x):\n",
    "    x = float(x)\n",
    "    strOut = format_equation(str_equ, 'x')\n",
    "    result = eval(strOut)\n",
    "    return result"
   ]
  },
  {
   "cell_type": "code",
   "execution_count": 5,
   "id": "9c5122e5-4270-4c4e-9f4a-59c402eeacfd",
   "metadata": {},
   "outputs": [],
   "source": [
    "def finite_derivative(str_equ, x, h):\n",
    "    x = float(x)\n",
    "    h = float(h)\n",
    "    f1 = f2 = f3 = '(' +  str_equ + ')'\n",
    "    \n",
    "    f1 = format_equation(f1, 'x + 2*h')\n",
    "    f2 = format_equation(f2, 'x + h')\n",
    "    f3 = format_equation(f3, 'x')\n",
    "      \n",
    "    strOut = '(' + f1 + ' - 4 * ' + f2 + ' + 3 *' + f3 + ')' + ' / (2 * h)'\n",
    "    result = eval(strOut)\n",
    "    return result"
   ]
  },
  {
   "cell_type": "markdown",
   "id": "b4e0ef37-f667-4795-881b-4dcbf2cc7e2d",
   "metadata": {},
   "source": [
    "\n",
    "## Lab1 Functions"
   ]
  },
  {
   "cell_type": "markdown",
   "id": "0c8b07d3-5a7f-4969-9c7a-9ee41333d8ea",
   "metadata": {},
   "source": [
    "#### R1 functions"
   ]
  },
  {
   "cell_type": "code",
   "execution_count": 6,
   "id": "723b68e1-f3c0-41d2-b14a-61623154371f",
   "metadata": {},
   "outputs": [],
   "source": [
    "def center_finite_derivative(str_equ, x, h):\n",
    "    x = float(x)\n",
    "    h = float(h)\n",
    "    f1 = f2 = '(' +  str_equ + ')'\n",
    "    \n",
    "    f1 = format_equation(f1, 'x + h')\n",
    "    f2 = format_equation(f2, 'x - h')\n",
    "      \n",
    "    strOut = '(' + f1 + ' - ' + f2 + ')' + ' / (2 * h)'\n",
    "    result = eval(strOut)\n",
    "    return result"
   ]
  },
  {
   "cell_type": "code",
   "execution_count": 7,
   "id": "a19611ac-0fa8-43be-8e98-5f2ca7a6974d",
   "metadata": {},
   "outputs": [],
   "source": [
    "def progressive_finite_derivative(str_equ, x, h):\n",
    "    x = float(x)\n",
    "    h = float(h)\n",
    "    f1 = f2 = f3 = '(' +  str_equ + ')'\n",
    "   \n",
    "    f1 = format_equation(f1, 'x')\n",
    "    f2 = format_equation(f2, 'x + h')\n",
    "    f3 = format_equation(f3, 'x + 2*h')\n",
    "      \n",
    "    strOut = '( -3 * ' + f1 + ' + 4 * ' + f2 + ' - ' + f3 + ')' + ' / (2 * h)'\n",
    "    result = eval(strOut)\n",
    "    return result"
   ]
  },
  {
   "cell_type": "code",
   "execution_count": 8,
   "id": "8787eea6-ad1d-459e-8df6-ac7e7fb08c44",
   "metadata": {},
   "outputs": [],
   "source": [
    "def center_finite_derivative_2(str_equ, x, h):\n",
    "    x = float(x)\n",
    "    h = float(h)\n",
    "    f1 = f2 = f3 = f4 = '(' +  str_equ + ')'\n",
    "    \n",
    "    f1 = format_equation(f1, 'x + h')\n",
    "    f2 = format_equation(f2, 'x - h')   \n",
    "    f3 = format_equation(f3, 'x + 2*h')   \n",
    "    f4 = format_equation(f4, 'x - 2*h')   \n",
    "      \n",
    "    strOut = '(' + f4 + ' - 8 * ' + f2 + ' + 8 * ' + f1 + ' - ' + f3 + ')' + ' / (12 * h)'\n",
    "    result = eval(strOut)\n",
    "    return result"
   ]
  },
  {
   "cell_type": "code",
   "execution_count": 9,
   "id": "f0d341f6-ab8c-4e99-9f4d-420ce19db737",
   "metadata": {},
   "outputs": [],
   "source": [
    "#center_finite_derivative(\"2x^5 - 3\", 1, 2)"
   ]
  },
  {
   "cell_type": "code",
   "execution_count": 10,
   "id": "f3850b85-954f-48c3-890a-0c1e19d3dcd9",
   "metadata": {},
   "outputs": [],
   "source": [
    "#progressive_finite_derivative(\"2x^5 - 3\", 1, 2)"
   ]
  },
  {
   "cell_type": "code",
   "execution_count": 11,
   "id": "796912bc-58b9-4212-ba04-3389567f732a",
   "metadata": {},
   "outputs": [],
   "source": [
    "#center_finite_derivative_2(\"2x^5 - 3\", 1, 2)"
   ]
  },
  {
   "cell_type": "markdown",
   "id": "a407aed7-1950-426f-a668-16dc6b227dd4",
   "metadata": {},
   "source": [
    "#### R2 Functions"
   ]
  },
  {
   "cell_type": "code",
   "execution_count": 64,
   "id": "269bd491-aaea-4c4d-aff4-67a3b217f49e",
   "metadata": {},
   "outputs": [],
   "source": [
    "def center_finite_derivative_r2(str_equ, p, h):\n",
    "    x = float(p[0])\n",
    "    y = float(p[1])\n",
    "    h = float(h)\n",
    "    \n",
    "    str_parciales = []\n",
    "    for var in ['x', 'y']:\n",
    "        equ = str_equ.replace('y', '*(y)') if var == 'x' else str_equ.replace('x', '*(x)')\n",
    "        f1 = f2 = '(' +  equ + ')'\n",
    " \n",
    "        f1 = format_equation(f1, var + ' + h', var)   \n",
    "        f2 = format_equation(f2, var + ' - h', var)   \n",
    "      \n",
    "        strOut = '(' + f1 + ' - ' + f2 + ')' + ' / (2 * h)'\n",
    "        str_parciales.append(strOut)\n",
    "    \n",
    "    #[print(parcial) for parcial in str_parciales]\n",
    "    result = [eval(parcial, {}, {'x': x, 'y': y, 'h': h}) for parcial in str_parciales]\n",
    "    return result"
   ]
  },
  {
   "cell_type": "code",
   "execution_count": 13,
   "id": "b4383ac3-31e3-4df1-bffc-ce65615044b3",
   "metadata": {},
   "outputs": [],
   "source": [
    "def progressive_finite_derivative_r2(str_equ, p, h):\n",
    "    x = float(p[0])\n",
    "    y = float(p[1])\n",
    "    h = float(h)\n",
    "     \n",
    "    str_parciales = []\n",
    "    for var in ['x', 'y']:\n",
    "        equ = str_equ.replace('y', '*(y)') if var == 'x' else str_equ.replace('x', '*(x)')\n",
    "        f1 = f2 = f3 = '(' +  equ + ')'\n",
    "   \n",
    "        f1 = format_equation(f1, var, var)   \n",
    "        f2 = format_equation(f2, var + '+ h', var)   \n",
    "        f3 = format_equation(f3, var + ' + 2*h', var)   \n",
    "        \n",
    "        strOut = '(-3 * ' + f1 + ' + 4 * ' + f2 + ' - ' + f3 + ')' + ' / (2 * h)'\n",
    "        str_parciales.append(strOut)\n",
    "        \n",
    "        \n",
    "    #[print(parcial) for parcial in str_parciales]\n",
    "    result = [eval(parcial, {}, {'x': x, 'y': y, 'h': h}) for parcial in str_parciales]\n",
    "    return result"
   ]
  },
  {
   "cell_type": "code",
   "execution_count": 77,
   "id": "16c3a114-5e93-4744-b499-1040be1280b1",
   "metadata": {},
   "outputs": [],
   "source": [
    "def center_finite_derivative_2_r2(str_equ, p, h):\n",
    "    x = float(p[0])\n",
    "    y = float(p[1])\n",
    "    h = float(h)\n",
    "     \n",
    "    str_parciales = []\n",
    "    for var in ['x', 'y']:\n",
    "        equ = str_equ.replace('y', '*(y)') if var == 'x' else str_equ.replace('x', '*(x)')\n",
    "        f1 = f2 = f3 = f4 = '(' +  equ + ')'\n",
    "    \n",
    "        f1 = format_equation(f1, var + ' + h', var)   \n",
    "        f2 = format_equation(f2, var + ' - h', var)   \n",
    "        f3 = format_equation(f3, var + ' + 2*h', var)   \n",
    "        f4 = format_equation(f4, var + ' - 2*h', var)   \n",
    "        \n",
    "        strOut = '(' + f4 + ' - 8 * ' + f2 + ' + 8 * ' + f1 + ' - ' + f3 + ')' + ' / (12 * h)'\n",
    "        str_parciales.append(strOut)     \n",
    "    \n",
    "    #[print(parcial) for parcial in str_parciales]\n",
    "    result = [eval(parcial, {}, {'x': x, 'y': y, 'h': h}) for parcial in str_parciales]\n",
    "    return result"
   ]
  },
  {
   "cell_type": "code",
   "execution_count": 78,
   "id": "e336955f-ccf6-47a2-8f80-f6511bf0cb67",
   "metadata": {},
   "outputs": [
    {
     "data": {
      "text/plain": [
       "[15.000000000010042, 373.9999999999952]"
      ]
     },
     "execution_count": 78,
     "metadata": {},
     "output_type": "execute_result"
    }
   ],
   "source": [
    "#center_finite_derivative_r2(\"3x^4 - 2x^3y - 4x^2y^2 + 5xy^3 + 2y^4\", ['2', '4'], 0.001)\n",
    "#progressive_finite_derivative_r2(\"3x^4 - 2x^3y - 4x^2y^2 + 5xy^3 + 2y^4\", ['2', '4'], 0.001)\n",
    "#center_finite_derivative_2_r2(\"3x^4 - 2x^3y - 4x^2y^2 + 5xy^3 + 2y^4\", ['2', '3'], 0.001)"
   ]
  },
  {
   "cell_type": "markdown",
   "id": "e398b2e9-03b0-4183-85b2-d35089a26dec",
   "metadata": {},
   "source": [
    "## Lab2 Functions"
   ]
  },
  {
   "cell_type": "code",
   "execution_count": 16,
   "id": "cb83f065-6b44-4bf8-9436-9fef43f8e867",
   "metadata": {},
   "outputs": [],
   "source": [
    "def metodo_biseccion(str_equ, interval, k_max, epsilon):\n",
    "    k = 0\n",
    "    a = float(interval[0])\n",
    "    b = float(interval[1])\n",
    "    error = float('inf')\n",
    "    data = {'Iter': [], 'Xn': [], 'Error': []}\n",
    "    \n",
    "    x_k = (a + b) / 2    \n",
    "    while k < k_max and error > epsilon:\n",
    "        Fa = evaluate_Fx(str_equ, a)\n",
    "        Fx_k = evaluate_Fx(str_equ, x_k)\n",
    "        if (Fa * Fx_k) < 0:\n",
    "            b = x_k\n",
    "        else:\n",
    "            a = x_k\n",
    "        \n",
    "        k += 1\n",
    "        x_k = (a + b) / 2\n",
    "        error = abs(Fx_k)\n",
    "        \n",
    "        data['Iter'].append(k)\n",
    "        data['Xn'].append(x_k)\n",
    "        data['Error'].append(error)\n",
    "        \n",
    "    results = pd.DataFrame(data)\n",
    "    return results"
   ]
  },
  {
   "cell_type": "code",
   "execution_count": 17,
   "id": "3bebef2a-c717-48cb-9f38-6b063e00610b",
   "metadata": {},
   "outputs": [],
   "source": [
    "def metodo_newton(str_equ, x_0, k_max, epsilon):\n",
    "    k = 0\n",
    "    x_k = x_0\n",
    "    error = float('inf')\n",
    "    data = {'Iter': [], 'Xn': [], 'Error': []}\n",
    "    \n",
    "    while k < k_max and error > epsilon:\n",
    "        Fx_k = evaluate_Fx(str_equ, x_k)\n",
    "        dev1_Fx_k = center_finite_derivative_2(str_equ, x_k, 0.00001)\n",
    "        \n",
    "        x_k1 = x_k - (Fx_k / dev1_Fx_k)\n",
    "        x_k = x_k1\n",
    "        k += 1\n",
    "        error = abs(Fx_k)\n",
    "        \n",
    "        data['Iter'].append(k)\n",
    "        data['Xn'].append(x_k)\n",
    "        data['Error'].append(error)\n",
    "        \n",
    "    results = pd.DataFrame(data)\n",
    "    return results"
   ]
  },
  {
   "cell_type": "code",
   "execution_count": 19,
   "id": "56cb2ec4-9c1c-446d-a5b0-8478198065ed",
   "metadata": {},
   "outputs": [],
   "source": [
    "#equ = \"3x^2 + 4x - 3\"\n",
    "#equ = \"e^x + x^2\"\n",
    "\n",
    "#df = metodo_biseccion(equ, ['-4', '4'], 50, 0.001)\n",
    "#df = metodo_newton(equ, 0.1, 50, 0.0001)\n",
    "#df.tail()"
   ]
  }
 ],
 "metadata": {
  "kernelspec": {
   "display_name": "Python 3",
   "language": "python",
   "name": "python3"
  },
  "language_info": {
   "codemirror_mode": {
    "name": "ipython",
    "version": 3
   },
   "file_extension": ".py",
   "mimetype": "text/x-python",
   "name": "python",
   "nbconvert_exporter": "python",
   "pygments_lexer": "ipython3",
   "version": "3.9.4"
  }
 },
 "nbformat": 4,
 "nbformat_minor": 5
}
