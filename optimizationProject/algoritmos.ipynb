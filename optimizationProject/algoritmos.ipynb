{
 "cells": [
  {
   "cell_type": "code",
   "execution_count": 5,
   "id": "15584818-0103-4793-a09e-5f226c544a81",
   "metadata": {},
   "outputs": [],
   "source": [
    "import pandas as pd\n",
    "import numpy as np\n",
    "import math\n",
    "import pickle\n",
    "import matplotlib.pyplot as plt\n",
    "import sklearn.metrics as metrics\n",
    "import re"
   ]
  },
  {
   "cell_type": "markdown",
   "id": "1b1bfb37-810e-469e-bb6c-649dd38fad2a",
   "metadata": {},
   "source": [
    "### Auxiliary functions"
   ]
  },
  {
   "cell_type": "code",
   "execution_count": 6,
   "id": "056b85ed-a8da-437e-b9cf-4caddfa3606d",
   "metadata": {},
   "outputs": [],
   "source": [
    "def format_equation(str_equ, exp = 'x', var = 'x'):\n",
    "    strOut = re.sub(r\"{}\".format(var), \"({})\".format(var), str_equ)\n",
    "    strOut = re.sub(r\"(?<=[A-Za-z0-9\\)])(\\({}\\))\".format(var), \"*({})\".format(var), strOut)\n",
    "    strOut = re.sub(r\"(?<=[0-9])\\(\", \"*(\", strOut)\n",
    "    strOut = re.sub(r\"(\\^\\({}\\))\".format(var), \"**({})\".format(var), strOut)\n",
    "    strOut = re.sub(r\"(\\({}\\))\".format(var), \"({})\".format(exp), strOut)\n",
    "    strOut = re.sub(r\"\\^\", \"**\", strOut)\n",
    "    \n",
    "    strOut = re.sub(r\"e\", \"math.e\", strOut)\n",
    "    strOut = re.sub(r\"pi\", \"math.pi\", strOut)\n",
    "    strOut = re.sub(r\"sin\", \"math.sin\", strOut)\n",
    "    strOut = re.sub(r\"cos\", \"math.cos\", strOut)\n",
    "    strOut = re.sub(r\"tan\", \"math.tan\", strOut)\n",
    "    strOut = re.sub(r\"(?<=[A-Za-z0-9\\)])(math.)\", \"*math.\", strOut)\n",
    "    return strOut"
   ]
  },
  {
   "cell_type": "code",
   "execution_count": 7,
   "id": "c7e2e840-a4cc-47b4-86b2-53ddbf9d2ed5",
   "metadata": {},
   "outputs": [],
   "source": [
    "def format_secondVar(str_equ, var):\n",
    "    strOut = re.sub(r\"(?<=[A-Za-z0-9\\)])({})\".format(var), \"*({})\".format(var), str_equ)\n",
    "    return strOut"
   ]
  },
  {
   "cell_type": "code",
   "execution_count": 8,
   "id": "76441cc6-566b-4ca1-ae67-28c5fd67d029",
   "metadata": {},
   "outputs": [],
   "source": [
    "#format_equation(\"2x^5+ 3x + x^2 + e^x + 3xy + 3sin(y) - 4cos(x) + 100(x + y)\", 'x + h', 'y')\n",
    "#format_equation(\"1/2x^TQx + c^Tx\", 'x + h', 'x')"
   ]
  },
  {
   "cell_type": "code",
   "execution_count": 9,
   "id": "d3c470a4-c808-4eda-8cb3-958b52a60548",
   "metadata": {},
   "outputs": [],
   "source": [
    "#format_secondVar(\"3x^4 - 2x^3y - 4x^2y^2 + 5xy^3 + y^4\", 'x')"
   ]
  },
  {
   "cell_type": "code",
   "execution_count": 10,
   "id": "c1c7101c-8b02-4683-9fcf-7997d75ad74d",
   "metadata": {},
   "outputs": [],
   "source": [
    "def evaluate_Fx(str_equ, x):\n",
    "    x = float(x)\n",
    "    strOut = format_equation(str_equ, 'x')\n",
    "    result = eval(strOut)\n",
    "    return result"
   ]
  },
  {
   "cell_type": "code",
   "execution_count": 11,
   "id": "9c5122e5-4270-4c4e-9f4a-59c402eeacfd",
   "metadata": {},
   "outputs": [],
   "source": [
    "def finite_derivative(str_equ, x, h):\n",
    "    x = float(x)\n",
    "    h = float(h)\n",
    "    f1 = f2 = f3 = '(' +  str_equ + ')'\n",
    "    \n",
    "    f1 = format_equation(f1, 'x + 2*h')\n",
    "    f2 = format_equation(f2, 'x + h')\n",
    "    f3 = format_equation(f3, 'x')\n",
    "      \n",
    "    strOut = '(' + f1 + ' - 4 * ' + f2 + ' + 3 *' + f3 + ')' + ' / (2 * h)'\n",
    "    result = eval(strOut)\n",
    "    return result"
   ]
  },
  {
   "cell_type": "markdown",
   "id": "b4e0ef37-f667-4795-881b-4dcbf2cc7e2d",
   "metadata": {},
   "source": [
    "## Lab1 Functions (derivatives)"
   ]
  },
  {
   "cell_type": "markdown",
   "id": "0c8b07d3-5a7f-4969-9c7a-9ee41333d8ea",
   "metadata": {},
   "source": [
    "#### R1 functions"
   ]
  },
  {
   "cell_type": "code",
   "execution_count": 12,
   "id": "723b68e1-f3c0-41d2-b14a-61623154371f",
   "metadata": {},
   "outputs": [],
   "source": [
    "def center_finite_derivative(str_equ, x, h):\n",
    "    x = float(x)\n",
    "    h = float(h)\n",
    "    f1 = f2 = '(' +  str_equ + ')'\n",
    "    \n",
    "    f1 = format_equation(f1, 'x + h')\n",
    "    f2 = format_equation(f2, 'x - h')\n",
    "      \n",
    "    strOut = '(' + f1 + ' - ' + f2 + ')' + ' / (2 * h)'\n",
    "    result = eval(strOut)\n",
    "    return np.array(result, dtype = np.float32)"
   ]
  },
  {
   "cell_type": "code",
   "execution_count": 13,
   "id": "a19611ac-0fa8-43be-8e98-5f2ca7a6974d",
   "metadata": {},
   "outputs": [],
   "source": [
    "def progressive_finite_derivative(str_equ, x, h):\n",
    "    x = float(x)\n",
    "    h = float(h)\n",
    "    f1 = f2 = f3 = '(' +  str_equ + ')'\n",
    "   \n",
    "    f1 = format_equation(f1, 'x')\n",
    "    f2 = format_equation(f2, 'x + h')\n",
    "    f3 = format_equation(f3, 'x + 2*h')\n",
    "      \n",
    "    strOut = '( -3 * ' + f1 + ' + 4 * ' + f2 + ' - ' + f3 + ')' + ' / (2 * h)'\n",
    "    result = eval(strOut)\n",
    "    return np.array(result, dtype = np.float32)"
   ]
  },
  {
   "cell_type": "code",
   "execution_count": 14,
   "id": "8787eea6-ad1d-459e-8df6-ac7e7fb08c44",
   "metadata": {},
   "outputs": [],
   "source": [
    "def center_finite_derivative_2(str_equ, x, h):\n",
    "    x = float(x)\n",
    "    h = float(h)\n",
    "    f1 = f2 = f3 = f4 = '(' +  str_equ + ')'\n",
    "    \n",
    "    f1 = format_equation(f1, 'x + h')\n",
    "    f2 = format_equation(f2, 'x - h')   \n",
    "    f3 = format_equation(f3, 'x + 2*h')   \n",
    "    f4 = format_equation(f4, 'x - 2*h')   \n",
    "      \n",
    "    strOut = '(' + f4 + ' - 8 * ' + f2 + ' + 8 * ' + f1 + ' - ' + f3 + ')' + ' / (12 * h)'\n",
    "    result = eval(strOut)\n",
    "    return np.array(result, dtype = np.float32)"
   ]
  },
  {
   "cell_type": "code",
   "execution_count": 15,
   "id": "f0d341f6-ab8c-4e99-9f4d-420ce19db737",
   "metadata": {},
   "outputs": [],
   "source": [
    "#center_finite_derivative(\"2x^5 - 3\", 1, 2)"
   ]
  },
  {
   "cell_type": "code",
   "execution_count": 16,
   "id": "f3850b85-954f-48c3-890a-0c1e19d3dcd9",
   "metadata": {},
   "outputs": [],
   "source": [
    "#progressive_finite_derivative(\"2x^5 - 3\", 1, 2)"
   ]
  },
  {
   "cell_type": "code",
   "execution_count": 17,
   "id": "796912bc-58b9-4212-ba04-3389567f732a",
   "metadata": {},
   "outputs": [],
   "source": [
    "#center_finite_derivative_2(\"2x^5 - 3\", 1, 2)"
   ]
  },
  {
   "cell_type": "markdown",
   "id": "a407aed7-1950-426f-a668-16dc6b227dd4",
   "metadata": {},
   "source": [
    "#### R2 Functions"
   ]
  },
  {
   "cell_type": "code",
   "execution_count": 18,
   "id": "269bd491-aaea-4c4d-aff4-67a3b217f49e",
   "metadata": {},
   "outputs": [],
   "source": [
    "def center_finite_derivative_r2(str_equ, p, h):\n",
    "    x = float(p[0])\n",
    "    y = float(p[1])\n",
    "    h = float(h)\n",
    "    \n",
    "    str_parciales = []\n",
    "    for var in ['x', 'y']:\n",
    "        #equ = str_equ.replace('y', '*(y)') if var == 'x' else str_equ.replace('x', '*(x)')\n",
    "        equ = format_secondVar(str_equ, 'y') if var == 'x' else format_secondVar(str_equ, 'x')\n",
    "        f1 = f2 = '(' +  equ + ')'\n",
    " \n",
    "        f1 = format_equation(f1, var + ' + h', var)   \n",
    "        f2 = format_equation(f2, var + ' - h', var)   \n",
    "      \n",
    "        strOut = '(' + f1 + ' - ' + f2 + ')' + ' / (2 * h)'\n",
    "        str_parciales.append(strOut)\n",
    "    \n",
    "    #[print(parcial) for parcial in str_parciales]\n",
    "    result = [eval(parcial, {}, {'x': x, 'y': y, 'h': h}) for parcial in str_parciales]\n",
    "    return np.array(result, dtype = np.float32)"
   ]
  },
  {
   "cell_type": "code",
   "execution_count": 19,
   "id": "b4383ac3-31e3-4df1-bffc-ce65615044b3",
   "metadata": {},
   "outputs": [],
   "source": [
    "def progressive_finite_derivative_r2(str_equ, p, h):\n",
    "    x = float(p[0])\n",
    "    y = float(p[1])\n",
    "    h = float(h)\n",
    "     \n",
    "    str_parciales = []\n",
    "    for var in ['x', 'y']:\n",
    "        equ = format_secondVar(str_equ, 'y') if var == 'x' else format_secondVar(str_equ, 'x')\n",
    "        f1 = f2 = f3 = '(' +  equ + ')'\n",
    "   \n",
    "        f1 = format_equation(f1, var, var)   \n",
    "        f2 = format_equation(f2, var + '+ h', var)   \n",
    "        f3 = format_equation(f3, var + ' + 2*h', var)   \n",
    "        \n",
    "        strOut = '(-3 * ' + f1 + ' + 4 * ' + f2 + ' - ' + f3 + ')' + ' / (2 * h)'\n",
    "        str_parciales.append(strOut)\n",
    "        \n",
    "        \n",
    "    #[print(parcial) for parcial in str_parciales]\n",
    "    result = [eval(parcial, {}, {'x': x, 'y': y, 'h': h}) for parcial in str_parciales]\n",
    "    return np.array(result, dtype = np.float32)"
   ]
  },
  {
   "cell_type": "code",
   "execution_count": 20,
   "id": "16c3a114-5e93-4744-b499-1040be1280b1",
   "metadata": {},
   "outputs": [],
   "source": [
    "def center_finite_derivative_2_r2(str_equ, p, h):\n",
    "    x = float(p[0])\n",
    "    y = float(p[1])\n",
    "    h = float(h)\n",
    "     \n",
    "    str_parciales = []\n",
    "    for var in ['x', 'y']:\n",
    "        equ = format_secondVar(str_equ, 'y') if var == 'x' else format_secondVar(str_equ, 'x')\n",
    "        f1 = f2 = f3 = f4 = '(' +  equ + ')'\n",
    "    \n",
    "        f1 = format_equation(f1, var + ' + h', var)   \n",
    "        f2 = format_equation(f2, var + ' - h', var)   \n",
    "        f3 = format_equation(f3, var + ' + 2*h', var)   \n",
    "        f4 = format_equation(f4, var + ' - 2*h', var)   \n",
    "        \n",
    "        strOut = '(' + f4 + ' - 8 * ' + f2 + ' + 8 * ' + f1 + ' - ' + f3 + ')' + ' / (12 * h)'\n",
    "        str_parciales.append(strOut)     \n",
    "    \n",
    "    #[print(parcial) for parcial in str_parciales]\n",
    "    result = [eval(parcial, {}, {'x': x, 'y': y, 'h': h}) for parcial in str_parciales]\n",
    "    return np.array(result, dtype = np.float32)"
   ]
  },
  {
   "cell_type": "code",
   "execution_count": 21,
   "id": "d8570119-5198-4978-a44d-c117eb3395d5",
   "metadata": {},
   "outputs": [],
   "source": [
    "#format_secondVar(\"3x^4 - 2x^3y - 4x^2y^2 + 5xy^3 + 2y^4\", 'x')"
   ]
  },
  {
   "cell_type": "code",
   "execution_count": 22,
   "id": "e336955f-ccf6-47a2-8f80-f6511bf0cb67",
   "metadata": {},
   "outputs": [],
   "source": [
    "#center_finite_derivative_r2(\"3x^4 - 2x^3y - 4x^2y^2 + 5xy^3 + 2y^4\", ['2', '4'], 0.001)\n",
    "#progressive_finite_derivative_r2(\"3x^4 - 2x^3y - 4x^2y^2 + 5xy^3 + 2y^4\", ['2', '4'], 0.001)\n",
    "#center_finite_derivative_2_r2(\"3x^4 - 2x^3y - 4x^2y^2 + 5xy^3 + 2y^4\", ['2', '3'], 0.001)"
   ]
  },
  {
   "cell_type": "markdown",
   "id": "7a655b36-6fb0-46c8-8bc5-b93230c8710b",
   "metadata": {},
   "source": [
    "### Any R Space Derivative Function"
   ]
  },
  {
   "cell_type": "code",
   "execution_count": 23,
   "id": "774f9a53-20a2-42e0-865d-d8a9cf223d5f",
   "metadata": {},
   "outputs": [],
   "source": [
    "def center_finite_derivative_2_full(str_equ, p, h):\n",
    "    x = np.array(p, dtype = np.float32)\n",
    "    all_vars = ['x_{}'.format(i) for i in range(0, len(x))]\n",
    "    vars_dict = {var: x_val for (var, x_val) in zip(all_vars, x)}\n",
    "    vars_dict['h'] = h\n",
    "    \n",
    "    str_parciales = []\n",
    "    equ = str_equ\n",
    "    for i in range(0, len(x)):\n",
    "        var = 'x_{}'.format(i)\n",
    "        for incognita in all_vars:\n",
    "            if incognita != var:\n",
    "                equ = format_secondVar(equ, incognita)\n",
    "        f1 = f2 = f3 = f4 = '(' +  equ + ')'\n",
    "    \n",
    "        f1 = format_equation(f1, var + ' + h', var)   \n",
    "        f2 = format_equation(f2, var + ' - h', var)   \n",
    "        f3 = format_equation(f3, var + ' + 2*h', var)   \n",
    "        f4 = format_equation(f4, var + ' - 2*h', var)   \n",
    "        \n",
    "        strOut = '(' + f4 + ' - 8 * ' + f2 + ' + 8 * ' + f1 + ' - ' + f3 + ')' + ' / (12 * h)'\n",
    "        str_parciales.append(strOut)     \n",
    "    \n",
    "    #[print(parcial) for parcial in str_parciales]\n",
    "    result = [eval(parcial, {}, vars_dict) for parcial in str_parciales]\n",
    "    return np.array(result, dtype = np.float32)"
   ]
  },
  {
   "cell_type": "code",
   "execution_count": 24,
   "id": "534a243e-e775-4b4e-91af-721512d1863c",
   "metadata": {},
   "outputs": [],
   "source": [
    "#center_finite_derivative_2_full(\"3x_0^4 - 2x_1^3 - 4x_2^2x_1 + x_0\", ['1', '2', '3'], 0.001)"
   ]
  },
  {
   "cell_type": "markdown",
   "id": "e398b2e9-03b0-4183-85b2-d35089a26dec",
   "metadata": {},
   "source": [
    "## Lab2 Functions (ceros)"
   ]
  },
  {
   "cell_type": "code",
   "execution_count": 25,
   "id": "cb83f065-6b44-4bf8-9436-9fef43f8e867",
   "metadata": {},
   "outputs": [],
   "source": [
    "def metodo_biseccion(str_equ, interval, k_max, epsilon):\n",
    "    k = 0\n",
    "    a = float(interval[0])\n",
    "    b = float(interval[1])\n",
    "    error = float('inf')\n",
    "    data = {'Iter': [], 'Xn': [], 'Error': []}\n",
    "    \n",
    "    x_k = (a + b) / 2    \n",
    "    while k < k_max and error > epsilon:\n",
    "        Fa = evaluate_Fx(str_equ, a)\n",
    "        Fx_k = evaluate_Fx(str_equ, x_k)\n",
    "        if (Fa * Fx_k) < 0:\n",
    "            b = x_k\n",
    "        else:\n",
    "            a = x_k\n",
    "        \n",
    "        k += 1\n",
    "        x_k = (a + b) / 2\n",
    "        error = abs(Fx_k)\n",
    "        \n",
    "        data['Iter'].append(k)\n",
    "        data['Xn'].append(x_k)\n",
    "        data['Error'].append(error)\n",
    "        \n",
    "    results = pd.DataFrame(data)\n",
    "    return results"
   ]
  },
  {
   "cell_type": "code",
   "execution_count": 26,
   "id": "3bebef2a-c717-48cb-9f38-6b063e00610b",
   "metadata": {},
   "outputs": [],
   "source": [
    "def metodo_newton(str_equ, x_0, k_max, epsilon):\n",
    "    k = 0\n",
    "    x_k = x_0\n",
    "    error = float('inf')\n",
    "    data = {'Iter': [], 'Xn': [], 'Error': []}\n",
    "    \n",
    "    while k < k_max and error > epsilon:\n",
    "        Fx_k = evaluate_Fx(str_equ, x_k)\n",
    "        dev1_Fx_k = center_finite_derivative_2(str_equ, x_k, 0.00001)\n",
    "        \n",
    "        x_k1 = x_k - (Fx_k / dev1_Fx_k)\n",
    "        x_k = x_k1\n",
    "        k += 1\n",
    "        error = abs(Fx_k)\n",
    "        \n",
    "        data['Iter'].append(k)\n",
    "        data['Xn'].append(x_k)\n",
    "        data['Error'].append(error)\n",
    "        \n",
    "    results = pd.DataFrame(data)\n",
    "    return results"
   ]
  },
  {
   "cell_type": "code",
   "execution_count": 27,
   "id": "56cb2ec4-9c1c-446d-a5b0-8478198065ed",
   "metadata": {},
   "outputs": [],
   "source": [
    "#equ = \"3x^2 + 4x - 3\"\n",
    "#equ = \"e^x + x^2\"\n",
    "\n",
    "#df = metodo_biseccion(equ, ['-4', '4'], 50, 0.001)\n",
    "#df = metodo_newton(equ, 0.1, 50, 0.0001)\n",
    "#df.tail()"
   ]
  },
  {
   "cell_type": "markdown",
   "id": "ecb70791-22c3-4542-8321-756344567aa8",
   "metadata": {},
   "source": [
    "## Lab3 Functions (GD)"
   ]
  },
  {
   "cell_type": "code",
   "execution_count": 28,
   "id": "72c92f82-00f1-40fd-b95e-14185c77842d",
   "metadata": {},
   "outputs": [],
   "source": [
    "def parseInput(x, reshape = False):\n",
    "    if reshape:\n",
    "        rows = len(x)\n",
    "        x = np.array(x, dtype = 'float').reshape(rows, 1)\n",
    "    else:\n",
    "        x = np.array(x, dtype = 'float')\n",
    "\n",
    "    return x"
   ]
  },
  {
   "cell_type": "code",
   "execution_count": 29,
   "id": "b08f6aa3-2ab8-4d04-a5ba-dfb30c98277a",
   "metadata": {},
   "outputs": [],
   "source": [
    "def getLearningRate(opt, k, gradient = None, Q = None, alpha = 0.001):\n",
    "    if opt == 'Exacto':\n",
    "        lr = (np.linalg.norm(gradient, 2)**2) / np.matmul(np.matmul(gradient.T, Q), gradient)\n",
    "        lr = lr[0, 0]\n",
    "    elif opt == 'Constante':\n",
    "        lr = alpha\n",
    "    elif opt == 'Variable':\n",
    "        lr = 1/k\n",
    "    else:\n",
    "        lr = 1\n",
    "        \n",
    "    return lr"
   ]
  },
  {
   "cell_type": "code",
   "execution_count": 30,
   "id": "7fe212ce-4d91-4658-83ec-f6dd225ebe46",
   "metadata": {},
   "outputs": [],
   "source": [
    "def gradient_descent_QP(x_0, Q, c, kmax, epsilon, lr_type, alpha = 0.001):\n",
    "    k = 0\n",
    "    x_k = parseInput(x_0, reshape = True)\n",
    "    c = parseInput(c, reshape = True)\n",
    "    Q = parseInput(Q)\n",
    "    error = float('inf')\n",
    "    data = {'Iter': [], 'Xn': [], 'Pk': [], 'Error': []}\n",
    "      \n",
    "    while k < kmax and error > epsilon:\n",
    "        gradient = np.matmul(Q, x_k) + c\n",
    "        lr = getLearningRate(lr_type, k + 1, gradient, Q, alpha)\n",
    "        x_k1 = x_k - (lr * gradient)\n",
    "        \n",
    "        x_k = x_k1\n",
    "        k += 1\n",
    "        error = np.linalg.norm(gradient)\n",
    "        \n",
    "        data['Iter'].append(k)\n",
    "        data['Xn'].append(x_k)\n",
    "        data['Pk'].append(-1 * gradient)\n",
    "        data['Error'].append(error)     \n",
    "  \n",
    "    results = pd.DataFrame(data)\n",
    "    return results"
   ]
  },
  {
   "cell_type": "code",
   "execution_count": 31,
   "id": "46ec54e6-2b65-442e-9da5-98e4571bb728",
   "metadata": {},
   "outputs": [],
   "source": [
    "#First and second try\n",
    "Q = np.array([[2, -1, 0], [-1, 2, -1], [0, -1, 2]])\n",
    "c = np.array([1, 0 ,1]).reshape(3, 1)\n",
    "#x_0 = np.array([3, 5, 7]).reshape(3, 1)\n",
    "x_0 = np.array([-1, 2, -3])\n",
    "epsilon = 0.000001\n",
    "lr_type = ['Exacto', 'Constante', 'Variable']\n",
    "N = 30"
   ]
  },
  {
   "cell_type": "code",
   "execution_count": 32,
   "id": "5ed26354-b1e2-4ced-8cb1-5af6db25aaba",
   "metadata": {},
   "outputs": [],
   "source": [
    "#data = gradient_descent_QP(x_0, Q, c, N, epsilon, lr_type[0], alpha = 0.001)\n",
    "#data.tail()"
   ]
  },
  {
   "cell_type": "code",
   "execution_count": 33,
   "id": "84ba6bfb-bfdd-4aa9-b12f-24d140952ef8",
   "metadata": {},
   "outputs": [],
   "source": [
    "def getRosenbrockGradient(x0):\n",
    "    x = x0[0, 0]\n",
    "    y = x0[1, 0]\n",
    "    g1 = eval('400*(x**3) + 2*(x) - 400*(x)*(y) - 2', {}, {'x': x, 'y': y})\n",
    "    g2 = eval('-200*(x**2) + 200*(y)', {}, {'x': x, 'y': y})\n",
    "    gradient = np.array([g1, g2], dtype = 'float').reshape(2,1)\n",
    "    \n",
    "    return gradient"
   ]
  },
  {
   "cell_type": "code",
   "execution_count": 34,
   "id": "19ddf1c9-fc89-468d-9efd-aba72e5312c3",
   "metadata": {},
   "outputs": [],
   "source": [
    "def rosenbrock_gd(x_0, kmax, epsilon, lr):\n",
    "    k = 0\n",
    "    x_k = parseInput(x_0, reshape = True)\n",
    "    error = float('inf')\n",
    "    data = {'Iter': [], 'Xn': [], 'Pk': [], 'Error': []}\n",
    "      \n",
    "    while k < kmax and error > epsilon:\n",
    "        gradient = getRosenbrockGradient(x_k)\n",
    "        x_k1 = x_k - (lr * gradient)\n",
    "\n",
    "        x_k = x_k1\n",
    "        k += 1\n",
    "        error = np.linalg.norm(gradient)\n",
    "        \n",
    "        data['Iter'].append(k)\n",
    "        data['Xn'].append(x_k.round(7))\n",
    "        data['Pk'].append(-1 * gradient.round(7))\n",
    "        data['Error'].append(error.round(7))  \n",
    "    \n",
    "    results = pd.DataFrame(data)\n",
    "    return results"
   ]
  },
  {
   "cell_type": "code",
   "execution_count": 35,
   "id": "2c3edfa5-2ae2-4bdd-ab77-58bb88e03e0b",
   "metadata": {},
   "outputs": [],
   "source": [
    "#getRosenbrockGradient(np.array([30., 30.]).reshape(2,1))"
   ]
  },
  {
   "cell_type": "code",
   "execution_count": 36,
   "id": "65db08f7-812c-4894-a90a-5711244514eb",
   "metadata": {},
   "outputs": [],
   "source": [
    "#x_0 = np.array(['0', '0'])\n",
    "#alpha = 0.05\n",
    "#epsilon = 0.00000001\n",
    "#N = 1000"
   ]
  },
  {
   "cell_type": "code",
   "execution_count": null,
   "id": "b827fe53-3c33-4c70-851e-ca2900abd246",
   "metadata": {},
   "outputs": [],
   "source": [
    "#rosenbrock_gd(x_0, N, epsilon, alpha)"
   ]
  },
  {
   "cell_type": "markdown",
   "source": [
    "### Lab4 (GD Variants and Newton)"
   ],
   "metadata": {
    "collapsed": false,
    "pycharm": {
     "name": "#%% md\n"
    }
   }
  },
  {
   "cell_type": "markdown",
   "source": [
    "### GD Variants"
   ],
   "metadata": {
    "collapsed": false,
    "pycharm": {
     "name": "#%% md\n"
    }
   }
  },
  {
   "cell_type": "code",
   "execution_count": 37,
   "outputs": [],
   "source": [
    "def generateData(d, n, path):\n",
    "    A = np.random.normal(0, 1, size = (n,d))\n",
    "    x_true = np.random.normal(0, 1, size = (d,1))\n",
    "    b = A.dot(x_true) + np.random.normal(0, 0.5, size = (n,1))\n",
    "    data = {'x_true': x_true, 'b': b, 'A': A}\n",
    "\n",
    "    with open(path + '/datos.pickle', 'wb') as pickle_out:\n",
    "        pickle.dump(data, pickle_out)\n",
    "\n",
    "    return 'Data store successfully'"
   ],
   "metadata": {
    "collapsed": false,
    "pycharm": {
     "name": "#%%\n"
    }
   }
  },
  {
   "cell_type": "code",
   "execution_count": 38,
   "outputs": [],
   "source": [
    "def getData(filepath):\n",
    "    with open(filepath,\"rb\") as pickle_in:\n",
    "        data = pickle.load(pickle_in)\n",
    "\n",
    "    A = data['A']\n",
    "    b = data['b']\n",
    "    x_true = data['x_true']\n",
    "\n",
    "    return A, b, x_true"
   ],
   "metadata": {
    "collapsed": false,
    "pycharm": {
     "name": "#%%\n"
    }
   }
  },
  {
   "cell_type": "code",
   "execution_count": 146,
   "outputs": [],
   "source": [
    "def computeGD(path, x_0, kmax, lr, mb_size, epsilon = 0.00000001):\n",
    "    k = 0\n",
    "    x_k = x_0\n",
    "    A, b, x_true = getData(path)\n",
    "    error = float('inf')\n",
    "    data = {'Iter': [], 'Xn': [], 'Pk': [], 'Error': [], 'F*': [], 'e_n': []}\n",
    "\n",
    "    mat = np.hstack((A,b))\n",
    "    while k < kmax and error > epsilon:\n",
    "        np.random.shuffle(mat) #in-place shuffle\n",
    "        iters = A.shape[0] // mb_size\n",
    "        for i in range(0, iters):\n",
    "            start = i * mb_size\n",
    "            end = (1+i) * mb_size\n",
    "            A_mb = mat[start:end, :-1]\n",
    "            b_mb = mat[start:end, -1]\n",
    "            b_mb = np.expand_dims(b_mb, axis = 1)\n",
    "\n",
    "            gradient = np.matmul(np.matmul(A_mb.T, A_mb), x_k) - np.matmul(A_mb.T, b_mb)\n",
    "            x_k1 = x_k - (lr * gradient)\n",
    "            x_k = x_k1\n",
    "\n",
    "        k += 1\n",
    "        #f_k = 0.5 * np.mean((np.matmul(A, x_k) - b)**2) #objective function\n",
    "        f_k = np.sum((np.matmul(A, x_k) - b)**2)\n",
    "        e_k = np.linalg.norm(x_k - x_true)\n",
    "        error = np.linalg.norm(gradient)\n",
    "        data['Iter'].append(k)\n",
    "        data['Xn'].append(x_k.round(7))\n",
    "        data['Pk'].append(-1 * gradient.round(7))\n",
    "        data['Error'].append(error.round(7))\n",
    "        data['F*'].append(f_k.round(7))\n",
    "        data['e_n'].append(e_k.round(7))\n",
    "\n",
    "    results = pd.DataFrame(data)\n",
    "    return results"
   ],
   "metadata": {
    "collapsed": false,
    "pycharm": {
     "name": "#%%\n"
    }
   }
  },
  {
   "cell_type": "code",
   "execution_count": 79,
   "outputs": [
    {
     "data": {
      "text/plain": "'Data store successfully'"
     },
     "execution_count": 79,
     "metadata": {},
     "output_type": "execute_result"
    }
   ],
   "source": [
    "path = 'D:/cgarcia/Galileo/3er_Trimestre/AlgoritmosDS/Labs/AlgoritmosDS/optimizationProject/data'\n",
    "generateData(100, 1000, path)"
   ],
   "metadata": {
    "collapsed": false,
    "pycharm": {
     "name": "#%%\n"
    }
   }
  },
  {
   "cell_type": "code",
   "execution_count": 80,
   "outputs": [],
   "source": [
    "A, b, x_true = getData(path + '/datos.pickle')"
   ],
   "metadata": {
    "collapsed": false,
    "pycharm": {
     "name": "#%%\n"
    }
   }
  },
  {
   "cell_type": "code",
   "execution_count": 81,
   "outputs": [
    {
     "name": "stdout",
     "output_type": "stream",
     "text": [
      "(1000, 100)\n",
      "(1000, 1)\n",
      "(100, 1)\n"
     ]
    }
   ],
   "source": [
    "print(A.shape)\n",
    "print(b.shape)\n",
    "print(x_true.shape)"
   ],
   "metadata": {
    "collapsed": false,
    "pycharm": {
     "name": "#%%\n"
    }
   }
  },
  {
   "cell_type": "markdown",
   "source": [
    "##### Parte 1 - Solucion Cerrada"
   ],
   "metadata": {
    "collapsed": false,
    "pycharm": {
     "name": "#%% md\n"
    }
   }
  },
  {
   "cell_type": "code",
   "execution_count": 143,
   "outputs": [],
   "source": [
    "def getCloseSolution(path):\n",
    "    A, b, x_true = getData(path)\n",
    "    inverse = np.linalg.inv(np.matmul(A.T, A))\n",
    "    x = np.matmul(np.matmul(inverse, A.T), b)\n",
    "    #f_x = 0.5 * np.mean((np.matmul(A, x) - b)**2)\n",
    "    f_x = np.sum((np.matmul(A, x) - b)**2)\n",
    "    e_x = np.linalg.norm(x - x_true)\n",
    "\n",
    "    gradient = np.matmul(np.matmul(A.T, A), x) - np.matmul(A.T, b)\n",
    "    error = np.linalg.norm(gradient)\n",
    "    results = pd.DataFrame({'Iter': 1, 'Xn': [x], 'Error': error, 'F*': f_x, 'e_n': e_x})\n",
    "\n",
    "    return results"
   ],
   "metadata": {
    "collapsed": false,
    "pycharm": {
     "name": "#%%\n"
    }
   }
  },
  {
   "cell_type": "code",
   "execution_count": 144,
   "outputs": [
    {
     "data": {
      "text/plain": "   Iter                                                 Xn         Error  \\\n0     1  [[0.21769950921647985], [-0.727890397739451], ...  4.203461e-12   \n\n         F*       e_n  \n0  225.0218  0.157042  ",
      "text/html": "<div>\n<style scoped>\n    .dataframe tbody tr th:only-of-type {\n        vertical-align: middle;\n    }\n\n    .dataframe tbody tr th {\n        vertical-align: top;\n    }\n\n    .dataframe thead th {\n        text-align: right;\n    }\n</style>\n<table border=\"1\" class=\"dataframe\">\n  <thead>\n    <tr style=\"text-align: right;\">\n      <th></th>\n      <th>Iter</th>\n      <th>Xn</th>\n      <th>Error</th>\n      <th>F*</th>\n      <th>e_n</th>\n    </tr>\n  </thead>\n  <tbody>\n    <tr>\n      <th>0</th>\n      <td>1</td>\n      <td>[[0.21769950921647985], [-0.727890397739451], ...</td>\n      <td>4.203461e-12</td>\n      <td>225.0218</td>\n      <td>0.157042</td>\n    </tr>\n  </tbody>\n</table>\n</div>"
     },
     "execution_count": 144,
     "metadata": {},
     "output_type": "execute_result"
    }
   ],
   "source": [
    "results = getCloseSolution(path + '/datos.pickle')\n",
    "results"
   ],
   "metadata": {
    "collapsed": false,
    "pycharm": {
     "name": "#%%\n"
    }
   }
  },
  {
   "cell_type": "markdown",
   "source": [
    "##### Parte 2 - GD"
   ],
   "metadata": {
    "collapsed": false,
    "pycharm": {
     "name": "#%% md\n"
    }
   }
  },
  {
   "cell_type": "code",
   "execution_count": 147,
   "outputs": [],
   "source": [
    "lr_list = [0.00005, 0.0005, 0.0007]\n",
    "x_0 = np.zeros_like(x_true)\n",
    "kmax = 100"
   ],
   "metadata": {
    "collapsed": false,
    "pycharm": {
     "name": "#%%\n"
    }
   }
  },
  {
   "cell_type": "code",
   "execution_count": 148,
   "outputs": [
    {
     "name": "stdout",
     "output_type": "stream",
     "text": [
      "LR 5e-05-------------\n",
      "Error:  146.4229128\n",
      "F*:  256.1474256\n",
      "e_n:  0.2836717\n",
      "LR 0.0005-------------\n",
      "Error:  0.0\n",
      "F*:  225.0218001\n",
      "e_n:  0.1570423\n",
      "LR 0.0007-------------\n",
      "Error:  0.0\n",
      "F*:  225.0218001\n",
      "e_n:  0.1570423\n"
     ]
    },
    {
     "data": {
      "text/plain": "<Figure size 432x288 with 1 Axes>",
      "image/png": "[encoded data removed]"
     },
     "metadata": {
      "needs_background": "light"
     },
     "output_type": "display_data"
    }
   ],
   "source": [
    "for lr in lr_list:\n",
    "    df = computeGD(path + './datos.pickle', x_0, kmax, lr, A.shape[0])\n",
    "    print('LR {}-------------'.format(lr))\n",
    "    print('Error: ',df.iloc[-1, -3])\n",
    "    print('F*: ',df.iloc[-1, -2])\n",
    "    print('e_n: ', df.iloc[-1, -1])\n",
    "    plt.plot(np.arange(1,21), df.loc[:19, 'Error'], label = 'LR: {}'.format(lr))\n",
    "\n",
    "plt.title('GD')\n",
    "plt.xlabel('Iters')\n",
    "plt.ylabel('Error')\n",
    "plt.legend()\n",
    "plt.show()"
   ],
   "metadata": {
    "collapsed": false,
    "pycharm": {
     "name": "#%%\n"
    }
   }
  },
  {
   "cell_type": "code",
   "execution_count": 151,
   "outputs": [
    {
     "data": {
      "text/plain": "    Iter                                                 Xn  \\\n0      1  [[0.6510327], [-0.6402778], [0.5964973], [-0.4...   \n1      2  [[0.3748679], [-0.748828], [1.0003858], [-0.39...   \n2      3  [[0.2942286], [-0.7439306], [1.1967648], [-0.3...   \n3      4  [[0.2485132], [-0.7408796], [1.2982121], [-0.3...   \n4      5  [[0.2299616], [-0.737101], [1.3503136], [-0.28...   \n5      6  [[0.221614], [-0.7344063], [1.3767358], [-0.26...   \n6      7  [[0.2182668], [-0.7323818], [1.3902125], [-0.2...   \n7      8  [[0.2170641], [-0.7309279], [1.3970808], [-0.2...   \n8      9  [[0.216781], [-0.7299069], [1.4005936], [-0.25...   \n9     10  [[0.2168469], [-0.7292088], [1.4023944], [-0.2...   \n10    11  [[0.2170168], [-0.7287417], [1.4033202], [-0.2...   \n11    12  [[0.2171916], [-0.7284346], [1.4037972], [-0.2...   \n12    13  [[0.2173376], [-0.7282356], [1.4040433], [-0.2...   \n13    14  [[0.2174489], [-0.728108], [1.4041705], [-0.24...   \n14    15  [[0.2175293], [-0.728027], [1.4042361], [-0.24...   \n15    16  [[0.2175855], [-0.7279759], [1.4042699], [-0.2...   \n16    17  [[0.217624], [-0.7279438], [1.4042872], [-0.24...   \n17    18  [[0.2176499], [-0.7279237], [1.404296], [-0.24...   \n18    19  [[0.2176671], [-0.7279112], [1.4043004], [-0.2...   \n19    20  [[0.2176785], [-0.7279034], [1.4043026], [-0.2...   \n20    21  [[0.2176859], [-0.7278985], [1.4043036], [-0.2...   \n21    22  [[0.2176907], [-0.7278955], [1.404304], [-0.24...   \n22    23  [[0.2176939], [-0.7278936], [1.4043042], [-0.2...   \n23    24  [[0.2176959], [-0.7278924], [1.4043043], [-0.2...   \n24    25  [[0.2176972], [-0.7278916], [1.4043043], [-0.2...   \n25    26  [[0.217698], [-0.7278912], [1.4043043], [-0.24...   \n26    27  [[0.2176986], [-0.7278909], [1.4043043], [-0.2...   \n27    28  [[0.2176989], [-0.7278907], [1.4043042], [-0.2...   \n28    29  [[0.2176991], [-0.7278906], [1.4043042], [-0.2...   \n29    30  [[0.2176993], [-0.7278905], [1.4043042], [-0.2...   \n30    31  [[0.2176994], [-0.7278905], [1.4043042], [-0.2...   \n31    32  [[0.2176994], [-0.7278905], [1.4043042], [-0.2...   \n32    33  [[0.2176994], [-0.7278904], [1.4043042], [-0.2...   \n33    34  [[0.2176995], [-0.7278904], [1.4043042], [-0.2...   \n34    35  [[0.2176995], [-0.7278904], [1.4043042], [-0.2...   \n35    36  [[0.2176995], [-0.7278904], [1.4043042], [-0.2...   \n36    37  [[0.2176995], [-0.7278904], [1.4043042], [-0.2...   \n37    38  [[0.2176995], [-0.7278904], [1.4043042], [-0.2...   \n38    39  [[0.2176995], [-0.7278904], [1.4043042], [-0.2...   \n39    40  [[0.2176995], [-0.7278904], [1.4043042], [-0.2...   \n40    41  [[0.2176995], [-0.7278904], [1.4043042], [-0.2...   \n41    42  [[0.2176995], [-0.7278904], [1.4043042], [-0.2...   \n42    43  [[0.2176995], [-0.7278904], [1.4043042], [-0.2...   \n43    44  [[0.2176995], [-0.7278904], [1.4043042], [-0.2...   \n44    45  [[0.2176995], [-0.7278904], [1.4043042], [-0.2...   \n45    46  [[0.2176995], [-0.7278904], [1.4043042], [-0.2...   \n46    47  [[0.2176995], [-0.7278904], [1.4043042], [-0.2...   \n47    48  [[0.2176995], [-0.7278904], [1.4043042], [-0.2...   \n48    49  [[0.2176995], [-0.7278904], [1.4043042], [-0.2...   \n49    50  [[0.2176995], [-0.7278904], [1.4043042], [-0.2...   \n50    51  [[0.2176995], [-0.7278904], [1.4043042], [-0.2...   \n51    52  [[0.2176995], [-0.7278904], [1.4043042], [-0.2...   \n52    53  [[0.2176995], [-0.7278904], [1.4043042], [-0.2...   \n53    54  [[0.2176995], [-0.7278904], [1.4043042], [-0.2...   \n54    55  [[0.2176995], [-0.7278904], [1.4043042], [-0.2...   \n55    56  [[0.2176995], [-0.7278904], [1.4043042], [-0.2...   \n56    57  [[0.2176995], [-0.7278904], [1.4043042], [-0.2...   \n57    58  [[0.2176995], [-0.7278904], [1.4043042], [-0.2...   \n\n                                                   Pk         Error  \\\n0   [[930.0466936], [-914.6825149], [852.1390162],...  1.105689e+04   \n1   [[-394.5211559], [-155.0717549], [576.9836224]...  2.780026e+03   \n2   [[-115.1989883], [6.9962969], [280.5413004], [...  1.223731e+03   \n3   [[-65.3077043], [4.3584862], [144.9247506], [5...  6.175317e+02   \n4   [[-26.5023404], [5.3980718], [74.4307578], [31...  3.282363e+02   \n5   [[-11.9251416], [3.8496135], [37.7459485], [19...  1.801436e+02   \n6   [[-4.7816337], [2.8920943], [19.252448], [11.9...  1.012746e+02   \n7   [[-1.7182019], [2.0769661], [9.8118288], [7.32...  5.803867e+01   \n8   [[-0.4044064], [1.458607], [5.018348], [4.4801...  3.378214e+01   \n9   [[0.094189], [0.9972407], [2.5725711], [2.7408...  1.991347e+01   \n10  [[0.2427256], [0.6673682], [1.3225232], [1.677...  1.185984e+01   \n11  [[0.2496098], [0.438689], [0.6814076], [1.0281...  7.123102e+00   \n12  [[0.2086518], [0.2843031], [0.3516732], [0.631...  4.307995e+00   \n13  [[0.1589203], [0.1821937], [0.1816222], [0.388...  2.620559e+00   \n14  [[0.1148876], [0.115744], [0.0937395], [0.2390...  1.601900e+00   \n15  [[0.0803612], [0.0730402], [0.0482626], [0.147...  9.833251e-01   \n16  [[0.0549645], [0.0458623], [0.0247263], [0.091...  6.058225e-01   \n17  [[0.036996], [0.0286937], [0.0125626], [0.0566...  3.744542e-01   \n18  [[0.0246071], [0.0179085], [0.0062984], [0.035...  2.321215e-01   \n19  [[0.016219], [0.011161], [0.0030931], [0.02189...  1.442728e-01   \n20  [[0.0106148], [0.0069515], [0.0014699], [0.013...  8.989130e-02   \n21  [[0.006908], [0.0043301], [0.0006613], [0.0085...  5.613650e-02   \n22  [[0.0044752], [0.0026991], [0.0002686], [0.005...  3.513260e-02   \n23  [[0.0028884], [0.0016845], [8.56e-05], [0.0033...  2.203270e-02   \n24  [[0.0018585], [0.001053], [6.2e-06], [0.002101...  1.384460e-02   \n25  [[0.0011928], [0.0006596], [-2.36e-05], [0.001...  8.716000e-03   \n26  [[0.0007638], [0.0004141], [-3.09e-05], [0.000...  5.497300e-03   \n27  [[0.0004882], [0.0002606], [-2.89e-05], [0.000...  3.473500e-03   \n28  [[0.0003116], [0.0001645], [-2.37e-05], [0.000...  2.198500e-03   \n29  [[0.0001985], [0.0001041], [-1.83e-05], [0.000...  1.394000e-03   \n30  [[0.0001264], [6.61e-05], [-1.35e-05], [0.0001...  8.853000e-04   \n31  [[8.03e-05], [4.2e-05], [-9.7e-06], [8.3e-05],...  5.632000e-04   \n32  [[5.1e-05], [2.68e-05], [-6.8e-06], [5.25e-05]...  3.589000e-04   \n33  [[3.24e-05], [1.72e-05], [-4.7e-06], [3.32e-05...  2.290000e-04   \n34  [[2.05e-05], [1.1e-05], [-3.3e-06], [2.1e-05],...  1.464000e-04   \n35  [[1.3e-05], [7.1e-06], [-2.2e-06], [1.33e-05],...  9.370000e-05   \n36  [[8.2e-06], [4.6e-06], [-1.5e-06], [8.4e-06], ...  6.010000e-05   \n37  [[5.2e-06], [3e-06], [-1e-06], [5.4e-06], [-3....  3.860000e-05   \n38  [[3.3e-06], [1.9e-06], [-7e-07], [3.4e-06], [-...  2.480000e-05   \n39  [[2.1e-06], [1.2e-06], [-4e-07], [2.2e-06], [-...  1.600000e-05   \n40  [[1.3e-06], [8e-07], [-3e-07], [1.4e-06], [-1e...  1.030000e-05   \n41  [[8e-07], [5e-07], [-2e-07], [9e-07], [-7e-07]...  6.700000e-06   \n42  [[5e-07], [3e-07], [-1e-07], [6e-07], [-4e-07]...  4.300000e-06   \n43  [[3e-07], [2e-07], [-1e-07], [4e-07], [-3e-07]...  2.800000e-06   \n44  [[2e-07], [1e-07], [-1e-07], [2e-07], [-2e-07]...  1.800000e-06   \n45  [[1e-07], [1e-07], [-0.0], [1e-07], [-1e-07], ...  1.200000e-06   \n46  [[1e-07], [1e-07], [-0.0], [1e-07], [-1e-07], ...  8.000000e-07   \n47  [[1e-07], [0.0], [-0.0], [1e-07], [-1e-07], [-...  5.000000e-07   \n48  [[0.0], [0.0], [-0.0], [0.0], [-0.0], [-0.0], ...  3.000000e-07   \n49  [[0.0], [0.0], [-0.0], [0.0], [-0.0], [-0.0], ...  2.000000e-07   \n50  [[0.0], [0.0], [-0.0], [0.0], [-0.0], [-0.0], ...  1.000000e-07   \n51  [[0.0], [0.0], [-0.0], [0.0], [-0.0], [-0.0], ...  1.000000e-07   \n52  [[0.0], [0.0], [-0.0], [0.0], [-0.0], [-0.0], ...  1.000000e-07   \n53  [[0.0], [0.0], [-0.0], [0.0], [-0.0], [-0.0], ...  0.000000e+00   \n54  [[0.0], [0.0], [-0.0], [0.0], [-0.0], [-0.0], ...  0.000000e+00   \n55  [[0.0], [0.0], [-0.0], [0.0], [-0.0], [-0.0], ...  0.000000e+00   \n56  [[0.0], [0.0], [-0.0], [0.0], [-0.0], [-0.0], ...  0.000000e+00   \n57  [[0.0], [0.0], [-0.0], [0.0], [-0.0], [-0.0], ...  0.000000e+00   \n\n             F*       e_n  \n0   9894.169997  3.609492  \n1   2365.525201  1.794160  \n2    801.290892  0.969708  \n3    393.925587  0.556117  \n4    277.401487  0.345516  \n5    241.982516  0.241229  \n6    230.706106  0.193097  \n7    226.980485  0.172372  \n8    225.712055  0.163720  \n9    225.269537  0.160066  \n10   225.112055  0.158467  \n11   225.055091  0.157736  \n12   225.034208  0.157389  \n13   225.026466  0.157218  \n14   225.023568  0.157132  \n15   225.022474  0.157088  \n16   225.022059  0.157066  \n17   225.021900  0.157054  \n18   225.021839  0.157048  \n19   225.021815  0.157045  \n20   225.021806  0.157043  \n21   225.021802  0.157043  \n22   225.021801  0.157042  \n23   225.021800  0.157042  \n24   225.021800  0.157042  \n25   225.021800  0.157042  \n26   225.021800  0.157042  \n27   225.021800  0.157042  \n28   225.021800  0.157042  \n29   225.021800  0.157042  \n30   225.021800  0.157042  \n31   225.021800  0.157042  \n32   225.021800  0.157042  \n33   225.021800  0.157042  \n34   225.021800  0.157042  \n35   225.021800  0.157042  \n36   225.021800  0.157042  \n37   225.021800  0.157042  \n38   225.021800  0.157042  \n39   225.021800  0.157042  \n40   225.021800  0.157042  \n41   225.021800  0.157042  \n42   225.021800  0.157042  \n43   225.021800  0.157042  \n44   225.021800  0.157042  \n45   225.021800  0.157042  \n46   225.021800  0.157042  \n47   225.021800  0.157042  \n48   225.021800  0.157042  \n49   225.021800  0.157042  \n50   225.021800  0.157042  \n51   225.021800  0.157042  \n52   225.021800  0.157042  \n53   225.021800  0.157042  \n54   225.021800  0.157042  \n55   225.021800  0.157042  \n56   225.021800  0.157042  \n57   225.021800  0.157042  ",
      "text/html": "<div>\n<style scoped>\n    .dataframe tbody tr th:only-of-type {\n        vertical-align: middle;\n    }\n\n    .dataframe tbody tr th {\n        vertical-align: top;\n    }\n\n    .dataframe thead th {\n        text-align: right;\n    }\n</style>\n<table border=\"1\" class=\"dataframe\">\n  <thead>\n    <tr style=\"text-align: right;\">\n      <th></th>\n      <th>Iter</th>\n      <th>Xn</th>\n      <th>Pk</th>\n      <th>Error</th>\n      <th>F*</th>\n      <th>e_n</th>\n    </tr>\n  </thead>\n  <tbody>\n    <tr>\n      <th>0</th>\n      <td>1</td>\n      <td>[[0.6510327], [-0.6402778], [0.5964973], [-0.4...</td>\n      <td>[[930.0466936], [-914.6825149], [852.1390162],...</td>\n      <td>1.105689e+04</td>\n      <td>9894.169997</td>\n      <td>3.609492</td>\n    </tr>\n    <tr>\n      <th>1</th>\n      <td>2</td>\n      <td>[[0.3748679], [-0.748828], [1.0003858], [-0.39...</td>\n      <td>[[-394.5211559], [-155.0717549], [576.9836224]...</td>\n      <td>2.780026e+03</td>\n      <td>2365.525201</td>\n      <td>1.794160</td>\n    </tr>\n    <tr>\n      <th>2</th>\n      <td>3</td>\n      <td>[[0.2942286], [-0.7439306], [1.1967648], [-0.3...</td>\n      <td>[[-115.1989883], [6.9962969], [280.5413004], [...</td>\n      <td>1.223731e+03</td>\n      <td>801.290892</td>\n      <td>0.969708</td>\n    </tr>\n    <tr>\n      <th>3</th>\n      <td>4</td>\n      <td>[[0.2485132], [-0.7408796], [1.2982121], [-0.3...</td>\n      <td>[[-65.3077043], [4.3584862], [144.9247506], [5...</td>\n      <td>6.175317e+02</td>\n      <td>393.925587</td>\n      <td>0.556117</td>\n    </tr>\n    <tr>\n      <th>4</th>\n      <td>5</td>\n      <td>[[0.2299616], [-0.737101], [1.3503136], [-0.28...</td>\n      <td>[[-26.5023404], [5.3980718], [74.4307578], [31...</td>\n      <td>3.282363e+02</td>\n      <td>277.401487</td>\n      <td>0.345516</td>\n    </tr>\n    <tr>\n      <th>5</th>\n      <td>6</td>\n      <td>[[0.221614], [-0.7344063], [1.3767358], [-0.26...</td>\n      <td>[[-11.9251416], [3.8496135], [37.7459485], [19...</td>\n      <td>1.801436e+02</td>\n      <td>241.982516</td>\n      <td>0.241229</td>\n    </tr>\n    <tr>\n      <th>6</th>\n      <td>7</td>\n      <td>[[0.2182668], [-0.7323818], [1.3902125], [-0.2...</td>\n      <td>[[-4.7816337], [2.8920943], [19.252448], [11.9...</td>\n      <td>1.012746e+02</td>\n      <td>230.706106</td>\n      <td>0.193097</td>\n    </tr>\n    <tr>\n      <th>7</th>\n      <td>8</td>\n      <td>[[0.2170641], [-0.7309279], [1.3970808], [-0.2...</td>\n      <td>[[-1.7182019], [2.0769661], [9.8118288], [7.32...</td>\n      <td>5.803867e+01</td>\n      <td>226.980485</td>\n      <td>0.172372</td>\n    </tr>\n    <tr>\n      <th>8</th>\n      <td>9</td>\n      <td>[[0.216781], [-0.7299069], [1.4005936], [-0.25...</td>\n      <td>[[-0.4044064], [1.458607], [5.018348], [4.4801...</td>\n      <td>3.378214e+01</td>\n      <td>225.712055</td>\n      <td>0.163720</td>\n    </tr>\n    <tr>\n      <th>9</th>\n      <td>10</td>\n      <td>[[0.2168469], [-0.7292088], [1.4023944], [-0.2...</td>\n      <td>[[0.094189], [0.9972407], [2.5725711], [2.7408...</td>\n      <td>1.991347e+01</td>\n      <td>225.269537</td>\n      <td>0.160066</td>\n    </tr>\n    <tr>\n      <th>10</th>\n      <td>11</td>\n      <td>[[0.2170168], [-0.7287417], [1.4033202], [-0.2...</td>\n      <td>[[0.2427256], [0.6673682], [1.3225232], [1.677...</td>\n      <td>1.185984e+01</td>\n      <td>225.112055</td>\n      <td>0.158467</td>\n    </tr>\n    <tr>\n      <th>11</th>\n      <td>12</td>\n      <td>[[0.2171916], [-0.7284346], [1.4037972], [-0.2...</td>\n      <td>[[0.2496098], [0.438689], [0.6814076], [1.0281...</td>\n      <td>7.123102e+00</td>\n      <td>225.055091</td>\n      <td>0.157736</td>\n    </tr>\n    <tr>\n      <th>12</th>\n      <td>13</td>\n      <td>[[0.2173376], [-0.7282356], [1.4040433], [-0.2...</td>\n      <td>[[0.2086518], [0.2843031], [0.3516732], [0.631...</td>\n      <td>4.307995e+00</td>\n      <td>225.034208</td>\n      <td>0.157389</td>\n    </tr>\n    <tr>\n      <th>13</th>\n      <td>14</td>\n      <td>[[0.2174489], [-0.728108], [1.4041705], [-0.24...</td>\n      <td>[[0.1589203], [0.1821937], [0.1816222], [0.388...</td>\n      <td>2.620559e+00</td>\n      <td>225.026466</td>\n      <td>0.157218</td>\n    </tr>\n    <tr>\n      <th>14</th>\n      <td>15</td>\n      <td>[[0.2175293], [-0.728027], [1.4042361], [-0.24...</td>\n      <td>[[0.1148876], [0.115744], [0.0937395], [0.2390...</td>\n      <td>1.601900e+00</td>\n      <td>225.023568</td>\n      <td>0.157132</td>\n    </tr>\n    <tr>\n      <th>15</th>\n      <td>16</td>\n      <td>[[0.2175855], [-0.7279759], [1.4042699], [-0.2...</td>\n      <td>[[0.0803612], [0.0730402], [0.0482626], [0.147...</td>\n      <td>9.833251e-01</td>\n      <td>225.022474</td>\n      <td>0.157088</td>\n    </tr>\n    <tr>\n      <th>16</th>\n      <td>17</td>\n      <td>[[0.217624], [-0.7279438], [1.4042872], [-0.24...</td>\n      <td>[[0.0549645], [0.0458623], [0.0247263], [0.091...</td>\n      <td>6.058225e-01</td>\n      <td>225.022059</td>\n      <td>0.157066</td>\n    </tr>\n    <tr>\n      <th>17</th>\n      <td>18</td>\n      <td>[[0.2176499], [-0.7279237], [1.404296], [-0.24...</td>\n      <td>[[0.036996], [0.0286937], [0.0125626], [0.0566...</td>\n      <td>3.744542e-01</td>\n      <td>225.021900</td>\n      <td>0.157054</td>\n    </tr>\n    <tr>\n      <th>18</th>\n      <td>19</td>\n      <td>[[0.2176671], [-0.7279112], [1.4043004], [-0.2...</td>\n      <td>[[0.0246071], [0.0179085], [0.0062984], [0.035...</td>\n      <td>2.321215e-01</td>\n      <td>225.021839</td>\n      <td>0.157048</td>\n    </tr>\n    <tr>\n      <th>19</th>\n      <td>20</td>\n      <td>[[0.2176785], [-0.7279034], [1.4043026], [-0.2...</td>\n      <td>[[0.016219], [0.011161], [0.0030931], [0.02189...</td>\n      <td>1.442728e-01</td>\n      <td>225.021815</td>\n      <td>0.157045</td>\n    </tr>\n    <tr>\n      <th>20</th>\n      <td>21</td>\n      <td>[[0.2176859], [-0.7278985], [1.4043036], [-0.2...</td>\n      <td>[[0.0106148], [0.0069515], [0.0014699], [0.013...</td>\n      <td>8.989130e-02</td>\n      <td>225.021806</td>\n      <td>0.157043</td>\n    </tr>\n    <tr>\n      <th>21</th>\n      <td>22</td>\n      <td>[[0.2176907], [-0.7278955], [1.404304], [-0.24...</td>\n      <td>[[0.006908], [0.0043301], [0.0006613], [0.0085...</td>\n      <td>5.613650e-02</td>\n      <td>225.021802</td>\n      <td>0.157043</td>\n    </tr>\n    <tr>\n      <th>22</th>\n      <td>23</td>\n      <td>[[0.2176939], [-0.7278936], [1.4043042], [-0.2...</td>\n      <td>[[0.0044752], [0.0026991], [0.0002686], [0.005...</td>\n      <td>3.513260e-02</td>\n      <td>225.021801</td>\n      <td>0.157042</td>\n    </tr>\n    <tr>\n      <th>23</th>\n      <td>24</td>\n      <td>[[0.2176959], [-0.7278924], [1.4043043], [-0.2...</td>\n      <td>[[0.0028884], [0.0016845], [8.56e-05], [0.0033...</td>\n      <td>2.203270e-02</td>\n      <td>225.021800</td>\n      <td>0.157042</td>\n    </tr>\n    <tr>\n      <th>24</th>\n      <td>25</td>\n      <td>[[0.2176972], [-0.7278916], [1.4043043], [-0.2...</td>\n      <td>[[0.0018585], [0.001053], [6.2e-06], [0.002101...</td>\n      <td>1.384460e-02</td>\n      <td>225.021800</td>\n      <td>0.157042</td>\n    </tr>\n    <tr>\n      <th>25</th>\n      <td>26</td>\n      <td>[[0.217698], [-0.7278912], [1.4043043], [-0.24...</td>\n      <td>[[0.0011928], [0.0006596], [-2.36e-05], [0.001...</td>\n      <td>8.716000e-03</td>\n      <td>225.021800</td>\n      <td>0.157042</td>\n    </tr>\n    <tr>\n      <th>26</th>\n      <td>27</td>\n      <td>[[0.2176986], [-0.7278909], [1.4043043], [-0.2...</td>\n      <td>[[0.0007638], [0.0004141], [-3.09e-05], [0.000...</td>\n      <td>5.497300e-03</td>\n      <td>225.021800</td>\n      <td>0.157042</td>\n    </tr>\n    <tr>\n      <th>27</th>\n      <td>28</td>\n      <td>[[0.2176989], [-0.7278907], [1.4043042], [-0.2...</td>\n      <td>[[0.0004882], [0.0002606], [-2.89e-05], [0.000...</td>\n      <td>3.473500e-03</td>\n      <td>225.021800</td>\n      <td>0.157042</td>\n    </tr>\n    <tr>\n      <th>28</th>\n      <td>29</td>\n      <td>[[0.2176991], [-0.7278906], [1.4043042], [-0.2...</td>\n      <td>[[0.0003116], [0.0001645], [-2.37e-05], [0.000...</td>\n      <td>2.198500e-03</td>\n      <td>225.021800</td>\n      <td>0.157042</td>\n    </tr>\n    <tr>\n      <th>29</th>\n      <td>30</td>\n      <td>[[0.2176993], [-0.7278905], [1.4043042], [-0.2...</td>\n      <td>[[0.0001985], [0.0001041], [-1.83e-05], [0.000...</td>\n      <td>1.394000e-03</td>\n      <td>225.021800</td>\n      <td>0.157042</td>\n    </tr>\n    <tr>\n      <th>30</th>\n      <td>31</td>\n      <td>[[0.2176994], [-0.7278905], [1.4043042], [-0.2...</td>\n      <td>[[0.0001264], [6.61e-05], [-1.35e-05], [0.0001...</td>\n      <td>8.853000e-04</td>\n      <td>225.021800</td>\n      <td>0.157042</td>\n    </tr>\n    <tr>\n      <th>31</th>\n      <td>32</td>\n      <td>[[0.2176994], [-0.7278905], [1.4043042], [-0.2...</td>\n      <td>[[8.03e-05], [4.2e-05], [-9.7e-06], [8.3e-05],...</td>\n      <td>5.632000e-04</td>\n      <td>225.021800</td>\n      <td>0.157042</td>\n    </tr>\n    <tr>\n      <th>32</th>\n      <td>33</td>\n      <td>[[0.2176994], [-0.7278904], [1.4043042], [-0.2...</td>\n      <td>[[5.1e-05], [2.68e-05], [-6.8e-06], [5.25e-05]...</td>\n      <td>3.589000e-04</td>\n      <td>225.021800</td>\n      <td>0.157042</td>\n    </tr>\n    <tr>\n      <th>33</th>\n      <td>34</td>\n      <td>[[0.2176995], [-0.7278904], [1.4043042], [-0.2...</td>\n      <td>[[3.24e-05], [1.72e-05], [-4.7e-06], [3.32e-05...</td>\n      <td>2.290000e-04</td>\n      <td>225.021800</td>\n      <td>0.157042</td>\n    </tr>\n    <tr>\n      <th>34</th>\n      <td>35</td>\n      <td>[[0.2176995], [-0.7278904], [1.4043042], [-0.2...</td>\n      <td>[[2.05e-05], [1.1e-05], [-3.3e-06], [2.1e-05],...</td>\n      <td>1.464000e-04</td>\n      <td>225.021800</td>\n      <td>0.157042</td>\n    </tr>\n    <tr>\n      <th>35</th>\n      <td>36</td>\n      <td>[[0.2176995], [-0.7278904], [1.4043042], [-0.2...</td>\n      <td>[[1.3e-05], [7.1e-06], [-2.2e-06], [1.33e-05],...</td>\n      <td>9.370000e-05</td>\n      <td>225.021800</td>\n      <td>0.157042</td>\n    </tr>\n    <tr>\n      <th>36</th>\n      <td>37</td>\n      <td>[[0.2176995], [-0.7278904], [1.4043042], [-0.2...</td>\n      <td>[[8.2e-06], [4.6e-06], [-1.5e-06], [8.4e-06], ...</td>\n      <td>6.010000e-05</td>\n      <td>225.021800</td>\n      <td>0.157042</td>\n    </tr>\n    <tr>\n      <th>37</th>\n      <td>38</td>\n      <td>[[0.2176995], [-0.7278904], [1.4043042], [-0.2...</td>\n      <td>[[5.2e-06], [3e-06], [-1e-06], [5.4e-06], [-3....</td>\n      <td>3.860000e-05</td>\n      <td>225.021800</td>\n      <td>0.157042</td>\n    </tr>\n    <tr>\n      <th>38</th>\n      <td>39</td>\n      <td>[[0.2176995], [-0.7278904], [1.4043042], [-0.2...</td>\n      <td>[[3.3e-06], [1.9e-06], [-7e-07], [3.4e-06], [-...</td>\n      <td>2.480000e-05</td>\n      <td>225.021800</td>\n      <td>0.157042</td>\n    </tr>\n    <tr>\n      <th>39</th>\n      <td>40</td>\n      <td>[[0.2176995], [-0.7278904], [1.4043042], [-0.2...</td>\n      <td>[[2.1e-06], [1.2e-06], [-4e-07], [2.2e-06], [-...</td>\n      <td>1.600000e-05</td>\n      <td>225.021800</td>\n      <td>0.157042</td>\n    </tr>\n    <tr>\n      <th>40</th>\n      <td>41</td>\n      <td>[[0.2176995], [-0.7278904], [1.4043042], [-0.2...</td>\n      <td>[[1.3e-06], [8e-07], [-3e-07], [1.4e-06], [-1e...</td>\n      <td>1.030000e-05</td>\n      <td>225.021800</td>\n      <td>0.157042</td>\n    </tr>\n    <tr>\n      <th>41</th>\n      <td>42</td>\n      <td>[[0.2176995], [-0.7278904], [1.4043042], [-0.2...</td>\n      <td>[[8e-07], [5e-07], [-2e-07], [9e-07], [-7e-07]...</td>\n      <td>6.700000e-06</td>\n      <td>225.021800</td>\n      <td>0.157042</td>\n    </tr>\n    <tr>\n      <th>42</th>\n      <td>43</td>\n      <td>[[0.2176995], [-0.7278904], [1.4043042], [-0.2...</td>\n      <td>[[5e-07], [3e-07], [-1e-07], [6e-07], [-4e-07]...</td>\n      <td>4.300000e-06</td>\n      <td>225.021800</td>\n      <td>0.157042</td>\n    </tr>\n    <tr>\n      <th>43</th>\n      <td>44</td>\n      <td>[[0.2176995], [-0.7278904], [1.4043042], [-0.2...</td>\n      <td>[[3e-07], [2e-07], [-1e-07], [4e-07], [-3e-07]...</td>\n      <td>2.800000e-06</td>\n      <td>225.021800</td>\n      <td>0.157042</td>\n    </tr>\n    <tr>\n      <th>44</th>\n      <td>45</td>\n      <td>[[0.2176995], [-0.7278904], [1.4043042], [-0.2...</td>\n      <td>[[2e-07], [1e-07], [-1e-07], [2e-07], [-2e-07]...</td>\n      <td>1.800000e-06</td>\n      <td>225.021800</td>\n      <td>0.157042</td>\n    </tr>\n    <tr>\n      <th>45</th>\n      <td>46</td>\n      <td>[[0.2176995], [-0.7278904], [1.4043042], [-0.2...</td>\n      <td>[[1e-07], [1e-07], [-0.0], [1e-07], [-1e-07], ...</td>\n      <td>1.200000e-06</td>\n      <td>225.021800</td>\n      <td>0.157042</td>\n    </tr>\n    <tr>\n      <th>46</th>\n      <td>47</td>\n      <td>[[0.2176995], [-0.7278904], [1.4043042], [-0.2...</td>\n      <td>[[1e-07], [1e-07], [-0.0], [1e-07], [-1e-07], ...</td>\n      <td>8.000000e-07</td>\n      <td>225.021800</td>\n      <td>0.157042</td>\n    </tr>\n    <tr>\n      <th>47</th>\n      <td>48</td>\n      <td>[[0.2176995], [-0.7278904], [1.4043042], [-0.2...</td>\n      <td>[[1e-07], [0.0], [-0.0], [1e-07], [-1e-07], [-...</td>\n      <td>5.000000e-07</td>\n      <td>225.021800</td>\n      <td>0.157042</td>\n    </tr>\n    <tr>\n      <th>48</th>\n      <td>49</td>\n      <td>[[0.2176995], [-0.7278904], [1.4043042], [-0.2...</td>\n      <td>[[0.0], [0.0], [-0.0], [0.0], [-0.0], [-0.0], ...</td>\n      <td>3.000000e-07</td>\n      <td>225.021800</td>\n      <td>0.157042</td>\n    </tr>\n    <tr>\n      <th>49</th>\n      <td>50</td>\n      <td>[[0.2176995], [-0.7278904], [1.4043042], [-0.2...</td>\n      <td>[[0.0], [0.0], [-0.0], [0.0], [-0.0], [-0.0], ...</td>\n      <td>2.000000e-07</td>\n      <td>225.021800</td>\n      <td>0.157042</td>\n    </tr>\n    <tr>\n      <th>50</th>\n      <td>51</td>\n      <td>[[0.2176995], [-0.7278904], [1.4043042], [-0.2...</td>\n      <td>[[0.0], [0.0], [-0.0], [0.0], [-0.0], [-0.0], ...</td>\n      <td>1.000000e-07</td>\n      <td>225.021800</td>\n      <td>0.157042</td>\n    </tr>\n    <tr>\n      <th>51</th>\n      <td>52</td>\n      <td>[[0.2176995], [-0.7278904], [1.4043042], [-0.2...</td>\n      <td>[[0.0], [0.0], [-0.0], [0.0], [-0.0], [-0.0], ...</td>\n      <td>1.000000e-07</td>\n      <td>225.021800</td>\n      <td>0.157042</td>\n    </tr>\n    <tr>\n      <th>52</th>\n      <td>53</td>\n      <td>[[0.2176995], [-0.7278904], [1.4043042], [-0.2...</td>\n      <td>[[0.0], [0.0], [-0.0], [0.0], [-0.0], [-0.0], ...</td>\n      <td>1.000000e-07</td>\n      <td>225.021800</td>\n      <td>0.157042</td>\n    </tr>\n    <tr>\n      <th>53</th>\n      <td>54</td>\n      <td>[[0.2176995], [-0.7278904], [1.4043042], [-0.2...</td>\n      <td>[[0.0], [0.0], [-0.0], [0.0], [-0.0], [-0.0], ...</td>\n      <td>0.000000e+00</td>\n      <td>225.021800</td>\n      <td>0.157042</td>\n    </tr>\n    <tr>\n      <th>54</th>\n      <td>55</td>\n      <td>[[0.2176995], [-0.7278904], [1.4043042], [-0.2...</td>\n      <td>[[0.0], [0.0], [-0.0], [0.0], [-0.0], [-0.0], ...</td>\n      <td>0.000000e+00</td>\n      <td>225.021800</td>\n      <td>0.157042</td>\n    </tr>\n    <tr>\n      <th>55</th>\n      <td>56</td>\n      <td>[[0.2176995], [-0.7278904], [1.4043042], [-0.2...</td>\n      <td>[[0.0], [0.0], [-0.0], [0.0], [-0.0], [-0.0], ...</td>\n      <td>0.000000e+00</td>\n      <td>225.021800</td>\n      <td>0.157042</td>\n    </tr>\n    <tr>\n      <th>56</th>\n      <td>57</td>\n      <td>[[0.2176995], [-0.7278904], [1.4043042], [-0.2...</td>\n      <td>[[0.0], [0.0], [-0.0], [0.0], [-0.0], [-0.0], ...</td>\n      <td>0.000000e+00</td>\n      <td>225.021800</td>\n      <td>0.157042</td>\n    </tr>\n    <tr>\n      <th>57</th>\n      <td>58</td>\n      <td>[[0.2176995], [-0.7278904], [1.4043042], [-0.2...</td>\n      <td>[[0.0], [0.0], [-0.0], [0.0], [-0.0], [-0.0], ...</td>\n      <td>0.000000e+00</td>\n      <td>225.021800</td>\n      <td>0.157042</td>\n    </tr>\n  </tbody>\n</table>\n</div>"
     },
     "execution_count": 151,
     "metadata": {},
     "output_type": "execute_result"
    }
   ],
   "source": [
    "df"
   ],
   "metadata": {
    "collapsed": false,
    "pycharm": {
     "name": "#%%\n"
    }
   }
  },
  {
   "cell_type": "markdown",
   "source": [
    "##### Parte 3 - SGD"
   ],
   "metadata": {
    "collapsed": false,
    "pycharm": {
     "name": "#%% md\n"
    }
   }
  },
  {
   "cell_type": "code",
   "execution_count": 152,
   "outputs": [],
   "source": [
    "lr_list = [0.0005, 0.005, 0.01]\n",
    "x_0 = np.zeros_like(x_true)\n",
    "kmax = 1000"
   ],
   "metadata": {
    "collapsed": false,
    "pycharm": {
     "name": "#%%\n"
    }
   }
  },
  {
   "cell_type": "code",
   "execution_count": 153,
   "outputs": [
    {
     "name": "stdout",
     "output_type": "stream",
     "text": [
      "LR 0.0005-------------\n",
      "Error:  0.7623288\n",
      "F*:  225.1831423\n",
      "e_n:  0.1561876\n",
      "LR 0.005-------------\n",
      "Error:  8.098707\n",
      "F*:  283.2649058\n",
      "e_n:  0.2858526\n",
      "LR 0.01-------------\n",
      "Error:  2.4908723\n",
      "F*:  427.894943\n",
      "e_n:  0.4747276\n"
     ]
    },
    {
     "data": {
      "text/plain": "<Figure size 432x288 with 1 Axes>",
      "image/png": "[encoded data removed]"
     },
     "metadata": {
      "needs_background": "light"
     },
     "output_type": "display_data"
    }
   ],
   "source": [
    "for lr in lr_list:\n",
    "    df = computeGD(path + './datos.pickle', x_0, kmax, lr, 1)\n",
    "    print('LR {}-------------'.format(lr))\n",
    "    print('Error: ',df.iloc[-1, -3])\n",
    "    print('F*: ',df.iloc[-1, -2])\n",
    "    print('e_n: ', df.iloc[-1, -1])\n",
    "\n",
    "    plt.plot(np.arange(1,21), df.loc[:19, 'Error'], label = 'LR: {}'.format(lr))\n",
    "\n",
    "plt.title('SGD')\n",
    "plt.xlabel('Iters')\n",
    "plt.ylabel('Error')\n",
    "plt.legend()\n",
    "plt.show()"
   ],
   "metadata": {
    "collapsed": false,
    "pycharm": {
     "name": "#%%\n"
    }
   }
  },
  {
   "cell_type": "code",
   "execution_count": 154,
   "outputs": [
    {
     "data": {
      "text/plain": "     Iter                                                 Xn  \\\n0       1  [[0.2522748], [-0.7424935], [1.3349916], [-0.1...   \n1       2  [[0.2593048], [-0.8490338], [1.4144444], [-0.2...   \n2       3  [[0.2430925], [-0.6837654], [1.3634969], [-0.2...   \n3       4  [[0.2127179], [-0.7324392], [1.4206069], [-0.2...   \n4       5  [[0.2561245], [-0.7156466], [1.4517949], [-0.2...   \n..    ...                                                ...   \n995   996  [[0.2383325], [-0.6391685], [1.3737924], [-0.1...   \n996   997  [[0.2251467], [-0.6508922], [1.3503288], [-0.2...   \n997   998  [[0.2584308], [-0.7324542], [1.3657262], [-0.3...   \n998   999  [[0.1501955], [-0.7113861], [1.4362772], [-0.2...   \n999  1000  [[0.1812154], [-0.7495406], [1.3805737], [-0.2...   \n\n                                                    Pk      Error          F*  \\\n0    [[1.1913024], [-1.0809967], [1.3246568], [1.58...  17.692742  410.193189   \n1    [[-0.138106], [-0.0473764], [-0.0168659], [-0....   2.429286  452.749771   \n2    [[0.6558097], [-0.9275868], [0.6932371], [-0.1...   9.039074  423.142869   \n3    [[-0.020605], [-0.0668082], [-0.1211998], [0.0...   0.859460  466.099725   \n4    [[-2.0171949], [0.6653497], [-0.2170056], [-1....  10.258574  434.062344   \n..                                                 ...        ...         ...   \n995  [[-0.0357712], [-0.0127971], [0.0108665], [0.0...   0.343801  420.050440   \n996  [[-1.3593501], [-0.1331014], [0.1535549], [-0....   8.800802  507.525066   \n997  [[0.1057782], [-0.2152221], [0.0201342], [-0.4...   2.157811  426.519928   \n998  [[0.0467379], [-0.0028866], [-0.0045382], [0.0...   0.296432  468.960537   \n999  [[-0.0377603], [0.0554803], [-0.0494415], [-0....   2.490872  427.894943   \n\n          e_n  \n0    0.473603  \n1    0.537811  \n2    0.462815  \n3    0.488642  \n4    0.450624  \n..        ...  \n995  0.473109  \n996  0.573466  \n997  0.471962  \n998  0.496206  \n999  0.474728  \n\n[1000 rows x 6 columns]",
      "text/html": "<div>\n<style scoped>\n    .dataframe tbody tr th:only-of-type {\n        vertical-align: middle;\n    }\n\n    .dataframe tbody tr th {\n        vertical-align: top;\n    }\n\n    .dataframe thead th {\n        text-align: right;\n    }\n</style>\n<table border=\"1\" class=\"dataframe\">\n  <thead>\n    <tr style=\"text-align: right;\">\n      <th></th>\n      <th>Iter</th>\n      <th>Xn</th>\n      <th>Pk</th>\n      <th>Error</th>\n      <th>F*</th>\n      <th>e_n</th>\n    </tr>\n  </thead>\n  <tbody>\n    <tr>\n      <th>0</th>\n      <td>1</td>\n      <td>[[0.2522748], [-0.7424935], [1.3349916], [-0.1...</td>\n      <td>[[1.1913024], [-1.0809967], [1.3246568], [1.58...</td>\n      <td>17.692742</td>\n      <td>410.193189</td>\n      <td>0.473603</td>\n    </tr>\n    <tr>\n      <th>1</th>\n      <td>2</td>\n      <td>[[0.2593048], [-0.8490338], [1.4144444], [-0.2...</td>\n      <td>[[-0.138106], [-0.0473764], [-0.0168659], [-0....</td>\n      <td>2.429286</td>\n      <td>452.749771</td>\n      <td>0.537811</td>\n    </tr>\n    <tr>\n      <th>2</th>\n      <td>3</td>\n      <td>[[0.2430925], [-0.6837654], [1.3634969], [-0.2...</td>\n      <td>[[0.6558097], [-0.9275868], [0.6932371], [-0.1...</td>\n      <td>9.039074</td>\n      <td>423.142869</td>\n      <td>0.462815</td>\n    </tr>\n    <tr>\n      <th>3</th>\n      <td>4</td>\n      <td>[[0.2127179], [-0.7324392], [1.4206069], [-0.2...</td>\n      <td>[[-0.020605], [-0.0668082], [-0.1211998], [0.0...</td>\n      <td>0.859460</td>\n      <td>466.099725</td>\n      <td>0.488642</td>\n    </tr>\n    <tr>\n      <th>4</th>\n      <td>5</td>\n      <td>[[0.2561245], [-0.7156466], [1.4517949], [-0.2...</td>\n      <td>[[-2.0171949], [0.6653497], [-0.2170056], [-1....</td>\n      <td>10.258574</td>\n      <td>434.062344</td>\n      <td>0.450624</td>\n    </tr>\n    <tr>\n      <th>...</th>\n      <td>...</td>\n      <td>...</td>\n      <td>...</td>\n      <td>...</td>\n      <td>...</td>\n      <td>...</td>\n    </tr>\n    <tr>\n      <th>995</th>\n      <td>996</td>\n      <td>[[0.2383325], [-0.6391685], [1.3737924], [-0.1...</td>\n      <td>[[-0.0357712], [-0.0127971], [0.0108665], [0.0...</td>\n      <td>0.343801</td>\n      <td>420.050440</td>\n      <td>0.473109</td>\n    </tr>\n    <tr>\n      <th>996</th>\n      <td>997</td>\n      <td>[[0.2251467], [-0.6508922], [1.3503288], [-0.2...</td>\n      <td>[[-1.3593501], [-0.1331014], [0.1535549], [-0....</td>\n      <td>8.800802</td>\n      <td>507.525066</td>\n      <td>0.573466</td>\n    </tr>\n    <tr>\n      <th>997</th>\n      <td>998</td>\n      <td>[[0.2584308], [-0.7324542], [1.3657262], [-0.3...</td>\n      <td>[[0.1057782], [-0.2152221], [0.0201342], [-0.4...</td>\n      <td>2.157811</td>\n      <td>426.519928</td>\n      <td>0.471962</td>\n    </tr>\n    <tr>\n      <th>998</th>\n      <td>999</td>\n      <td>[[0.1501955], [-0.7113861], [1.4362772], [-0.2...</td>\n      <td>[[0.0467379], [-0.0028866], [-0.0045382], [0.0...</td>\n      <td>0.296432</td>\n      <td>468.960537</td>\n      <td>0.496206</td>\n    </tr>\n    <tr>\n      <th>999</th>\n      <td>1000</td>\n      <td>[[0.1812154], [-0.7495406], [1.3805737], [-0.2...</td>\n      <td>[[-0.0377603], [0.0554803], [-0.0494415], [-0....</td>\n      <td>2.490872</td>\n      <td>427.894943</td>\n      <td>0.474728</td>\n    </tr>\n  </tbody>\n</table>\n<p>1000 rows × 6 columns</p>\n</div>"
     },
     "execution_count": 154,
     "metadata": {},
     "output_type": "execute_result"
    }
   ],
   "source": [
    "df"
   ],
   "metadata": {
    "collapsed": false,
    "pycharm": {
     "name": "#%%\n"
    }
   }
  },
  {
   "cell_type": "markdown",
   "source": [
    "##### Parte 4 - MiniBatch-GD"
   ],
   "metadata": {
    "collapsed": false,
    "pycharm": {
     "name": "#%% md\n"
    }
   }
  },
  {
   "cell_type": "code",
   "execution_count": 155,
   "outputs": [],
   "source": [
    "lr_list = [0.0005, 0.005, 0.01]\n",
    "mb_list = [25, 50, 100]\n",
    "x_0 = np.zeros_like(x_true)\n",
    "kmax = 1000"
   ],
   "metadata": {
    "collapsed": false,
    "pycharm": {
     "name": "#%%\n"
    }
   }
  },
  {
   "cell_type": "code",
   "execution_count": 156,
   "outputs": [
    {
     "name": "stdout",
     "output_type": "stream",
     "text": [
      "LR 0.0005-------------\n",
      "MB 25-------------\n",
      "Error:  28.1598911\n",
      "F*:  225.1917208\n",
      "e_n:  0.1580921\n",
      "Iters:  1000\n",
      "MB 50-------------\n",
      "Error:  29.3353591\n",
      "F*:  225.1685129\n",
      "e_n:  0.1591237\n",
      "Iters:  1000\n",
      "MB 100-------------\n",
      "Error:  42.6783553\n",
      "F*:  225.1674189\n",
      "e_n:  0.155477\n",
      "Iters:  1000\n"
     ]
    },
    {
     "data": {
      "text/plain": "<Figure size 432x288 with 1 Axes>",
      "image/png": "[encoded data removed]"
     },
     "metadata": {
      "needs_background": "light"
     },
     "output_type": "display_data"
    },
    {
     "name": "stdout",
     "output_type": "stream",
     "text": [
      "LR 0.005-------------\n",
      "MB 25-------------\n",
      "Error:  29.803456\n",
      "F*:  307.9033878\n",
      "e_n:  0.3236883\n",
      "Iters:  1000\n",
      "MB 50-------------\n",
      "Error:  34.4599618\n",
      "F*:  297.0192134\n",
      "e_n:  0.2970079\n",
      "Iters:  1000\n",
      "MB 100-------------\n",
      "Error:  89.0399498\n",
      "F*:  363.6156148\n",
      "e_n:  0.4075882\n",
      "Iters:  1000\n"
     ]
    },
    {
     "data": {
      "text/plain": "<Figure size 432x288 with 1 Axes>",
      "image/png": "[encoded data removed]"
     },
     "metadata": {
      "needs_background": "light"
     },
     "output_type": "display_data"
    },
    {
     "name": "stdout",
     "output_type": "stream",
     "text": [
      "LR 0.01-------------\n",
      "MB 25-------------\n",
      "Error:  41.0048685\n",
      "F*:  550.9378855\n",
      "e_n:  0.5835332\n",
      "Iters:  1000\n",
      "MB 50-------------\n",
      "Error:  95.378395\n",
      "F*:  1031.9472264\n",
      "e_n:  0.8702966\n",
      "Iters:  1000\n",
      "MB 100-------------\n",
      "Error:  145282.090332\n",
      "F*:  1235599481.4316168\n",
      "e_n:  1098.35735\n",
      "Iters:  1000\n"
     ]
    },
    {
     "data": {
      "text/plain": "<Figure size 432x288 with 1 Axes>",
      "image/png": "[encoded data removed]"
     },
     "metadata": {
      "needs_background": "light"
     },
     "output_type": "display_data"
    }
   ],
   "source": [
    "for lr in lr_list:\n",
    "    print('LR {}-------------'.format(lr))\n",
    "    for mb in mb_list:\n",
    "        df = computeGD(path + './datos.pickle', x_0, kmax, lr, mb)\n",
    "        print('MB {}-------------'.format(mb))\n",
    "        print('Error: ',df.iloc[-1, -3])\n",
    "        print('F*: ',df.iloc[-1, -2])\n",
    "        print('e_n: ', df.iloc[-1, -1])\n",
    "        print('Iters: ', df.iloc[-1, 0])\n",
    "\n",
    "        plt.plot(np.arange(1,21), df.loc[:19, 'Error'], label = 'MB_size: {}'.format(mb))\n",
    "\n",
    "    plt.title('MB-GD LR = {}'.format(lr))\n",
    "    plt.xlabel('Iters')\n",
    "    plt.ylabel('Error')\n",
    "    plt.legend()\n",
    "    plt.show()"
   ],
   "metadata": {
    "collapsed": false,
    "pycharm": {
     "name": "#%%\n"
    }
   }
  },
  {
   "cell_type": "markdown",
   "source": [
    "#### Metodo de Newton"
   ],
   "metadata": {
    "collapsed": false,
    "pycharm": {
     "name": "#%% md\n"
    }
   }
  },
  {
   "cell_type": "markdown",
   "source": [
    "##### Parte 1 - GD con Backtracking line search"
   ],
   "metadata": {
    "collapsed": false,
    "pycharm": {
     "name": "#%% md\n"
    }
   }
  },
  {
   "cell_type": "code",
   "execution_count": 58,
   "outputs": [],
   "source": [
    "def evalRosenbrockFunction(x0):\n",
    "    x = x0[0, 0]\n",
    "    y = x0[1, 0]\n",
    "    rsb_function = '100*((y-x**2)**2) + (1 - x)**2'\n",
    "    result = eval(rsb_function, {}, {'x': x, 'y': y})\n",
    "    return result"
   ],
   "metadata": {
    "collapsed": false,
    "pycharm": {
     "name": "#%%\n"
    }
   }
  },
  {
   "cell_type": "code",
   "execution_count": 59,
   "outputs": [],
   "source": [
    "def backTrackingLineSearch(x_0, lr, ro, c):\n",
    "    x_k = x_0\n",
    "    condition = True\n",
    "\n",
    "    while condition:\n",
    "        gradient = getRosenbrockGradient(x_k)\n",
    "        x_k1 = x_k - (lr * gradient)\n",
    "\n",
    "        fk_1 = evalRosenbrockFunction(x_k1)\n",
    "        f_k = evalRosenbrockFunction(x_k)\n",
    "        rhs = c * lr * np.matmul(gradient.T, -gradient)\n",
    "\n",
    "        condition = (fk_1 > (f_k + rhs)) #the loop is the negated condition of the backtracking algorithm\n",
    "        lr *= ro\n",
    "\n",
    "    return lr"
   ],
   "metadata": {
    "collapsed": false,
    "pycharm": {
     "name": "#%%\n"
    }
   }
  },
  {
   "cell_type": "code",
   "execution_count": 60,
   "outputs": [],
   "source": [
    "def rosenbrock_backtracking(x_0, kmax, epsilon, alpha, ro, c, lr_type = 'bracktracking'):\n",
    "    k = 0\n",
    "    x_k = parseInput(x_0, reshape = True)\n",
    "    error = float('inf')\n",
    "    data = {'Iter': [], 'Xn': [], 'Pk': [], 'Error': []}\n",
    "\n",
    "    if lr_type == 'backtracking':\n",
    "        lr = backTrackingLineSearch(x_k, alpha, ro, c)\n",
    "    else: #else it would be constant\n",
    "        lr = alpha\n",
    "\n",
    "    while k < kmax and error > epsilon:\n",
    "        gradient = getRosenbrockGradient(x_k)\n",
    "        x_k1 = x_k - (lr * gradient)\n",
    "\n",
    "        x_k = x_k1\n",
    "        k += 1\n",
    "        error = np.linalg.norm(gradient, 2)\n",
    "\n",
    "        data['Iter'].append(k)\n",
    "        data['Xn'].append(x_k.round(7))\n",
    "        data['Pk'].append(-1 * gradient.round(7))\n",
    "        data['Error'].append(error.round(7))\n",
    "\n",
    "    results = pd.DataFrame(data)\n",
    "    return results, lr"
   ],
   "metadata": {
    "collapsed": false,
    "pycharm": {
     "name": "#%%\n"
    }
   }
  },
  {
   "cell_type": "code",
   "execution_count": 90,
   "outputs": [],
   "source": [
    "x_array = [np.array(['0', '0']), np.array(['0.6', '0.6']), np.array(['-0.5', '1']), np.array(['-1.2', '1'])]\n",
    "x_0 = x_array[3]\n",
    "epsilon = 0.00000001\n",
    "kmax = 1000\n",
    "\n",
    "alpha = 1 #0.0005\n",
    "ro = 0.5\n",
    "c = 0.0001"
   ],
   "metadata": {
    "collapsed": false,
    "pycharm": {
     "name": "#%%\n"
    }
   }
  },
  {
   "cell_type": "code",
   "execution_count": 91,
   "outputs": [
    {
     "name": "stdout",
     "output_type": "stream",
     "text": [
      "0.00048828125\n"
     ]
    },
    {
     "data": {
      "text/plain": "     Iter                           Xn                           Pk     Error\n995   996  [[-0.5348835], [0.2937681]]  [[1.4279042], [-1.5340892]]  2.095791\n996   997  [[-0.5341856], [0.2930193]]  [[1.4292308], [-1.5335454]]  2.096297\n997   998  [[-0.5334871], [0.2922708]]  [[1.4305596], [-1.5329986]]  2.096804\n998   999   [[-0.532788], [0.2915225]]  [[1.4318908], [-1.5324489]]  2.097310\n999  1000  [[-0.5320881], [0.2907745]]  [[1.4332242], [-1.5318962]]  2.097817",
      "text/html": "<div>\n<style scoped>\n    .dataframe tbody tr th:only-of-type {\n        vertical-align: middle;\n    }\n\n    .dataframe tbody tr th {\n        vertical-align: top;\n    }\n\n    .dataframe thead th {\n        text-align: right;\n    }\n</style>\n<table border=\"1\" class=\"dataframe\">\n  <thead>\n    <tr style=\"text-align: right;\">\n      <th></th>\n      <th>Iter</th>\n      <th>Xn</th>\n      <th>Pk</th>\n      <th>Error</th>\n    </tr>\n  </thead>\n  <tbody>\n    <tr>\n      <th>995</th>\n      <td>996</td>\n      <td>[[-0.5348835], [0.2937681]]</td>\n      <td>[[1.4279042], [-1.5340892]]</td>\n      <td>2.095791</td>\n    </tr>\n    <tr>\n      <th>996</th>\n      <td>997</td>\n      <td>[[-0.5341856], [0.2930193]]</td>\n      <td>[[1.4292308], [-1.5335454]]</td>\n      <td>2.096297</td>\n    </tr>\n    <tr>\n      <th>997</th>\n      <td>998</td>\n      <td>[[-0.5334871], [0.2922708]]</td>\n      <td>[[1.4305596], [-1.5329986]]</td>\n      <td>2.096804</td>\n    </tr>\n    <tr>\n      <th>998</th>\n      <td>999</td>\n      <td>[[-0.532788], [0.2915225]]</td>\n      <td>[[1.4318908], [-1.5324489]]</td>\n      <td>2.097310</td>\n    </tr>\n    <tr>\n      <th>999</th>\n      <td>1000</td>\n      <td>[[-0.5320881], [0.2907745]]</td>\n      <td>[[1.4332242], [-1.5318962]]</td>\n      <td>2.097817</td>\n    </tr>\n  </tbody>\n</table>\n</div>"
     },
     "execution_count": 91,
     "metadata": {},
     "output_type": "execute_result"
    }
   ],
   "source": [
    "df, lr = rosenbrock_backtracking(x_0, kmax, epsilon, alpha, ro, c, 'backtracking')\n",
    "print(lr)\n",
    "df.tail()"
   ],
   "metadata": {
    "collapsed": false,
    "pycharm": {
     "name": "#%%\n"
    }
   }
  },
  {
   "cell_type": "markdown",
   "source": [
    "##### Parte 2 - Metodo de newton con Backtracking line search"
   ],
   "metadata": {
    "collapsed": false,
    "pycharm": {
     "name": "#%% md\n"
    }
   }
  },
  {
   "cell_type": "code",
   "execution_count": 63,
   "outputs": [],
   "source": [
    "def getRosenbrockHessian(x0):\n",
    "    x = x0[0, 0]\n",
    "    y = x0[1, 0]\n",
    "    g1 = eval('1200*(x**2) - 400*(y) + 2', {}, {'x': x, 'y': y})\n",
    "    g2 = eval('-400*(x)', {}, {'x': x})\n",
    "    hessian = np.array([g1, g2, g2, 200], dtype = 'float').reshape(2,2)\n",
    "\n",
    "    return hessian"
   ],
   "metadata": {
    "collapsed": false,
    "pycharm": {
     "name": "#%%\n"
    }
   }
  },
  {
   "cell_type": "code",
   "execution_count": 64,
   "outputs": [],
   "source": [
    "def newton_optimization(x_0, kmax, epsilon, alpha, ro, c, lr_type = 'backtracking'):\n",
    "    k = 0\n",
    "    x_k = parseInput(x_0, reshape = True)\n",
    "    error = float('inf')\n",
    "    data = {'Iter': [], 'Xn': [], 'Pk': [], 'Error': []}\n",
    "\n",
    "    if lr_type == 'backtracking':\n",
    "        lr = backTrackingLineSearch(x_k, alpha, ro, c)\n",
    "    else: #else it would be constant\n",
    "        lr = alpha\n",
    "\n",
    "    while k < kmax and error > epsilon:\n",
    "        gradient = getRosenbrockGradient(x_k)\n",
    "        hessian = getRosenbrockHessian(x_k)\n",
    "        p_k = -1 * np.matmul(np.linalg.inv(hessian), gradient)\n",
    "        x_k1 = x_k + (lr * p_k)\n",
    "\n",
    "        x_k = x_k1\n",
    "        k += 1\n",
    "        error = np.linalg.norm(gradient, 2)\n",
    "\n",
    "        data['Iter'].append(k)\n",
    "        data['Xn'].append(x_k.round(7))\n",
    "        data['Pk'].append(p_k.round(7))\n",
    "        data['Error'].append(error.round(7))\n",
    "\n",
    "    results = pd.DataFrame(data)\n",
    "    return results, lr"
   ],
   "metadata": {
    "collapsed": false,
    "pycharm": {
     "name": "#%%\n"
    }
   }
  },
  {
   "cell_type": "code",
   "execution_count": 65,
   "outputs": [],
   "source": [
    "x_array = [np.array(['0', '0']), np.array(['0.6', '0.6']), np.array(['-0.5', '1']), np.array(['-1.2', '1'])]\n",
    "x_0 = x_array[0]\n",
    "epsilon = 0.00000001\n",
    "kmax = 3000\n",
    "\n",
    "alpha = 1\n",
    "ro = 0.5\n",
    "c = 0.0001"
   ],
   "metadata": {
    "collapsed": false,
    "pycharm": {
     "name": "#%%\n"
    }
   }
  },
  {
   "cell_type": "code",
   "execution_count": 66,
   "outputs": [
    {
     "name": "stdout",
     "output_type": "stream",
     "text": [
      "0.0625\n"
     ]
    },
    {
     "data": {
      "text/plain": "     Iter              Xn              Pk  Error\n339   340  [[1.0], [1.0]]  [[0.0], [0.0]]    0.0\n340   341  [[1.0], [1.0]]  [[0.0], [0.0]]    0.0\n341   342  [[1.0], [1.0]]  [[0.0], [0.0]]    0.0\n342   343  [[1.0], [1.0]]  [[0.0], [0.0]]    0.0\n343   344  [[1.0], [1.0]]  [[0.0], [0.0]]    0.0",
      "text/html": "<div>\n<style scoped>\n    .dataframe tbody tr th:only-of-type {\n        vertical-align: middle;\n    }\n\n    .dataframe tbody tr th {\n        vertical-align: top;\n    }\n\n    .dataframe thead th {\n        text-align: right;\n    }\n</style>\n<table border=\"1\" class=\"dataframe\">\n  <thead>\n    <tr style=\"text-align: right;\">\n      <th></th>\n      <th>Iter</th>\n      <th>Xn</th>\n      <th>Pk</th>\n      <th>Error</th>\n    </tr>\n  </thead>\n  <tbody>\n    <tr>\n      <th>339</th>\n      <td>340</td>\n      <td>[[1.0], [1.0]]</td>\n      <td>[[0.0], [0.0]]</td>\n      <td>0.0</td>\n    </tr>\n    <tr>\n      <th>340</th>\n      <td>341</td>\n      <td>[[1.0], [1.0]]</td>\n      <td>[[0.0], [0.0]]</td>\n      <td>0.0</td>\n    </tr>\n    <tr>\n      <th>341</th>\n      <td>342</td>\n      <td>[[1.0], [1.0]]</td>\n      <td>[[0.0], [0.0]]</td>\n      <td>0.0</td>\n    </tr>\n    <tr>\n      <th>342</th>\n      <td>343</td>\n      <td>[[1.0], [1.0]]</td>\n      <td>[[0.0], [0.0]]</td>\n      <td>0.0</td>\n    </tr>\n    <tr>\n      <th>343</th>\n      <td>344</td>\n      <td>[[1.0], [1.0]]</td>\n      <td>[[0.0], [0.0]]</td>\n      <td>0.0</td>\n    </tr>\n  </tbody>\n</table>\n</div>"
     },
     "execution_count": 66,
     "metadata": {},
     "output_type": "execute_result"
    }
   ],
   "source": [
    "df, lr = newton_optimization(x_0, kmax, epsilon, alpha, ro, c, 'backtracking')\n",
    "print(lr)\n",
    "df.tail()"
   ],
   "metadata": {
    "collapsed": false,
    "pycharm": {
     "name": "#%%\n"
    }
   }
  }
 ],
 "metadata": {
  "kernelspec": {
   "display_name": "Python 3",
   "language": "python",
   "name": "python3"
  },
  "language_info": {
   "codemirror_mode": {
    "name": "ipython",
    "version": 3
   },
   "file_extension": ".py",
   "mimetype": "text/x-python",
   "name": "python",
   "nbconvert_exporter": "python",
   "pygments_lexer": "ipython3",
   "version": "3.9.4"
  }
 },
 "nbformat": 4,
 "nbformat_minor": 5
}